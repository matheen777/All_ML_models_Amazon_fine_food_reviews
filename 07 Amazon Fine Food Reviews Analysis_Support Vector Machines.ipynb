{
 "cells": [
  {
   "cell_type": "markdown",
   "metadata": {},
   "source": [
    "# Amazon Fine Food Reviews Analysis\n",
    "\n",
    "\n",
    "Data Source: https://www.kaggle.com/snap/amazon-fine-food-reviews <br>\n",
    "\n",
    "EDA: https://nycdatascience.com/blog/student-works/amazon-fine-foods-visualization/\n",
    "\n",
    "\n",
    "The Amazon Fine Food Reviews dataset consists of reviews of fine foods from Amazon.<br>\n",
    "\n",
    "Number of reviews: 568,454<br>\n",
    "Number of users: 256,059<br>\n",
    "Number of products: 74,258<br>\n",
    "Timespan: Oct 1999 - Oct 2012<br>\n",
    "Number of Attributes/Columns in data: 10 \n",
    "\n",
    "Attribute Information:\n",
    "\n",
    "1. Id\n",
    "2. ProductId - unique identifier for the product\n",
    "3. UserId - unqiue identifier for the user\n",
    "4. ProfileName\n",
    "5. HelpfulnessNumerator - number of users who found the review helpful\n",
    "6. HelpfulnessDenominator - number of users who indicated whether they found the review helpful or not\n",
    "7. Score - rating between 1 and 5\n",
    "8. Time - timestamp for the review\n",
    "9. Summary - brief summary of the review\n",
    "10. Text - text of the review\n",
    "\n",
    "\n",
    "#### Objective:\n",
    "Given a review, determine whether the review is positive (rating of 4 or 5) or negative (rating of 1 or 2).\n",
    "\n",
    "<br>\n",
    "[Q] How to determine if a review is positive or negative?<br>\n",
    "<br> \n",
    "[Ans] We could use Score/Rating. A rating of 4 or 5 can be cosnidered as a positive review. A rating of 1 or 2 can be considered as negative one. A review of rating 3 is considered nuetral and such reviews are ignored from our analysis. This is an approximate and proxy way of determining the polarity (positivity/negativity) of a review.\n",
    "\n",
    "\n"
   ]
  },
  {
   "cell_type": "markdown",
   "metadata": {},
   "source": [
    "# [1]. Reading Data"
   ]
  },
  {
   "cell_type": "markdown",
   "metadata": {},
   "source": [
    "## [1.1] Loading the data\n",
    "\n",
    "The dataset is available in two forms\n",
    "1. .csv file\n",
    "2. SQLite Database\n",
    "\n",
    "In order to load the data, We have used the SQLITE dataset as it is easier to query the data and visualise the data efficiently.\n",
    "<br> \n",
    "\n",
    "Here as we only want to get the global sentiment of the recommendations (positive or negative), we will purposefully ignore all Scores equal to 3. If the score is above 3, then the recommendation wil be set to \"positive\". Otherwise, it will be set to \"negative\"."
   ]
  },
  {
   "cell_type": "code",
   "execution_count": 1,
   "metadata": {},
   "outputs": [],
   "source": [
    "%matplotlib inline\n",
    "import warnings\n",
    "warnings.filterwarnings(\"ignore\")\n",
    "\n",
    "\n",
    "import sqlite3\n",
    "import pandas as pd\n",
    "import numpy as np\n",
    "import nltk\n",
    "import string\n",
    "import matplotlib.pyplot as plt\n",
    "import seaborn as sns\n",
    "from sklearn.feature_extraction.text import TfidfTransformer\n",
    "from sklearn.feature_extraction.text import TfidfVectorizer\n",
    "\n",
    "from sklearn.feature_extraction.text import CountVectorizer\n",
    "from sklearn.metrics import confusion_matrix\n",
    "from sklearn import metrics\n",
    "from sklearn.metrics import roc_curve, auc\n",
    "from nltk.stem.porter import PorterStemmer\n",
    "\n",
    "import re\n",
    "# Tutorial about Python regular expressions: https://pymotw.com/2/re/\n",
    "import string\n",
    "from nltk.corpus import stopwords\n",
    "from nltk.stem import PorterStemmer\n",
    "from nltk.stem.wordnet import WordNetLemmatizer\n",
    "\n",
    "from gensim.models import Word2Vec\n",
    "from gensim.models import KeyedVectors\n",
    "import pickle\n",
    "\n",
    "from tqdm import tqdm\n",
    "import os"
   ]
  },
  {
   "cell_type": "code",
   "execution_count": 2,
   "metadata": {},
   "outputs": [
    {
     "name": "stdout",
     "output_type": "stream",
     "text": [
      "Number of data points in our data (100000, 10)\n"
     ]
    },
    {
     "data": {
      "text/html": [
       "<div>\n",
       "<style scoped>\n",
       "    .dataframe tbody tr th:only-of-type {\n",
       "        vertical-align: middle;\n",
       "    }\n",
       "\n",
       "    .dataframe tbody tr th {\n",
       "        vertical-align: top;\n",
       "    }\n",
       "\n",
       "    .dataframe thead th {\n",
       "        text-align: right;\n",
       "    }\n",
       "</style>\n",
       "<table border=\"1\" class=\"dataframe\">\n",
       "  <thead>\n",
       "    <tr style=\"text-align: right;\">\n",
       "      <th></th>\n",
       "      <th>Id</th>\n",
       "      <th>ProductId</th>\n",
       "      <th>UserId</th>\n",
       "      <th>ProfileName</th>\n",
       "      <th>HelpfulnessNumerator</th>\n",
       "      <th>HelpfulnessDenominator</th>\n",
       "      <th>Score</th>\n",
       "      <th>Time</th>\n",
       "      <th>Summary</th>\n",
       "      <th>Text</th>\n",
       "    </tr>\n",
       "  </thead>\n",
       "  <tbody>\n",
       "    <tr>\n",
       "      <th>0</th>\n",
       "      <td>1</td>\n",
       "      <td>B001E4KFG0</td>\n",
       "      <td>A3SGXH7AUHU8GW</td>\n",
       "      <td>delmartian</td>\n",
       "      <td>1</td>\n",
       "      <td>1</td>\n",
       "      <td>1</td>\n",
       "      <td>1303862400</td>\n",
       "      <td>Good Quality Dog Food</td>\n",
       "      <td>I have bought several of the Vitality canned d...</td>\n",
       "    </tr>\n",
       "    <tr>\n",
       "      <th>1</th>\n",
       "      <td>2</td>\n",
       "      <td>B00813GRG4</td>\n",
       "      <td>A1D87F6ZCVE5NK</td>\n",
       "      <td>dll pa</td>\n",
       "      <td>0</td>\n",
       "      <td>0</td>\n",
       "      <td>0</td>\n",
       "      <td>1346976000</td>\n",
       "      <td>Not as Advertised</td>\n",
       "      <td>Product arrived labeled as Jumbo Salted Peanut...</td>\n",
       "    </tr>\n",
       "    <tr>\n",
       "      <th>2</th>\n",
       "      <td>3</td>\n",
       "      <td>B000LQOCH0</td>\n",
       "      <td>ABXLMWJIXXAIN</td>\n",
       "      <td>Natalia Corres \"Natalia Corres\"</td>\n",
       "      <td>1</td>\n",
       "      <td>1</td>\n",
       "      <td>1</td>\n",
       "      <td>1219017600</td>\n",
       "      <td>\"Delight\" says it all</td>\n",
       "      <td>This is a confection that has been around a fe...</td>\n",
       "    </tr>\n",
       "  </tbody>\n",
       "</table>\n",
       "</div>"
      ],
      "text/plain": [
       "   Id   ProductId          UserId                      ProfileName  \\\n",
       "0   1  B001E4KFG0  A3SGXH7AUHU8GW                       delmartian   \n",
       "1   2  B00813GRG4  A1D87F6ZCVE5NK                           dll pa   \n",
       "2   3  B000LQOCH0   ABXLMWJIXXAIN  Natalia Corres \"Natalia Corres\"   \n",
       "\n",
       "   HelpfulnessNumerator  HelpfulnessDenominator  Score        Time  \\\n",
       "0                     1                       1      1  1303862400   \n",
       "1                     0                       0      0  1346976000   \n",
       "2                     1                       1      1  1219017600   \n",
       "\n",
       "                 Summary                                               Text  \n",
       "0  Good Quality Dog Food  I have bought several of the Vitality canned d...  \n",
       "1      Not as Advertised  Product arrived labeled as Jumbo Salted Peanut...  \n",
       "2  \"Delight\" says it all  This is a confection that has been around a fe...  "
      ]
     },
     "execution_count": 2,
     "metadata": {},
     "output_type": "execute_result"
    }
   ],
   "source": [
    "# using SQLite Table to read data.\n",
    "con = sqlite3.connect(r'C:\\Users\\hp\\Desktop\\AppliedAI\\ipython notes\\database.sqlite\\database.sqlite') \n",
    "\n",
    "# filtering only positive and negative reviews i.e. \n",
    "# not taking into consideration those reviews with Score=3\n",
    "# SELECT * FROM Reviews WHERE Score != 3 LIMIT 500000, will give top 500000 data points\n",
    "# you can change the number to any other number based on your computing power\n",
    "\n",
    "# filtered_data = pd.read_sql_query(\"\"\" SELECT * FROM Reviews WHERE Score != 3 LIMIT 500000\"\"\", con) \n",
    "# for tsne assignment you can take 5k data points\n",
    "\n",
    "filtered_data = pd.read_sql_query(\"\"\" SELECT * FROM Reviews WHERE Score != 3 LIMIT 100000\"\"\", con) \n",
    "\n",
    "# Give reviews with Score>3 a positive rating(1), and reviews with a score<3 a negative rating(0).\n",
    "def partition(x):\n",
    "    if x < 3:\n",
    "        return 0\n",
    "    return 1\n",
    "\n",
    "#changing reviews with score less than 3 to be positive and vice-versa\n",
    "actualScore = filtered_data['Score']\n",
    "positiveNegative = actualScore.map(partition) \n",
    "filtered_data['Score'] = positiveNegative\n",
    "print(\"Number of data points in our data\", filtered_data.shape)\n",
    "filtered_data.head(3)"
   ]
  },
  {
   "cell_type": "code",
   "execution_count": 3,
   "metadata": {},
   "outputs": [],
   "source": [
    "display = pd.read_sql_query(\"\"\"\n",
    "SELECT UserId, ProductId, ProfileName, Time, Score, Text, COUNT(*)\n",
    "FROM Reviews\n",
    "GROUP BY UserId\n",
    "HAVING COUNT(*)>1\n",
    "\"\"\", con)"
   ]
  },
  {
   "cell_type": "code",
   "execution_count": 4,
   "metadata": {
    "scrolled": true
   },
   "outputs": [
    {
     "name": "stdout",
     "output_type": "stream",
     "text": [
      "(80668, 7)\n"
     ]
    },
    {
     "data": {
      "text/html": [
       "<div>\n",
       "<style scoped>\n",
       "    .dataframe tbody tr th:only-of-type {\n",
       "        vertical-align: middle;\n",
       "    }\n",
       "\n",
       "    .dataframe tbody tr th {\n",
       "        vertical-align: top;\n",
       "    }\n",
       "\n",
       "    .dataframe thead th {\n",
       "        text-align: right;\n",
       "    }\n",
       "</style>\n",
       "<table border=\"1\" class=\"dataframe\">\n",
       "  <thead>\n",
       "    <tr style=\"text-align: right;\">\n",
       "      <th></th>\n",
       "      <th>UserId</th>\n",
       "      <th>ProductId</th>\n",
       "      <th>ProfileName</th>\n",
       "      <th>Time</th>\n",
       "      <th>Score</th>\n",
       "      <th>Text</th>\n",
       "      <th>COUNT(*)</th>\n",
       "    </tr>\n",
       "  </thead>\n",
       "  <tbody>\n",
       "    <tr>\n",
       "      <th>0</th>\n",
       "      <td>#oc-R115TNMSPFT9I7</td>\n",
       "      <td>B005ZBZLT4</td>\n",
       "      <td>Breyton</td>\n",
       "      <td>1331510400</td>\n",
       "      <td>2</td>\n",
       "      <td>Overall its just OK when considering the price...</td>\n",
       "      <td>2</td>\n",
       "    </tr>\n",
       "    <tr>\n",
       "      <th>1</th>\n",
       "      <td>#oc-R11D9D7SHXIJB9</td>\n",
       "      <td>B005HG9ESG</td>\n",
       "      <td>Louis E. Emory \"hoppy\"</td>\n",
       "      <td>1342396800</td>\n",
       "      <td>5</td>\n",
       "      <td>My wife has recurring extreme muscle spasms, u...</td>\n",
       "      <td>3</td>\n",
       "    </tr>\n",
       "    <tr>\n",
       "      <th>2</th>\n",
       "      <td>#oc-R11DNU2NBKQ23Z</td>\n",
       "      <td>B005ZBZLT4</td>\n",
       "      <td>Kim Cieszykowski</td>\n",
       "      <td>1348531200</td>\n",
       "      <td>1</td>\n",
       "      <td>This coffee is horrible and unfortunately not ...</td>\n",
       "      <td>2</td>\n",
       "    </tr>\n",
       "    <tr>\n",
       "      <th>3</th>\n",
       "      <td>#oc-R11O5J5ZVQE25C</td>\n",
       "      <td>B005HG9ESG</td>\n",
       "      <td>Penguin Chick</td>\n",
       "      <td>1346889600</td>\n",
       "      <td>5</td>\n",
       "      <td>This will be the bottle that you grab from the...</td>\n",
       "      <td>3</td>\n",
       "    </tr>\n",
       "    <tr>\n",
       "      <th>4</th>\n",
       "      <td>#oc-R12KPBODL2B5ZD</td>\n",
       "      <td>B007OSBEV0</td>\n",
       "      <td>Christopher P. Presta</td>\n",
       "      <td>1348617600</td>\n",
       "      <td>1</td>\n",
       "      <td>I didnt like this coffee. Instead of telling y...</td>\n",
       "      <td>2</td>\n",
       "    </tr>\n",
       "  </tbody>\n",
       "</table>\n",
       "</div>"
      ],
      "text/plain": [
       "               UserId   ProductId             ProfileName        Time  Score  \\\n",
       "0  #oc-R115TNMSPFT9I7  B005ZBZLT4                 Breyton  1331510400      2   \n",
       "1  #oc-R11D9D7SHXIJB9  B005HG9ESG  Louis E. Emory \"hoppy\"  1342396800      5   \n",
       "2  #oc-R11DNU2NBKQ23Z  B005ZBZLT4        Kim Cieszykowski  1348531200      1   \n",
       "3  #oc-R11O5J5ZVQE25C  B005HG9ESG           Penguin Chick  1346889600      5   \n",
       "4  #oc-R12KPBODL2B5ZD  B007OSBEV0   Christopher P. Presta  1348617600      1   \n",
       "\n",
       "                                                Text  COUNT(*)  \n",
       "0  Overall its just OK when considering the price...         2  \n",
       "1  My wife has recurring extreme muscle spasms, u...         3  \n",
       "2  This coffee is horrible and unfortunately not ...         2  \n",
       "3  This will be the bottle that you grab from the...         3  \n",
       "4  I didnt like this coffee. Instead of telling y...         2  "
      ]
     },
     "execution_count": 4,
     "metadata": {},
     "output_type": "execute_result"
    }
   ],
   "source": [
    "print(display.shape)\n",
    "display.head()"
   ]
  },
  {
   "cell_type": "code",
   "execution_count": 5,
   "metadata": {},
   "outputs": [
    {
     "data": {
      "text/html": [
       "<div>\n",
       "<style scoped>\n",
       "    .dataframe tbody tr th:only-of-type {\n",
       "        vertical-align: middle;\n",
       "    }\n",
       "\n",
       "    .dataframe tbody tr th {\n",
       "        vertical-align: top;\n",
       "    }\n",
       "\n",
       "    .dataframe thead th {\n",
       "        text-align: right;\n",
       "    }\n",
       "</style>\n",
       "<table border=\"1\" class=\"dataframe\">\n",
       "  <thead>\n",
       "    <tr style=\"text-align: right;\">\n",
       "      <th></th>\n",
       "      <th>UserId</th>\n",
       "      <th>ProductId</th>\n",
       "      <th>ProfileName</th>\n",
       "      <th>Time</th>\n",
       "      <th>Score</th>\n",
       "      <th>Text</th>\n",
       "      <th>COUNT(*)</th>\n",
       "    </tr>\n",
       "  </thead>\n",
       "  <tbody>\n",
       "    <tr>\n",
       "      <th>80638</th>\n",
       "      <td>AZY10LLTJ71NX</td>\n",
       "      <td>B001ATMQK2</td>\n",
       "      <td>undertheshrine \"undertheshrine\"</td>\n",
       "      <td>1296691200</td>\n",
       "      <td>5</td>\n",
       "      <td>I bought this 6 pack because for the price tha...</td>\n",
       "      <td>5</td>\n",
       "    </tr>\n",
       "  </tbody>\n",
       "</table>\n",
       "</div>"
      ],
      "text/plain": [
       "              UserId   ProductId                      ProfileName        Time  \\\n",
       "80638  AZY10LLTJ71NX  B001ATMQK2  undertheshrine \"undertheshrine\"  1296691200   \n",
       "\n",
       "       Score                                               Text  COUNT(*)  \n",
       "80638      5  I bought this 6 pack because for the price tha...         5  "
      ]
     },
     "execution_count": 5,
     "metadata": {},
     "output_type": "execute_result"
    }
   ],
   "source": [
    "display[display['UserId']=='AZY10LLTJ71NX']"
   ]
  },
  {
   "cell_type": "code",
   "execution_count": 6,
   "metadata": {},
   "outputs": [
    {
     "data": {
      "text/plain": [
       "393063"
      ]
     },
     "execution_count": 6,
     "metadata": {},
     "output_type": "execute_result"
    }
   ],
   "source": [
    "display['COUNT(*)'].sum()"
   ]
  },
  {
   "cell_type": "markdown",
   "metadata": {},
   "source": [
    "#  [2] Exploratory Data Analysis"
   ]
  },
  {
   "cell_type": "markdown",
   "metadata": {},
   "source": [
    "## [2.1] Data Cleaning: Deduplication\n",
    "\n",
    "It is observed (as shown in the table below) that the reviews data had many duplicate entries. Hence it was necessary to remove duplicates in order to get unbiased results for the analysis of the data.  Following is an example:"
   ]
  },
  {
   "cell_type": "code",
   "execution_count": 7,
   "metadata": {
    "scrolled": false
   },
   "outputs": [
    {
     "data": {
      "text/html": [
       "<div>\n",
       "<style scoped>\n",
       "    .dataframe tbody tr th:only-of-type {\n",
       "        vertical-align: middle;\n",
       "    }\n",
       "\n",
       "    .dataframe tbody tr th {\n",
       "        vertical-align: top;\n",
       "    }\n",
       "\n",
       "    .dataframe thead th {\n",
       "        text-align: right;\n",
       "    }\n",
       "</style>\n",
       "<table border=\"1\" class=\"dataframe\">\n",
       "  <thead>\n",
       "    <tr style=\"text-align: right;\">\n",
       "      <th></th>\n",
       "      <th>Id</th>\n",
       "      <th>ProductId</th>\n",
       "      <th>UserId</th>\n",
       "      <th>ProfileName</th>\n",
       "      <th>HelpfulnessNumerator</th>\n",
       "      <th>HelpfulnessDenominator</th>\n",
       "      <th>Score</th>\n",
       "      <th>Time</th>\n",
       "      <th>Summary</th>\n",
       "      <th>Text</th>\n",
       "    </tr>\n",
       "  </thead>\n",
       "  <tbody>\n",
       "    <tr>\n",
       "      <th>0</th>\n",
       "      <td>78445</td>\n",
       "      <td>B000HDL1RQ</td>\n",
       "      <td>AR5J8UI46CURR</td>\n",
       "      <td>Geetha Krishnan</td>\n",
       "      <td>2</td>\n",
       "      <td>2</td>\n",
       "      <td>5</td>\n",
       "      <td>1199577600</td>\n",
       "      <td>LOACKER QUADRATINI VANILLA WAFERS</td>\n",
       "      <td>DELICIOUS WAFERS. I FIND THAT EUROPEAN WAFERS ...</td>\n",
       "    </tr>\n",
       "    <tr>\n",
       "      <th>1</th>\n",
       "      <td>138317</td>\n",
       "      <td>B000HDOPYC</td>\n",
       "      <td>AR5J8UI46CURR</td>\n",
       "      <td>Geetha Krishnan</td>\n",
       "      <td>2</td>\n",
       "      <td>2</td>\n",
       "      <td>5</td>\n",
       "      <td>1199577600</td>\n",
       "      <td>LOACKER QUADRATINI VANILLA WAFERS</td>\n",
       "      <td>DELICIOUS WAFERS. I FIND THAT EUROPEAN WAFERS ...</td>\n",
       "    </tr>\n",
       "    <tr>\n",
       "      <th>2</th>\n",
       "      <td>138277</td>\n",
       "      <td>B000HDOPYM</td>\n",
       "      <td>AR5J8UI46CURR</td>\n",
       "      <td>Geetha Krishnan</td>\n",
       "      <td>2</td>\n",
       "      <td>2</td>\n",
       "      <td>5</td>\n",
       "      <td>1199577600</td>\n",
       "      <td>LOACKER QUADRATINI VANILLA WAFERS</td>\n",
       "      <td>DELICIOUS WAFERS. I FIND THAT EUROPEAN WAFERS ...</td>\n",
       "    </tr>\n",
       "    <tr>\n",
       "      <th>3</th>\n",
       "      <td>73791</td>\n",
       "      <td>B000HDOPZG</td>\n",
       "      <td>AR5J8UI46CURR</td>\n",
       "      <td>Geetha Krishnan</td>\n",
       "      <td>2</td>\n",
       "      <td>2</td>\n",
       "      <td>5</td>\n",
       "      <td>1199577600</td>\n",
       "      <td>LOACKER QUADRATINI VANILLA WAFERS</td>\n",
       "      <td>DELICIOUS WAFERS. I FIND THAT EUROPEAN WAFERS ...</td>\n",
       "    </tr>\n",
       "    <tr>\n",
       "      <th>4</th>\n",
       "      <td>155049</td>\n",
       "      <td>B000PAQ75C</td>\n",
       "      <td>AR5J8UI46CURR</td>\n",
       "      <td>Geetha Krishnan</td>\n",
       "      <td>2</td>\n",
       "      <td>2</td>\n",
       "      <td>5</td>\n",
       "      <td>1199577600</td>\n",
       "      <td>LOACKER QUADRATINI VANILLA WAFERS</td>\n",
       "      <td>DELICIOUS WAFERS. I FIND THAT EUROPEAN WAFERS ...</td>\n",
       "    </tr>\n",
       "  </tbody>\n",
       "</table>\n",
       "</div>"
      ],
      "text/plain": [
       "       Id   ProductId         UserId      ProfileName  HelpfulnessNumerator  \\\n",
       "0   78445  B000HDL1RQ  AR5J8UI46CURR  Geetha Krishnan                     2   \n",
       "1  138317  B000HDOPYC  AR5J8UI46CURR  Geetha Krishnan                     2   \n",
       "2  138277  B000HDOPYM  AR5J8UI46CURR  Geetha Krishnan                     2   \n",
       "3   73791  B000HDOPZG  AR5J8UI46CURR  Geetha Krishnan                     2   \n",
       "4  155049  B000PAQ75C  AR5J8UI46CURR  Geetha Krishnan                     2   \n",
       "\n",
       "   HelpfulnessDenominator  Score        Time  \\\n",
       "0                       2      5  1199577600   \n",
       "1                       2      5  1199577600   \n",
       "2                       2      5  1199577600   \n",
       "3                       2      5  1199577600   \n",
       "4                       2      5  1199577600   \n",
       "\n",
       "                             Summary  \\\n",
       "0  LOACKER QUADRATINI VANILLA WAFERS   \n",
       "1  LOACKER QUADRATINI VANILLA WAFERS   \n",
       "2  LOACKER QUADRATINI VANILLA WAFERS   \n",
       "3  LOACKER QUADRATINI VANILLA WAFERS   \n",
       "4  LOACKER QUADRATINI VANILLA WAFERS   \n",
       "\n",
       "                                                Text  \n",
       "0  DELICIOUS WAFERS. I FIND THAT EUROPEAN WAFERS ...  \n",
       "1  DELICIOUS WAFERS. I FIND THAT EUROPEAN WAFERS ...  \n",
       "2  DELICIOUS WAFERS. I FIND THAT EUROPEAN WAFERS ...  \n",
       "3  DELICIOUS WAFERS. I FIND THAT EUROPEAN WAFERS ...  \n",
       "4  DELICIOUS WAFERS. I FIND THAT EUROPEAN WAFERS ...  "
      ]
     },
     "execution_count": 7,
     "metadata": {},
     "output_type": "execute_result"
    }
   ],
   "source": [
    "display= pd.read_sql_query(\"\"\"\n",
    "SELECT *\n",
    "FROM Reviews\n",
    "WHERE Score != 3 AND UserId=\"AR5J8UI46CURR\"\n",
    "ORDER BY ProductID\n",
    "\"\"\", con)\n",
    "display.head()"
   ]
  },
  {
   "cell_type": "markdown",
   "metadata": {},
   "source": [
    "As it can be seen above that same user has multiple reviews with same values for HelpfulnessNumerator, HelpfulnessDenominator, Score, Time, Summary and Text and on doing analysis it was found that <br>\n",
    "<br> \n",
    "ProductId=B000HDOPZG was Loacker Quadratini Vanilla Wafer Cookies, 8.82-Ounce Packages (Pack of 8)<br>\n",
    "<br> \n",
    "ProductId=B000HDL1RQ was Loacker Quadratini Lemon Wafer Cookies, 8.82-Ounce Packages (Pack of 8) and so on<br>\n",
    "\n",
    "It was inferred after analysis that reviews with same parameters other than ProductId belonged to the same product just having different flavour or quantity. Hence in order to reduce redundancy it was decided to eliminate the rows having same parameters.<br>\n",
    "\n",
    "The method used for the same was that we first sort the data according to ProductId and then just keep the first similar product review and delelte the others. for eg. in the above just the review for ProductId=B000HDL1RQ remains. This method ensures that there is only one representative for each product and deduplication without sorting would lead to possibility of different representatives still existing for the same product."
   ]
  },
  {
   "cell_type": "code",
   "execution_count": 8,
   "metadata": {},
   "outputs": [],
   "source": [
    "#Sorting data according to ProductId in ascending order\n",
    "sorted_data=filtered_data.sort_values('ProductId', axis=0, ascending=True, inplace=False, kind='quicksort', na_position='last')"
   ]
  },
  {
   "cell_type": "code",
   "execution_count": 9,
   "metadata": {},
   "outputs": [
    {
     "data": {
      "text/plain": [
       "(87775, 10)"
      ]
     },
     "execution_count": 9,
     "metadata": {},
     "output_type": "execute_result"
    }
   ],
   "source": [
    "#Deduplication of entries\n",
    "final=sorted_data.drop_duplicates(subset={\"UserId\",\"ProfileName\",\"Time\",\"Text\"}, keep='first', inplace=False)\n",
    "final.shape"
   ]
  },
  {
   "cell_type": "code",
   "execution_count": 10,
   "metadata": {},
   "outputs": [],
   "source": [
    "import datetime\n",
    "final['Time']=pd.to_datetime(final['Time'], unit='s')\n",
    "final=final.sort_values(by='Time')"
   ]
  },
  {
   "cell_type": "code",
   "execution_count": 11,
   "metadata": {},
   "outputs": [
    {
     "data": {
      "text/html": [
       "<div>\n",
       "<style scoped>\n",
       "    .dataframe tbody tr th:only-of-type {\n",
       "        vertical-align: middle;\n",
       "    }\n",
       "\n",
       "    .dataframe tbody tr th {\n",
       "        vertical-align: top;\n",
       "    }\n",
       "\n",
       "    .dataframe thead th {\n",
       "        text-align: right;\n",
       "    }\n",
       "</style>\n",
       "<table border=\"1\" class=\"dataframe\">\n",
       "  <thead>\n",
       "    <tr style=\"text-align: right;\">\n",
       "      <th></th>\n",
       "      <th>Id</th>\n",
       "      <th>ProductId</th>\n",
       "      <th>UserId</th>\n",
       "      <th>ProfileName</th>\n",
       "      <th>HelpfulnessNumerator</th>\n",
       "      <th>HelpfulnessDenominator</th>\n",
       "      <th>Score</th>\n",
       "      <th>Time</th>\n",
       "      <th>Summary</th>\n",
       "      <th>Text</th>\n",
       "    </tr>\n",
       "  </thead>\n",
       "  <tbody>\n",
       "    <tr>\n",
       "      <th>70688</th>\n",
       "      <td>76882</td>\n",
       "      <td>B00002N8SM</td>\n",
       "      <td>A32DW342WBJ6BX</td>\n",
       "      <td>Buttersugar</td>\n",
       "      <td>0</td>\n",
       "      <td>0</td>\n",
       "      <td>1</td>\n",
       "      <td>2000-01-24</td>\n",
       "      <td>A sure death for flies</td>\n",
       "      <td>I bought a few of these after my apartment was...</td>\n",
       "    </tr>\n",
       "    <tr>\n",
       "      <th>1146</th>\n",
       "      <td>1245</td>\n",
       "      <td>B00002Z754</td>\n",
       "      <td>A29Z5PI9BW2PU3</td>\n",
       "      <td>Robbie</td>\n",
       "      <td>7</td>\n",
       "      <td>7</td>\n",
       "      <td>1</td>\n",
       "      <td>2000-06-23</td>\n",
       "      <td>Great Product</td>\n",
       "      <td>This was a really good idea and the final prod...</td>\n",
       "    </tr>\n",
       "    <tr>\n",
       "      <th>1145</th>\n",
       "      <td>1244</td>\n",
       "      <td>B00002Z754</td>\n",
       "      <td>A3B8RCEI0FXFI6</td>\n",
       "      <td>B G Chase</td>\n",
       "      <td>10</td>\n",
       "      <td>10</td>\n",
       "      <td>1</td>\n",
       "      <td>2000-06-29</td>\n",
       "      <td>WOW Make your own 'slickers' !</td>\n",
       "      <td>I just received my shipment and could hardly w...</td>\n",
       "    </tr>\n",
       "  </tbody>\n",
       "</table>\n",
       "</div>"
      ],
      "text/plain": [
       "          Id   ProductId          UserId  ProfileName  HelpfulnessNumerator  \\\n",
       "70688  76882  B00002N8SM  A32DW342WBJ6BX  Buttersugar                     0   \n",
       "1146    1245  B00002Z754  A29Z5PI9BW2PU3       Robbie                     7   \n",
       "1145    1244  B00002Z754  A3B8RCEI0FXFI6    B G Chase                    10   \n",
       "\n",
       "       HelpfulnessDenominator  Score       Time  \\\n",
       "70688                       0      1 2000-01-24   \n",
       "1146                        7      1 2000-06-23   \n",
       "1145                       10      1 2000-06-29   \n",
       "\n",
       "                              Summary  \\\n",
       "70688          A sure death for flies   \n",
       "1146                    Great Product   \n",
       "1145   WOW Make your own 'slickers' !   \n",
       "\n",
       "                                                    Text  \n",
       "70688  I bought a few of these after my apartment was...  \n",
       "1146   This was a really good idea and the final prod...  \n",
       "1145   I just received my shipment and could hardly w...  "
      ]
     },
     "execution_count": 11,
     "metadata": {},
     "output_type": "execute_result"
    }
   ],
   "source": [
    "final.head(3)"
   ]
  },
  {
   "cell_type": "code",
   "execution_count": 12,
   "metadata": {},
   "outputs": [
    {
     "data": {
      "text/plain": [
       "Id                                 int64\n",
       "ProductId                         object\n",
       "UserId                            object\n",
       "ProfileName                       object\n",
       "HelpfulnessNumerator               int64\n",
       "HelpfulnessDenominator             int64\n",
       "Score                              int64\n",
       "Time                      datetime64[ns]\n",
       "Summary                           object\n",
       "Text                              object\n",
       "dtype: object"
      ]
     },
     "execution_count": 12,
     "metadata": {},
     "output_type": "execute_result"
    }
   ],
   "source": [
    "final.dtypes"
   ]
  },
  {
   "cell_type": "code",
   "execution_count": 13,
   "metadata": {},
   "outputs": [
    {
     "data": {
      "text/plain": [
       "87.775"
      ]
     },
     "execution_count": 13,
     "metadata": {},
     "output_type": "execute_result"
    }
   ],
   "source": [
    "#Checking to see how much % of data still remains\n",
    "(final['Id'].size*1.0)/(filtered_data['Id'].size*1.0)*100"
   ]
  },
  {
   "cell_type": "markdown",
   "metadata": {},
   "source": [
    "<b>Observation:-</b> It was also seen that in two rows given below the value of HelpfulnessNumerator is greater than HelpfulnessDenominator which is not practically possible hence these two rows too are removed from calcualtions"
   ]
  },
  {
   "cell_type": "code",
   "execution_count": 14,
   "metadata": {},
   "outputs": [
    {
     "data": {
      "text/html": [
       "<div>\n",
       "<style scoped>\n",
       "    .dataframe tbody tr th:only-of-type {\n",
       "        vertical-align: middle;\n",
       "    }\n",
       "\n",
       "    .dataframe tbody tr th {\n",
       "        vertical-align: top;\n",
       "    }\n",
       "\n",
       "    .dataframe thead th {\n",
       "        text-align: right;\n",
       "    }\n",
       "</style>\n",
       "<table border=\"1\" class=\"dataframe\">\n",
       "  <thead>\n",
       "    <tr style=\"text-align: right;\">\n",
       "      <th></th>\n",
       "      <th>Id</th>\n",
       "      <th>ProductId</th>\n",
       "      <th>UserId</th>\n",
       "      <th>ProfileName</th>\n",
       "      <th>HelpfulnessNumerator</th>\n",
       "      <th>HelpfulnessDenominator</th>\n",
       "      <th>Score</th>\n",
       "      <th>Time</th>\n",
       "      <th>Summary</th>\n",
       "      <th>Text</th>\n",
       "    </tr>\n",
       "  </thead>\n",
       "  <tbody>\n",
       "    <tr>\n",
       "      <th>0</th>\n",
       "      <td>64422</td>\n",
       "      <td>B000MIDROQ</td>\n",
       "      <td>A161DK06JJMCYF</td>\n",
       "      <td>J. E. Stephens \"Jeanne\"</td>\n",
       "      <td>3</td>\n",
       "      <td>1</td>\n",
       "      <td>5</td>\n",
       "      <td>1224892800</td>\n",
       "      <td>Bought This for My Son at College</td>\n",
       "      <td>My son loves spaghetti so I didn't hesitate or...</td>\n",
       "    </tr>\n",
       "    <tr>\n",
       "      <th>1</th>\n",
       "      <td>44737</td>\n",
       "      <td>B001EQ55RW</td>\n",
       "      <td>A2V0I904FH7ABY</td>\n",
       "      <td>Ram</td>\n",
       "      <td>3</td>\n",
       "      <td>2</td>\n",
       "      <td>4</td>\n",
       "      <td>1212883200</td>\n",
       "      <td>Pure cocoa taste with crunchy almonds inside</td>\n",
       "      <td>It was almost a 'love at first bite' - the per...</td>\n",
       "    </tr>\n",
       "  </tbody>\n",
       "</table>\n",
       "</div>"
      ],
      "text/plain": [
       "      Id   ProductId          UserId              ProfileName  \\\n",
       "0  64422  B000MIDROQ  A161DK06JJMCYF  J. E. Stephens \"Jeanne\"   \n",
       "1  44737  B001EQ55RW  A2V0I904FH7ABY                      Ram   \n",
       "\n",
       "   HelpfulnessNumerator  HelpfulnessDenominator  Score        Time  \\\n",
       "0                     3                       1      5  1224892800   \n",
       "1                     3                       2      4  1212883200   \n",
       "\n",
       "                                        Summary  \\\n",
       "0             Bought This for My Son at College   \n",
       "1  Pure cocoa taste with crunchy almonds inside   \n",
       "\n",
       "                                                Text  \n",
       "0  My son loves spaghetti so I didn't hesitate or...  \n",
       "1  It was almost a 'love at first bite' - the per...  "
      ]
     },
     "execution_count": 14,
     "metadata": {},
     "output_type": "execute_result"
    }
   ],
   "source": [
    "display= pd.read_sql_query(\"\"\"\n",
    "SELECT *\n",
    "FROM Reviews\n",
    "WHERE Score != 3 AND Id=44737 OR Id=64422\n",
    "ORDER BY ProductID\n",
    "\"\"\", con)\n",
    "\n",
    "display.head()"
   ]
  },
  {
   "cell_type": "code",
   "execution_count": 15,
   "metadata": {},
   "outputs": [],
   "source": [
    "final=final[final.HelpfulnessNumerator<=final.HelpfulnessDenominator]"
   ]
  },
  {
   "cell_type": "code",
   "execution_count": 16,
   "metadata": {},
   "outputs": [
    {
     "name": "stdout",
     "output_type": "stream",
     "text": [
      "(87773, 10)\n",
      "1    73592\n",
      "0    14181\n",
      "Name: Score, dtype: int64\n"
     ]
    },
    {
     "data": {
      "image/png": "[encoded data removed]",
      "text/plain": [
       "<Figure size 432x288 with 1 Axes>"
      ]
     },
     "metadata": {
      "needs_background": "light"
     },
     "output_type": "display_data"
    }
   ],
   "source": [
    "#Before starting the next phase of preprocessing lets see the number of entries left\n",
    "print(final.shape)\n",
    "\n",
    "#How many positive and negative reviews are present in our dataset?\n",
    "print(final['Score'].value_counts())\n",
    "\n",
    "import seaborn as sns\n",
    "sns.countplot(x='Score',data=final,palette='hls')\n",
    "plt.show()"
   ]
  },
  {
   "cell_type": "markdown",
   "metadata": {},
   "source": [
    "#  [3] Preprocessing"
   ]
  },
  {
   "cell_type": "markdown",
   "metadata": {},
   "source": [
    "## [3.1].  Preprocessing Review Text\n",
    "\n",
    "Now that we have finished deduplication our data requires some preprocessing before we go on further with analysis and making the prediction model.\n",
    "\n",
    "Hence in the Preprocessing phase we do the following in the order below:-\n",
    "\n",
    "1. Begin by removing the html tags\n",
    "2. Remove any punctuations or limited set of special characters like , or . or # etc.\n",
    "3. Check if the word is made up of english letters and is not alpha-numeric\n",
    "4. Check to see if the length of the word is greater than 2 (as it was researched that there is no adjective in 2-letters)\n",
    "5. Convert the word to lowercase\n",
    "6. Remove Stopwords\n",
    "7. Finally Snowball Stemming the word (it was obsereved to be better than Porter Stemming)<br>\n",
    "\n",
    "After which we collect the words used to describe positive and negative reviews"
   ]
  },
  {
   "cell_type": "code",
   "execution_count": 17,
   "metadata": {},
   "outputs": [
    {
     "name": "stdout",
     "output_type": "stream",
     "text": [
      "I bought a few of these after my apartment was infested with fruit flies. After only a few hours, the trap had &quot;attracted&quot; many flies and within a few days they were practically gone. This may not be a long term  solution, but if flies are driving you crazy, consider buying this. One  caution- the surface is very sticky, so try to avoid touching it.\n",
      "==================================================\n",
      "we use this as the base, then besides the chicken, we will also add pasta, spices, veggies, or whatever we have around to make quick cheesy meals\n",
      "==================================================\n",
      "My dogs just love this food. The service is always fast and reliable.\n",
      "==================================================\n",
      "I am amazed by how well this tea works to relieve my chronic congestion and recurring sinus problems. And it's not just a \"quick\" fix either -- its therapeutic effects last for hours. I was a bit worried the tea would be a bit too \"licorice-y\" since one of its main ingredients is licorice root, but the fragrance and taste are mild and incredibly soothing. If you think this package of six boxes is too much, you'll be happily proven wrong ... I would stock my entire garage with this tea if I could!\n",
      "==================================================\n"
     ]
    }
   ],
   "source": [
    "# printing some random reviews\n",
    "sent_0 = final['Text'].values[0]\n",
    "print(sent_0)\n",
    "print(\"=\"*50)\n",
    "\n",
    "sent_1000 = final['Text'].values[1000]\n",
    "print(sent_1000)\n",
    "print(\"=\"*50)\n",
    "\n",
    "sent_1500 = final['Text'].values[1500]\n",
    "print(sent_1500)\n",
    "print(\"=\"*50)\n",
    "\n",
    "sent_4900 = final['Text'].values[4900]\n",
    "print(sent_4900)\n",
    "print(\"=\"*50)"
   ]
  },
  {
   "cell_type": "code",
   "execution_count": 18,
   "metadata": {},
   "outputs": [
    {
     "name": "stdout",
     "output_type": "stream",
     "text": [
      "I bought a few of these after my apartment was infested with fruit flies. After only a few hours, the trap had &quot;attracted&quot; many flies and within a few days they were practically gone. This may not be a long term  solution, but if flies are driving you crazy, consider buying this. One  caution- the surface is very sticky, so try to avoid touching it.\n"
     ]
    }
   ],
   "source": [
    "# remove urls from text python: https://stackoverflow.com/a/40823105/4084039\n",
    "sent_0 = re.sub(r\"http\\S+\", \"\", sent_0)\n",
    "sent_1000 = re.sub(r\"http\\S+\", \"\", sent_1000)\n",
    "sent_150 = re.sub(r\"http\\S+\", \"\", sent_1500)\n",
    "sent_4900 = re.sub(r\"http\\S+\", \"\", sent_4900)\n",
    "\n",
    "print(sent_0)"
   ]
  },
  {
   "cell_type": "code",
   "execution_count": 19,
   "metadata": {},
   "outputs": [
    {
     "name": "stdout",
     "output_type": "stream",
     "text": [
      "I bought a few of these after my apartment was infested with fruit flies. After only a few hours, the trap had \"attracted\" many flies and within a few days they were practically gone. This may not be a long term  solution, but if flies are driving you crazy, consider buying this. One  caution- the surface is very sticky, so try to avoid touching it.\n",
      "==================================================\n",
      "we use this as the base, then besides the chicken, we will also add pasta, spices, veggies, or whatever we have around to make quick cheesy meals\n",
      "==================================================\n",
      "My dogs just love this food. The service is always fast and reliable.\n",
      "==================================================\n",
      "I am amazed by how well this tea works to relieve my chronic congestion and recurring sinus problems. And it's not just a \"quick\" fix either -- its therapeutic effects last for hours. I was a bit worried the tea would be a bit too \"licorice-y\" since one of its main ingredients is licorice root, but the fragrance and taste are mild and incredibly soothing. If you think this package of six boxes is too much, you'll be happily proven wrong ... I would stock my entire garage with this tea if I could!\n"
     ]
    }
   ],
   "source": [
    "# https://stackoverflow.com/questions/16206380/python-beautifulsoup-how-to-remove-all-tags-from-an-element\n",
    "from bs4 import BeautifulSoup\n",
    "\n",
    "soup = BeautifulSoup(sent_0, 'lxml')\n",
    "text = soup.get_text()\n",
    "print(text)\n",
    "print(\"=\"*50)\n",
    "\n",
    "soup = BeautifulSoup(sent_1000, 'lxml')\n",
    "text = soup.get_text()\n",
    "print(text)\n",
    "print(\"=\"*50)\n",
    "\n",
    "soup = BeautifulSoup(sent_1500, 'lxml')\n",
    "text = soup.get_text()\n",
    "print(text)\n",
    "print(\"=\"*50)\n",
    "\n",
    "soup = BeautifulSoup(sent_4900, 'lxml')\n",
    "text = soup.get_text()\n",
    "print(text)"
   ]
  },
  {
   "cell_type": "code",
   "execution_count": 20,
   "metadata": {},
   "outputs": [],
   "source": [
    "# https://stackoverflow.com/a/47091490/4084039\n",
    "import re\n",
    "\n",
    "def decontracted(phrase):\n",
    "    # specific\n",
    "    phrase = re.sub(r\"won't\", \"will not\", phrase)\n",
    "    phrase = re.sub(r\"can\\'t\", \"can not\", phrase)\n",
    "\n",
    "    # general\n",
    "    phrase = re.sub(r\"n\\'t\", \" not\", phrase)\n",
    "    phrase = re.sub(r\"\\'re\", \" are\", phrase)\n",
    "    phrase = re.sub(r\"\\'s\", \" is\", phrase)\n",
    "    phrase = re.sub(r\"\\'d\", \" would\", phrase)\n",
    "    phrase = re.sub(r\"\\'ll\", \" will\", phrase)\n",
    "    phrase = re.sub(r\"\\'t\", \" not\", phrase)\n",
    "    phrase = re.sub(r\"\\'ve\", \" have\", phrase)\n",
    "    phrase = re.sub(r\"\\'m\", \" am\", phrase)\n",
    "    return phrase"
   ]
  },
  {
   "cell_type": "code",
   "execution_count": 21,
   "metadata": {},
   "outputs": [
    {
     "name": "stdout",
     "output_type": "stream",
     "text": [
      "My dogs just love this food. The service is always fast and reliable.\n",
      "==================================================\n"
     ]
    }
   ],
   "source": [
    "sent_1500 = decontracted(sent_1500)\n",
    "print(sent_1500)\n",
    "print(\"=\"*50)"
   ]
  },
  {
   "cell_type": "code",
   "execution_count": 22,
   "metadata": {},
   "outputs": [
    {
     "name": "stdout",
     "output_type": "stream",
     "text": [
      "I bought a few of these after my apartment was infested with fruit flies. After only a few hours, the trap had &quot;attracted&quot; many flies and within a few days they were practically gone. This may not be a long term  solution, but if flies are driving you crazy, consider buying this. One  caution- the surface is very sticky, so try to avoid touching it.\n"
     ]
    }
   ],
   "source": [
    "#remove words with numbers python: https://stackoverflow.com/a/18082370/4084039\n",
    "sent_0 = re.sub(\"\\S*\\d\\S*\", \"\", sent_0).strip()\n",
    "print(sent_0)"
   ]
  },
  {
   "cell_type": "code",
   "execution_count": 23,
   "metadata": {},
   "outputs": [
    {
     "name": "stdout",
     "output_type": "stream",
     "text": [
      "My dogs just love this food The service is always fast and reliable \n"
     ]
    }
   ],
   "source": [
    "#remove spacial character: https://stackoverflow.com/a/5843547/4084039\n",
    "sent_1500 = re.sub('[^A-Za-z0-9]+', ' ', sent_1500)\n",
    "print(sent_1500)"
   ]
  },
  {
   "cell_type": "code",
   "execution_count": 24,
   "metadata": {},
   "outputs": [],
   "source": [
    "# https://gist.github.com/sebleier/554280\n",
    "# we are removing the words from the stop words list: 'no', 'nor', 'not'\n",
    "# <br /><br /> ==> after the above steps, we are getting \"br br\"\n",
    "# we are including them into stop words list\n",
    "# instead of <br /> if we have <br/> these tags would have revmoved in the 1st step\n",
    "\n",
    "stopwords= set(['br', 'the', 'i', 'me', 'my', 'myself', 'we', 'our', 'ours', 'ourselves', 'you', \"you're\", \"you've\",\\\n",
    "            \"you'll\", \"you'd\", 'your', 'yours', 'yourself', 'yourselves', 'he', 'him', 'his', 'himself', \\\n",
    "            'she', \"she's\", 'her', 'hers', 'herself', 'it', \"it's\", 'its', 'itself', 'they', 'them', 'their',\\\n",
    "            'theirs', 'themselves', 'what', 'which', 'who', 'whom', 'this', 'that', \"that'll\", 'these', 'those', \\\n",
    "            'am', 'is', 'are', 'was', 'were', 'be', 'been', 'being', 'have', 'has', 'had', 'having', 'do', 'does', \\\n",
    "            'did', 'doing', 'a', 'an', 'the', 'and', 'but', 'if', 'or', 'because', 'as', 'until', 'while', 'of', \\\n",
    "            'at', 'by', 'for', 'with', 'about', 'against', 'between', 'into', 'through', 'during', 'before', 'after',\\\n",
    "            'above', 'below', 'to', 'from', 'up', 'down', 'in', 'out', 'on', 'off', 'over', 'under', 'again', 'further',\\\n",
    "            'then', 'once', 'here', 'there', 'when', 'where', 'why', 'how', 'all', 'any', 'both', 'each', 'few', 'more',\\\n",
    "            'most', 'other', 'some', 'such', 'only', 'own', 'same', 'so', 'than', 'too', 'very', \\\n",
    "            's', 't', 'can', 'will', 'just', 'don', \"don't\", 'should', \"should've\", 'now', 'd', 'll', 'm', 'o', 're', \\\n",
    "            've', 'y', 'ain', 'aren', \"aren't\", 'couldn', \"couldn't\", 'didn', \"didn't\", 'doesn', \"doesn't\", 'hadn',\\\n",
    "            \"hadn't\", 'hasn', \"hasn't\", 'haven', \"haven't\", 'isn', \"isn't\", 'ma', 'mightn', \"mightn't\", 'mustn',\\\n",
    "            \"mustn't\", 'needn', \"needn't\", 'shan', \"shan't\", 'shouldn', \"shouldn't\", 'wasn', \"wasn't\", 'weren', \"weren't\", \\\n",
    "            'won', \"won't\", 'wouldn', \"wouldn't\"])"
   ]
  },
  {
   "cell_type": "code",
   "execution_count": 25,
   "metadata": {},
   "outputs": [
    {
     "name": "stderr",
     "output_type": "stream",
     "text": [
      "100%|██████████████████████████████████████████████████████████████████████████| 87773/87773 [01:05<00:00, 1338.98it/s]\n"
     ]
    }
   ],
   "source": [
    "# Combining all the above stundents \n",
    "from tqdm import tqdm\n",
    "preprocessed_reviews = []\n",
    "# tqdm is for printing the status bar\n",
    "for sentance in tqdm(final['Text'].values):\n",
    "    sentance = re.sub(r\"http\\S+\", \"\", sentance)\n",
    "    sentance = BeautifulSoup(sentance, 'lxml').get_text()\n",
    "    sentance = decontracted(sentance)\n",
    "    sentance = re.sub(\"\\S*\\d\\S*\", \"\", sentance).strip()\n",
    "    sentance = re.sub('[^A-Za-z]+', ' ', sentance)\n",
    "    # https://gist.github.com/sebleier/554280\n",
    "    sentance = ' '.join(e.lower() for e in sentance.split() if e.lower() not in stopwords)\n",
    "    preprocessed_reviews.append(sentance.strip())"
   ]
  },
  {
   "cell_type": "code",
   "execution_count": 26,
   "metadata": {},
   "outputs": [
    {
     "data": {
      "text/plain": [
       "'dogs love food service always fast reliable'"
      ]
     },
     "execution_count": 26,
     "metadata": {},
     "output_type": "execute_result"
    }
   ],
   "source": [
    "preprocessed_reviews[1500]"
   ]
  },
  {
   "cell_type": "markdown",
   "metadata": {},
   "source": [
    "<h2><font color='red'>[3.2] Preprocessing Review Summary</font></h2>"
   ]
  },
  {
   "cell_type": "code",
   "execution_count": 27,
   "metadata": {},
   "outputs": [
    {
     "name": "stderr",
     "output_type": "stream",
     "text": [
      " 37%|███████████████████████████▍                                              | 32580/87696 [00:15<00:28, 1927.54it/s]C:\\Users\\hp\\Anaconda3\\lib\\site-packages\\bs4\\__init__.py:272: UserWarning: \"b'...'\" looks like a filename, not markup. You should probably open this file and pass the filehandle into Beautiful Soup.\n",
      "  ' Beautiful Soup.' % markup)\n",
      " 70%|███████████████████████████████████████████████████▋                      | 61248/87696 [00:31<00:13, 1941.41it/s]C:\\Users\\hp\\Anaconda3\\lib\\site-packages\\bs4\\__init__.py:272: UserWarning: \"b'...'\" looks like a filename, not markup. You should probably open this file and pass the filehandle into Beautiful Soup.\n",
      "  ' Beautiful Soup.' % markup)\n",
      " 75%|███████████████████████████████████████████████████████▎                  | 65547/87696 [00:34<00:11, 1972.37it/s]C:\\Users\\hp\\Anaconda3\\lib\\site-packages\\bs4\\__init__.py:272: UserWarning: \"b'...'\" looks like a filename, not markup. You should probably open this file and pass the filehandle into Beautiful Soup.\n",
      "  ' Beautiful Soup.' % markup)\n",
      " 96%|███████████████████████████████████████████████████████████████████████   | 84228/87696 [00:44<00:02, 1722.20it/s]C:\\Users\\hp\\Anaconda3\\lib\\site-packages\\bs4\\__init__.py:272: UserWarning: \"b'...'\" looks like a filename, not markup. You should probably open this file and pass the filehandle into Beautiful Soup.\n",
      "  ' Beautiful Soup.' % markup)\n",
      "100%|██████████████████████████████████████████████████████████████████████████| 87696/87696 [00:46<00:00, 1903.42it/s]\n"
     ]
    }
   ],
   "source": [
    "con=sqlite3.connect(r'C:\\Users\\hp\\Desktop\\AppliedAI\\ipython notes\\database.sqlite\\database.sqlite')\n",
    "#filtered_data = pd.read_sql_query(\"\"\" SELECT * FROM Reviews WHERE Score != 3 LIMIT 5000\"\"\", con)\n",
    "df=pd.read_sql_query('''SELECT * FROM Reviews WHERE Score !=3 LIMIT 100000''',con)\n",
    "score_column=df['Score']\n",
    "changed_score=score_column.map(partition)\n",
    "df['Score']=changed_score\n",
    "#df.head()\n",
    "dis=pd.read_sql_query('SELECT ProductId,UserID,ProfileName,Score,Time,Summary,COUNT(*) FROM Reviews GROUP BY UserId HAVING COUNT(*)>1',con)\n",
    "#dis.head()\n",
    "sorted_df=df.sort_values('ProductId', axis=0,ascending=True,inplace=False,kind='quicksort',na_position='last')\n",
    "f=sorted_df.drop_duplicates(subset={'UserId','ProfileName','Time','Summary'},keep='first', inplace=False)\n",
    "f=f[f.HelpfulnessNumerator<=f.HelpfulnessDenominator]\n",
    "\n",
    "\n",
    "stopwords= set(['br', 'the', 'i', 'me', 'my', 'myself', 'we', 'our', 'ours', 'ourselves', 'you', \"you're\", \"you've\",\\\n",
    "            \"you'll\", \"you'd\", 'your', 'yours', 'yourself', 'yourselves', 'he', 'him', 'his', 'himself', \\\n",
    "            'she', \"she's\", 'her', 'hers', 'herself', 'it', \"it's\", 'its', 'itself', 'they', 'them', 'their',\\\n",
    "            'theirs', 'themselves', 'what', 'which', 'who', 'whom', 'this', 'that', \"that'll\", 'these', 'those', \\\n",
    "            'am', 'is', 'are', 'was', 'were', 'be', 'been', 'being', 'have', 'has', 'had', 'having', 'do', 'does', \\\n",
    "            'did', 'doing', 'a', 'an', 'the', 'and', 'but', 'if', 'or', 'because', 'as', 'until', 'while', 'of', \\\n",
    "            'at', 'by', 'for', 'with', 'about', 'against', 'between', 'into', 'through', 'during', 'before', 'after',\\\n",
    "            'above', 'below', 'to', 'from', 'up', 'down', 'in', 'out', 'on', 'off', 'over', 'under', 'again', 'further',\\\n",
    "            'then', 'once', 'here', 'there', 'when', 'where', 'why', 'how', 'all', 'any', 'both', 'each', 'few', 'more',\\\n",
    "            'most', 'other', 'some', 'such', 'only', 'own', 'same', 'so', 'than', 'too', 'very', \\\n",
    "            's', 't', 'can', 'will', 'just', 'don', \"don't\", 'should', \"should've\", 'now', 'd', 'll', 'm', 'o', 're', \\\n",
    "            've', 'y', 'ain', 'aren', \"aren't\", 'couldn', \"couldn't\", 'didn', \"didn't\", 'doesn', \"doesn't\", 'hadn',\\\n",
    "            \"hadn't\", 'hasn', \"hasn't\", 'haven', \"haven't\", 'isn', \"isn't\", 'ma', 'mightn', \"mightn't\", 'mustn',\\\n",
    "            \"mustn't\", 'needn', \"needn't\", 'shan', \"shan't\", 'shouldn', \"shouldn't\", 'wasn', \"wasn't\", 'weren', \"weren't\", \\\n",
    "            'won', \"won't\", 'wouldn', \"wouldn't\"])\n",
    "\n",
    "import re\n",
    "def decontracted(phrase):\n",
    "    # specific\n",
    "    phrase = re.sub(r\"won't\", \"will not\", phrase)\n",
    "    phrase = re.sub(r\"can\\'t\", \"can not\", phrase)\n",
    "    # general\n",
    "    phrase = re.sub(r\"n\\'t\", \" not\", phrase)\n",
    "    phrase = re.sub(r\"\\'re\", \" are\", phrase)\n",
    "    phrase = re.sub(r\"\\'s\", \" is\", phrase)\n",
    "    phrase = re.sub(r\"\\'d\", \" would\", phrase)\n",
    "    phrase = re.sub(r\"\\'ll\", \" will\", phrase)\n",
    "    phrase = re.sub(r\"\\'t\", \" not\", phrase)\n",
    "    phrase = re.sub(r\"\\'ve\", \" have\", phrase)\n",
    "    phrase = re.sub(r\"\\'m\", \" am\", phrase)\n",
    "    return phrase\n",
    "'''\n",
    "def extract_data_from_report3(filename):\n",
    "    #html_report_part1 = open(f['Summary'],'r')\n",
    "    soup = BeautifulSoup(f['Summary'].all(), \"html.parser\")\n",
    "    th = soup.find_all('th')\n",
    "    td = soup.find_all('td')\n",
    "\n",
    "    headers = [header.get_text(strip=True) for header in soup.find_all(\"th\")]\n",
    "    rows = [dict(zip(headers, [td.get_text(strip=True) for td in row.find_all(\"td\")]))\n",
    "        for row in soup.find_all(\"tr\")[1:-1]]\n",
    "    print(rows)\n",
    "    return rows'''\n",
    "\n",
    "from bs4 import BeautifulSoup\n",
    "    \n",
    "# Combining all the above stundents \n",
    "from tqdm import tqdm\n",
    "preprocessed_summaries = []\n",
    "# tqdm is for printing the status bar\n",
    "for sentance in tqdm(f['Summary'].values):\n",
    "    sentance = re.sub(r\"http\\S+\", \"\", sentance)\n",
    "    sentance = BeautifulSoup(sentance, 'lxml').get_text()\n",
    "    sentance = decontracted(sentance)\n",
    "    sentance = re.sub(\"\\S*\\d\\S*\", \"\", sentance).strip()\n",
    "    sentance = re.sub('[^A-Za-z]+', ' ', sentance)\n",
    "    # https://gist.github.com/sebleier/554280\n",
    "    sentance = ' '.join(e.lower() for e in sentance.split() if e.lower() not in stopwords)\n",
    "    preprocessed_summaries.append(sentance.strip())"
   ]
  },
  {
   "cell_type": "code",
   "execution_count": 28,
   "metadata": {},
   "outputs": [
    {
     "data": {
      "text/plain": [
       "87696"
      ]
     },
     "execution_count": 28,
     "metadata": {},
     "output_type": "execute_result"
    }
   ],
   "source": [
    "len(preprocessed_summaries)"
   ]
  },
  {
   "cell_type": "code",
   "execution_count": 29,
   "metadata": {},
   "outputs": [
    {
     "data": {
      "text/plain": [
       "'best super chewer'"
      ]
     },
     "execution_count": 29,
     "metadata": {},
     "output_type": "execute_result"
    }
   ],
   "source": [
    "preprocessed_summaries[52]"
   ]
  },
  {
   "cell_type": "markdown",
   "metadata": {},
   "source": [
    "# [4] Featurization"
   ]
  },
  {
   "cell_type": "markdown",
   "metadata": {},
   "source": [
    "## [4.1] BAG OF WORDS"
   ]
  },
  {
   "cell_type": "code",
   "execution_count": 30,
   "metadata": {},
   "outputs": [
    {
     "name": "stdout",
     "output_type": "stream",
     "text": [
      "some feature names  ['aa', 'aaa', 'aaaa', 'aaaaa', 'aaaaaaaaaaaa', 'aaaaaaaaaaaaaaa', 'aaaaaaahhhhhh', 'aaaaaaarrrrrggghhh', 'aaaaaawwwwwwwwww', 'aaaaah']\n",
      "==================================================\n",
      "the type of count vectorizer  <class 'scipy.sparse.csr.csr_matrix'>\n",
      "the shape of out text BOW vectorizer  (87773, 54904)\n",
      "the number of unique words  54904\n"
     ]
    }
   ],
   "source": [
    "#BoW\n",
    "count_vect = CountVectorizer() #in scikit-learn\n",
    "count_vect.fit(preprocessed_reviews)\n",
    "print(\"some feature names \", count_vect.get_feature_names()[:10])\n",
    "print('='*50)\n",
    "\n",
    "final_counts = count_vect.transform(preprocessed_reviews)\n",
    "print(\"the type of count vectorizer \",type(final_counts))\n",
    "print(\"the shape of out text BOW vectorizer \",final_counts.get_shape())\n",
    "print(\"the number of unique words \", final_counts.get_shape()[1])"
   ]
  },
  {
   "cell_type": "markdown",
   "metadata": {},
   "source": [
    "## [4.2] Bi-Grams and n-Grams."
   ]
  },
  {
   "cell_type": "code",
   "execution_count": 31,
   "metadata": {},
   "outputs": [
    {
     "name": "stdout",
     "output_type": "stream",
     "text": [
      "the type of count vectorizer  <class 'scipy.sparse.csr.csr_matrix'>\n",
      "the shape of out text BOW vectorizer  (87773, 5000)\n",
      "the number of unique words including both unigrams and bigrams  5000\n"
     ]
    }
   ],
   "source": [
    "#bi-gram, tri-gram and n-gram\n",
    "\n",
    "#removing stop words like \"not\" should be avoided before building n-grams\n",
    "# count_vect = CountVectorizer(ngram_range=(1,2))\n",
    "# please do read the CountVectorizer documentation http://scikit-learn.org/stable/modules/generated/sklearn.feature_extraction.text.CountVectorizer.html\n",
    "\n",
    "# you can choose these numebrs min_df=10, max_features=5000, of your choice\n",
    "count_vect = CountVectorizer(ngram_range=(1,2), min_df=10, max_features=5000)\n",
    "final_bigram_counts = count_vect.fit_transform(preprocessed_reviews)\n",
    "print(\"the type of count vectorizer \",type(final_bigram_counts))\n",
    "print(\"the shape of out text BOW vectorizer \",final_bigram_counts.get_shape())\n",
    "print(\"the number of unique words including both unigrams and bigrams \", final_bigram_counts.get_shape()[1])"
   ]
  },
  {
   "cell_type": "markdown",
   "metadata": {},
   "source": [
    "## [4.3] TF-IDF"
   ]
  },
  {
   "cell_type": "code",
   "execution_count": 32,
   "metadata": {},
   "outputs": [
    {
     "name": "stdout",
     "output_type": "stream",
     "text": [
      "some sample features(unique words in the corpus) ['aa', 'aafco', 'aback', 'abandon', 'abandoned', 'abdominal', 'ability', 'able', 'able add', 'able brew']\n",
      "==================================================\n",
      "the type of count vectorizer  <class 'scipy.sparse.csr.csr_matrix'>\n",
      "the shape of out text TFIDF vectorizer  (87773, 51709)\n",
      "the number of unique words including both unigrams and bigrams  51709\n"
     ]
    }
   ],
   "source": [
    "tf_idf_vect = TfidfVectorizer(ngram_range=(1,2), min_df=10)\n",
    "tf_idf_vect.fit(preprocessed_reviews)\n",
    "print(\"some sample features(unique words in the corpus)\",tf_idf_vect.get_feature_names()[0:10])\n",
    "print('='*50)\n",
    "\n",
    "final_tf_idf = tf_idf_vect.transform(preprocessed_reviews)\n",
    "print(\"the type of count vectorizer \",type(final_tf_idf))\n",
    "print(\"the shape of out text TFIDF vectorizer \",final_tf_idf.get_shape())\n",
    "print(\"the number of unique words including both unigrams and bigrams \", final_tf_idf.get_shape()[1])"
   ]
  },
  {
   "cell_type": "markdown",
   "metadata": {},
   "source": [
    "## [4.4] Word2Vec"
   ]
  },
  {
   "cell_type": "code",
   "execution_count": 33,
   "metadata": {},
   "outputs": [
    {
     "name": "stdout",
     "output_type": "stream",
     "text": [
      "30000\n"
     ]
    }
   ],
   "source": [
    "# Train your own Word2Vec model using your own text corpus\n",
    "i=0\n",
    "list_of_sentance=[]\n",
    "for sentance in preprocessed_reviews[:30000]:\n",
    "    list_of_sentance.append(sentance.split())\n",
    "    \n",
    "print(len(list_of_sentance))"
   ]
  },
  {
   "cell_type": "code",
   "execution_count": 35,
   "metadata": {
    "scrolled": true
   },
   "outputs": [
    {
     "name": "stdout",
     "output_type": "stream",
     "text": [
      "[('excellent', 0.7916157245635986), ('terrific', 0.7905832529067993), ('good', 0.7883154153823853), ('awesome', 0.7861608266830444), ('wonderful', 0.7772147059440613), ('fantastic', 0.7646468281745911), ('perfect', 0.7626897096633911), ('amazing', 0.7396228313446045), ('decent', 0.7111735939979553), ('nice', 0.6912153363227844)]\n",
      "==================================================\n",
      "[('tastiest', 0.7866193056106567), ('best', 0.7828283309936523), ('greatest', 0.7645002603530884), ('closest', 0.7446002960205078), ('richest', 0.7166911363601685), ('smoothest', 0.6960749626159668), ('tasted', 0.682060182094574), ('superior', 0.6657989025115967), ('compares', 0.6613078117370605), ('experienced', 0.6611188650131226)]\n"
     ]
    }
   ],
   "source": [
    "# Using Google News Word2Vectors\n",
    "\n",
    "# in this project we are using a pretrained model by google\n",
    "# its 3.3G file, once you load this into your memory \n",
    "# it occupies ~9Gb, so please do this step only if you have >12G of ram\n",
    "# we will provide a pickle file wich contains a dict , \n",
    "# and it contains all our courpus words as keys and  model[word] as values\n",
    "# To use this code-snippet, download \"GoogleNews-vectors-negative300.bin\" \n",
    "# from https://drive.google.com/file/d/0B7XkCwpI5KDYNlNUTTlSS21pQmM/edit\n",
    "# it's 1.9GB in size.\n",
    "\n",
    "\n",
    "# http://kavita-ganesan.com/gensim-word2vec-tutorial-starter-code/#.W17SRFAzZPY\n",
    "# you can comment this whole cell\n",
    "# or change these varible according to your need\n",
    "\n",
    "is_your_ram_gt_16g=False\n",
    "want_to_use_google_w2v = False\n",
    "want_to_train_w2v = True\n",
    "\n",
    "if want_to_train_w2v:\n",
    "    # min_count = 5 considers only words that occured atleast 5 times\n",
    "    w2v_model=Word2Vec(list_of_sentance,min_count=5,size=50, workers=4)\n",
    "    print(w2v_model.wv.most_similar('great'))\n",
    "    print('='*50)\n",
    "    print(w2v_model.wv.most_similar('worst'))\n",
    "    \n",
    "elif want_to_use_google_w2v and is_your_ram_gt_16g:\n",
    "    if os.path.isfile('GoogleNews-vectors-negative300.bin'):\n",
    "        w2v_model=KeyedVectors.load_word2vec_format('GoogleNews-vectors-negative300.bin', binary=True)\n",
    "        print(w2v_model.wv.most_similar('great'))\n",
    "        print(w2v_model.wv.most_similar('worst'))\n",
    "    else:\n",
    "        print(\"you don't have gogole's word2vec file, keep want_to_train_w2v = True, to train your own w2v \")"
   ]
  },
  {
   "cell_type": "code",
   "execution_count": 36,
   "metadata": {},
   "outputs": [
    {
     "name": "stdout",
     "output_type": "stream",
     "text": [
      "number of words that occured minimum 5 times  10391\n",
      "sample words  ['bought', 'apartment', 'infested', 'fruit', 'flies', 'hours', 'trap', 'attracted', 'many', 'within', 'days', 'practically', 'gone', 'may', 'not', 'long', 'term', 'solution', 'driving', 'crazy', 'consider', 'buying', 'one', 'caution', 'surface', 'sticky', 'try', 'avoid', 'touching', 'really', 'good', 'idea', 'final', 'product', 'outstanding', 'use', 'car', 'window', 'everybody', 'asks', 'made', 'two', 'thumbs', 'received', 'shipment', 'could', 'hardly', 'wait', 'love', 'call']\n"
     ]
    }
   ],
   "source": [
    "w2v_words = list(w2v_model.wv.vocab)\n",
    "print(\"number of words that occured minimum 5 times \",len(w2v_words))\n",
    "print(\"sample words \", w2v_words[0:50])"
   ]
  },
  {
   "cell_type": "markdown",
   "metadata": {},
   "source": [
    "## [4.4.1] Converting text into vectors using Avg W2V, TFIDF-W2V"
   ]
  },
  {
   "cell_type": "markdown",
   "metadata": {},
   "source": [
    "#### [4.4.1.1] Avg W2v"
   ]
  },
  {
   "cell_type": "code",
   "execution_count": 37,
   "metadata": {},
   "outputs": [
    {
     "name": "stderr",
     "output_type": "stream",
     "text": [
      "100%|███████████████████████████████████████████████████████████████████████████| 30000/30000 [00:53<00:00, 565.13it/s]\n"
     ]
    },
    {
     "name": "stdout",
     "output_type": "stream",
     "text": [
      "30000\n",
      "50\n"
     ]
    }
   ],
   "source": [
    "# average Word2Vec\n",
    "# compute average word2vec for each review.\n",
    "sent_vectors = []; # the avg-w2v for each sentence/review is stored in this list\n",
    "for sent in tqdm(list_of_sentance): # for each review/sentence\n",
    "    sent_vec = np.zeros(50) # as word vectors are of zero length 50, you might need to change this to 300 if you use google's w2v\n",
    "    cnt_words =0; # num of words with a valid vector in the sentence/review\n",
    "    for word in sent: # for each word in a review/sentence\n",
    "        if word in w2v_words:\n",
    "            vec = w2v_model.wv[word]\n",
    "            sent_vec += vec\n",
    "            cnt_words += 1\n",
    "    if cnt_words != 0:\n",
    "        sent_vec /= cnt_words\n",
    "    sent_vectors.append(sent_vec)\n",
    "print(len(sent_vectors))\n",
    "print(len(sent_vectors[0]))"
   ]
  },
  {
   "cell_type": "markdown",
   "metadata": {},
   "source": [
    "#### [4.4.1.2] TFIDF weighted W2v"
   ]
  },
  {
   "cell_type": "code",
   "execution_count": 38,
   "metadata": {},
   "outputs": [],
   "source": [
    "# S = [\"abc def pqr\", \"def def def abc\", \"pqr pqr def\"]\n",
    "model = TfidfVectorizer()\n",
    "tf_idf_matrix = model.fit_transform(preprocessed_reviews[:30000])\n",
    "# we are converting a dictionary with word as a key, and the idf as a value\n",
    "dictionary = dict(zip(model.get_feature_names(), list(model.idf_)))"
   ]
  },
  {
   "cell_type": "code",
   "execution_count": 39,
   "metadata": {
    "scrolled": true
   },
   "outputs": [
    {
     "name": "stderr",
     "output_type": "stream",
     "text": [
      "100%|████████████████████████████████████████████████████████████████████████████| 30000/30000 [11:30<00:00, 43.43it/s]\n"
     ]
    },
    {
     "name": "stdout",
     "output_type": "stream",
     "text": [
      "30000\n",
      "50\n"
     ]
    }
   ],
   "source": [
    "# TF-IDF weighted Word2Vec\n",
    "tfidf_feat = model.get_feature_names() # tfidf words/col-names\n",
    "# final_tf_idf is the sparse matrix with row= sentence, col=word and cell_val = tfidf\n",
    "\n",
    "tfidf_sent_vectors = []; # the tfidf-w2v for each sentence/review is stored in this list\n",
    "row=0;\n",
    "for sent in tqdm(list_of_sentance): # for each review/sentence \n",
    "    sent_vec = np.zeros(50) # as word vectors are of zero length\n",
    "    weight_sum =0; # num of words with a valid vector in the sentence/review\n",
    "    for word in sent: # for each word in a review/sentence\n",
    "        if word in w2v_words and word in tfidf_feat:\n",
    "            vec = w2v_model.wv[word]\n",
    "#             tf_idf = tf_idf_matrix[row, tfidf_feat.index(word)]\n",
    "            # to reduce the computation we are \n",
    "            # dictionary[word] = idf value of word in whole courpus\n",
    "            # sent.count(word) = tf valeus of word in this review\n",
    "            tf_idf = dictionary[word]*(sent.count(word)/len(sent))\n",
    "            sent_vec += (vec * tf_idf)\n",
    "            weight_sum += tf_idf\n",
    "    if weight_sum != 0:\n",
    "        sent_vec /= weight_sum\n",
    "    tfidf_sent_vectors.append(sent_vec)\n",
    "    row += 1\n",
    "print(len(tfidf_sent_vectors))\n",
    "print(len(tfidf_sent_vectors[0]))"
   ]
  },
  {
   "cell_type": "markdown",
   "metadata": {},
   "source": [
    "# [5] Assignment 7: SVM"
   ]
  },
  {
   "cell_type": "markdown",
   "metadata": {},
   "source": [
    "<ol>\n",
    "    <li><strong>Apply SVM on these feature sets</strong>\n",
    "        <ul>\n",
    "            <li><font color='red'>SET 1:</font>Review text, preprocessed one converted into vectors using (BOW)</li>\n",
    "            <li><font color='red'>SET 2:</font>Review text, preprocessed one converted into vectors using (TFIDF)</li>\n",
    "            <li><font color='red'>SET 3:</font>Review text, preprocessed one converted into vectors using (AVG W2v)</li>\n",
    "            <li><font color='red'>SET 4:</font>Review text, preprocessed one converted into vectors using (TFIDF W2v)</li>\n",
    "        </ul>\n",
    "    </li>\n",
    "    <br>\n",
    "    <li><strong>Procedure</strong>\n",
    "        <ul>\n",
    "    <li>You need to work with 2 versions of SVM\n",
    "        <ul><li>Linear kernel</li>\n",
    "            <li>RBF kernel</li></ul>\n",
    "    <li>When you are working with linear kernel, use SGDClassifier’ with hinge loss because it is computationally less expensive.</li>\n",
    "    <li>When you are working with ‘SGDClassifier’ with hinge loss and trying to find the AUC\n",
    "        score, you would have to use <a href='https://scikit-learn.org/stable/modules/generated/sklearn.calibration.CalibratedClassifierCV.html'>CalibratedClassifierCV</a></li>\n",
    "    <li>Similarly, like kdtree of knn, when you are working with RBF kernel it's better to reduce\n",
    "the number of dimensions. You can put min_df = 10, max_features = 500 and consider a sample size of 40k points.</li>                \n",
    "        </ul>\n",
    "    </li>\n",
    "    <br>\n",
    "    <li><strong>Hyper paramter tuning (find best alpha in range [10^-4 to 10^4], and the best penalty among 'l1', 'l2')</strong>\n",
    "        <ul>\n",
    "    <li>Find the best hyper parameter which will give the maximum <a href='https://www.appliedaicourse.com/course/applied-ai-course-online/lessons/receiver-operating-characteristic-curve-roc-curve-and-auc-1/'>AUC</a> value</li>\n",
    "    <li>Find the best hyper paramter using k-fold cross validation or simple cross validation data</li>\n",
    "    <li>Use gridsearch cv or randomsearch cv or you can also write your own for loops to do this task of hyperparameter tuning</li>          \n",
    "        </ul>\n",
    "    </li>\n",
    "    <br>\n",
    "    <li><strong>Feature importance</strong>\n",
    "        <ul>\n",
    "    <li>When you are working on the linear kernel with BOW or TFIDF please print the top 10 best\n",
    "features for each of the positive and negative classes.</li>\n",
    "        </ul>\n",
    "    </li>\n",
    "    <br>\n",
    "    <li><strong>Feature engineering</strong>\n",
    "        <ul>\n",
    "    <li>To increase the performance of your model, you can also experiment with with feature engineering like :</li>\n",
    "            <ul>\n",
    "            <li>Taking length of reviews as another feature.</li>\n",
    "            <li>Considering some features from review summary as well.</li>\n",
    "        </ul>\n",
    "        </ul>\n",
    "    </li>\n",
    "    <br>\n",
    "    <li><strong>Representation of results</strong>\n",
    "        <ul>\n",
    "    <li>You need to plot the performance of model both on train data and cross validation data for each hyper parameter, like shown in the figure.\n",
    "    <img src='train_cv_auc.JPG' width=300px></li>\n",
    "    <li>Once after you found the best hyper parameter, you need to train your model with it, and find the AUC on test data and plot the ROC curve on both train and test.\n",
    "    <img src='train_test_auc.JPG' width=300px></li>\n",
    "    <li>Along with plotting ROC curve, you need to print the <a href='https://www.appliedaicourse.com/course/applied-ai-course-online/lessons/confusion-matrix-tpr-fpr-fnr-tnr-1/'>confusion matrix</a> with predicted and original labels of test data points. Please visualize your confusion matrices using <a href='https://seaborn.pydata.org/generated/seaborn.heatmap.html'>seaborn heatmaps.\n",
    "    <img src='confusion_matrix.png' width=300px></li>\n",
    "        </ul>\n",
    "    </li>\n",
    "    <br>\n",
    "    <li><strong>Conclusion</strong>\n",
    "        <ul>\n",
    "    <li>You need to summarize the results at the end of the notebook, summarize it in the table format. To print out a table please refer to this prettytable library<a href='http://zetcode.com/python/prettytable/'>  link</a> \n",
    "        <img src='summary.JPG' width=400px>\n",
    "    </li>\n",
    "        </ul>\n",
    "</ol>"
   ]
  },
  {
   "cell_type": "markdown",
   "metadata": {},
   "source": [
    "<h4><font color='red'>Note: Data Leakage</font></h4>\n",
    "\n",
    "1. There will be an issue of data-leakage if you vectorize the entire data and then split it into train/cv/test.\n",
    "2. To avoid the issue of data-leakag, make sure to split your data first and then vectorize it. \n",
    "3. While vectorizing your data, apply the method fit_transform() on you train data, and apply the method transform() on cv/test data.\n",
    "4. For more details please go through this <a href='https://soundcloud.com/applied-ai-course/leakage-bow-and-tfidf'>link.</a>"
   ]
  },
  {
   "cell_type": "markdown",
   "metadata": {},
   "source": [
    "# Applying SVM"
   ]
  },
  {
   "cell_type": "markdown",
   "metadata": {},
   "source": [
    "## [5.1] Linear SVM"
   ]
  },
  {
   "cell_type": "markdown",
   "metadata": {},
   "source": [
    "### [5.1.1] Applying Linear SVM on BOW,<font color='red'> SET 1</font>"
   ]
  },
  {
   "cell_type": "code",
   "execution_count": 40,
   "metadata": {},
   "outputs": [],
   "source": [
    "# Please write all the code with proper documentation"
   ]
  },
  {
   "cell_type": "code",
   "execution_count": 30,
   "metadata": {},
   "outputs": [],
   "source": [
    "X=preprocessed_reviews\n",
    "Y=final['Score']\n",
    "x_train=preprocessed_reviews[:61441]\n",
    "x_test=preprocessed_reviews[61441:]\n",
    "y_train=final['Score'][:61441]\n",
    "y_test=final['Score'][61441:]\n",
    "\n",
    "from sklearn.feature_extraction.text import CountVectorizer\n",
    "count_vect=CountVectorizer() #initiating the bag of words library using countvectorizer.\n",
    "#machine is reading all the words as we gave access to only training text data.\n",
    "count_vect.fit(x_train)\n",
    "\n",
    "#countvectorizer is transforming the read text data into vectors.\n",
    "x_trn_bow=count_vect.transform(x_train)\n",
    "x_tst_bow=count_vect.transform(x_test)\n",
    "\n",
    "from sklearn.preprocessing import StandardScaler\n",
    "stand=StandardScaler(with_mean=False,with_std=False)\n",
    "x_trn_bow=stand.fit_transform(x_trn_bow)\n",
    "x_tst_bow=stand.transform(x_tst_bow)"
   ]
  },
  {
   "cell_type": "code",
   "execution_count": 31,
   "metadata": {},
   "outputs": [
    {
     "data": {
      "text/plain": [
       "((61441, 45800), (26332, 45800))"
      ]
     },
     "execution_count": 31,
     "metadata": {},
     "output_type": "execute_result"
    }
   ],
   "source": [
    "x_trn_bow.shape,x_tst_bow.shape"
   ]
  },
  {
   "cell_type": "code",
   "execution_count": 32,
   "metadata": {},
   "outputs": [
    {
     "data": {
      "image/png": "[encoded data removed]",
      "text/plain": [
       "<Figure size 432x288 with 1 Axes>"
      ]
     },
     "metadata": {
      "needs_background": "light"
     },
     "output_type": "display_data"
    },
    {
     "name": "stdout",
     "output_type": "stream",
     "text": [
      "0.0001\n",
      "l2\n"
     ]
    }
   ],
   "source": [
    "from scipy.stats import uniform\n",
    "from sklearn.model_selection import RandomizedSearchCV\n",
    "from sklearn.linear_model import SGDClassifier\n",
    "from sklearn.metrics import roc_auc_score\n",
    "import matplotlib.pyplot as plt\n",
    "import numpy as np\n",
    "#import math\n",
    "model=SGDClassifier(loss='hinge',class_weight='balanced',average = True)\n",
    "parameters={'alpha':[0.00001,0.0001,0.001,0.01,0.1,1,10,100,1000,10000,100000],\n",
    "            'penalty' :['l1','l2']}\n",
    "clf=RandomizedSearchCV(model,parameters,cv=5,scoring='roc_auc',return_train_score=True)\n",
    "best_clf=clf.fit(x_trn_bow,y_train)\n",
    "\n",
    "train_auc= clf.cv_results_['mean_train_score']\n",
    "train_auc_std= clf.cv_results_['std_train_score']\n",
    "cv_auc = clf.cv_results_['mean_test_score'] \n",
    "cv_auc_std= clf.cv_results_['std_test_score']\n",
    "\n",
    "K=np.log10([0.00001,0.0001,0.001,0.01,0.1,10,100,1000,10000,100000])\n",
    "plt.plot(K, train_auc, label='Train AUC')\n",
    "plt.scatter(K,train_auc,label='Train AUC')\n",
    "\n",
    "plt.plot(K, cv_auc, label='CV AUC')\n",
    "plt.scatter(K,cv_auc,label='CV AUC')\n",
    "\n",
    "plt.legend()\n",
    "plt.xlabel(\"C: hyperparameter\")\n",
    "plt.ylabel(\"AUC\")\n",
    "plt.title(\"Hyperparameter vs AUC Plots\")\n",
    "plt.grid()\n",
    "plt.show()\n",
    "\n",
    "best_c=clf.best_params_['alpha']\n",
    "best_reg=clf.best_params_['penalty']\n",
    "print(best_c)\n",
    "print(best_reg)"
   ]
  },
  {
   "cell_type": "code",
   "execution_count": 33,
   "metadata": {},
   "outputs": [],
   "source": [
    "def find_best_threshold(Threshold, fpr, tpr):\n",
    "    t = Threshold[np.argmax(tpr*(1-fpr))]\n",
    "    print(\"the maximum value of tpr*(1-fpr):\", max(tpr*(1-fpr)), \"------> for Threshold:\", np.round(t,3))\n",
    "    return t\n",
    "\n",
    "def predict_with_best_t(proba, Threshold):\n",
    "    predictions = []\n",
    "    for i in proba:\n",
    "        if i>=Threshold:\n",
    "            predictions.append(1)\n",
    "        else:\n",
    "            predictions.append(0)\n",
    "    return predictions"
   ]
  },
  {
   "cell_type": "code",
   "execution_count": 34,
   "metadata": {},
   "outputs": [
    {
     "name": "stdout",
     "output_type": "stream",
     "text": [
      "SGDClassifier(alpha=0.0001, average=True, class_weight='balanced',\n",
      "              early_stopping=False, epsilon=0.1, eta0=0.0, fit_intercept=True,\n",
      "              l1_ratio=0.15, learning_rate='optimal', loss='hinge',\n",
      "              max_iter=1000, n_iter_no_change=5, n_jobs=None, penalty='l2',\n",
      "              power_t=0.5, random_state=None, shuffle=True, tol=0.001,\n",
      "              validation_fraction=0.1, verbose=0, warm_start=False)\n",
      "0.9409678071451746\n"
     ]
    },
    {
     "data": {
      "image/png": "[encoded data removed]",
      "text/plain": [
       "<Figure size 432x288 with 1 Axes>"
      ]
     },
     "metadata": {
      "needs_background": "light"
     },
     "output_type": "display_data"
    }
   ],
   "source": [
    "from sklearn.calibration import CalibratedClassifierCV\n",
    "dell = CalibratedClassifierCV(best_clf)\n",
    "dell.fit(x_trn_bow, y_train)\n",
    "y_trn_pred=dell.predict(x_trn_bow)\n",
    "y_tst_pred= dell.predict(x_tst_bow)\n",
    "\n",
    "#(area under the curve)AUC= roc_auc_score(y_true, y_probs) the 2nd parameter should be probability estimates \n",
    "#  of the positive class not the predicted outputs.\n",
    "\n",
    "x_trn_probs=dell.predict_proba(x_trn_bow)[:,1]\n",
    "x_tst_probs=dell.predict_proba(x_tst_bow)[:,1]\n",
    "print(clf.best_estimator_)\n",
    "print(clf.score(x_tst_bow, y_test))\n",
    "from sklearn.metrics import roc_curve,auc\n",
    "train_fpr,train_tpr,threshold=roc_curve(y_train,x_trn_probs)\n",
    "test_fpr,test_tpr,thresholds=roc_curve(y_test,x_tst_probs)\n",
    "plt.plot(train_fpr,train_tpr,marker='.',label='trainAUC='+str(np.round(auc(train_fpr,train_tpr),3)))\n",
    "plt.plot(test_fpr,test_tpr,marker='.',label='testAUC='+str(np.round(auc(test_fpr,test_tpr),3)))\n",
    "plt.plot([0, 1], [0, 1], linestyle='--',label='straight line')\n",
    "plt.legend()\n",
    "plt.title('ROC plots')\n",
    "plt.xlabel('FPR')\n",
    "plt.ylabel('TPR')\n",
    "plt.grid()\n",
    "plt.show()"
   ]
  },
  {
   "cell_type": "code",
   "execution_count": 35,
   "metadata": {},
   "outputs": [
    {
     "name": "stdout",
     "output_type": "stream",
     "text": [
      "the maximum value of tpr*(1-fpr): 0.857632997900457 ------> for Threshold: 0.788\n",
      "confusion matrix using train data:\n",
      "[[ 6321  3299]\n",
      " [  882 50939]]\n"
     ]
    },
    {
     "data": {
      "image/png": "[encoded data removed]",
      "text/plain": [
       "<Figure size 432x288 with 2 Axes>"
      ]
     },
     "metadata": {
      "needs_background": "light"
     },
     "output_type": "display_data"
    }
   ],
   "source": [
    "from sklearn.metrics import confusion_matrix\n",
    "best_t = find_best_threshold(threshold, train_fpr, train_tpr)\n",
    "print('confusion matrix using train data:')\n",
    "print(confusion_matrix(y_train,predict_with_best_t(y_trn_pred, best_t)))\n",
    "\n",
    "r=confusion_matrix(y_train,predict_with_best_t(y_trn_pred, best_t))\n",
    "import seaborn as sns\n",
    "sns.heatmap(r, annot=True, fmt=\"d\" ,linewidths=.5,xticklabels=['Negative','Positive'], yticklabels=['Negative','Positive'])\n",
    "plt.title('Confusion Matrix with Train Data')\n",
    "plt.xlabel('Y True')\n",
    "plt.ylabel('Y predicted')\n",
    "plt.show()"
   ]
  },
  {
   "cell_type": "code",
   "execution_count": 36,
   "metadata": {},
   "outputs": [
    {
     "name": "stdout",
     "output_type": "stream",
     "text": [
      "confusion matrix using test data:\n",
      "[[ 2753  1808]\n",
      " [  596 21175]]\n"
     ]
    },
    {
     "data": {
      "image/png": "[encoded data removed]",
      "text/plain": [
       "<Figure size 432x288 with 2 Axes>"
      ]
     },
     "metadata": {
      "needs_background": "light"
     },
     "output_type": "display_data"
    }
   ],
   "source": [
    "print('confusion matrix using test data:')\n",
    "print(confusion_matrix(y_test,predict_with_best_t(y_tst_pred, best_t)))\n",
    "e=confusion_matrix(y_test,predict_with_best_t(y_tst_pred, best_t))\n",
    "import seaborn as sns\n",
    "sns.heatmap(e, annot=True, fmt=\"d\",linewidths=.5,xticklabels=['Negative','Positive'], yticklabels=['Negative','Positive'])\n",
    "plt.title('Confusion Matrix with Test Data')\n",
    "plt.xlabel('Y True')\n",
    "plt.ylabel('Y Predicted')\n",
    "plt.show()"
   ]
  },
  {
   "cell_type": "code",
   "execution_count": 37,
   "metadata": {},
   "outputs": [
    {
     "name": "stdout",
     "output_type": "stream",
     "text": [
      "number of Positive feature weights in the list:  35545\n",
      "number of Negative feature weights in the list:  10255\n"
     ]
    }
   ],
   "source": [
    "logweights=best_clf.best_estimator_.coef_[0]\n",
    "neg_weights=[0]\n",
    "pos_weights=[0]\n",
    "neg_weights = list(filter(lambda x: (x < 0), logweights)) \n",
    "   \n",
    "pos_weights = list(filter(lambda x: (x >= 0), logweights)) \n",
    "  \n",
    "print(\"number of Positive feature weights in the list: \", len(pos_weights)) \n",
    "print(\"number of Negative feature weights in the list: \", len(neg_weights))"
   ]
  },
  {
   "cell_type": "code",
   "execution_count": 38,
   "metadata": {},
   "outputs": [
    {
     "data": {
      "text/html": [
       "<div>\n",
       "<style scoped>\n",
       "    .dataframe tbody tr th:only-of-type {\n",
       "        vertical-align: middle;\n",
       "    }\n",
       "\n",
       "    .dataframe tbody tr th {\n",
       "        vertical-align: top;\n",
       "    }\n",
       "\n",
       "    .dataframe thead th {\n",
       "        text-align: right;\n",
       "    }\n",
       "</style>\n",
       "<table border=\"1\" class=\"dataframe\">\n",
       "  <thead>\n",
       "    <tr style=\"text-align: right;\">\n",
       "      <th></th>\n",
       "      <th>Top10_positive_features</th>\n",
       "    </tr>\n",
       "  </thead>\n",
       "  <tbody>\n",
       "    <tr>\n",
       "      <th>0</th>\n",
       "      <td>certifiedas</td>\n",
       "    </tr>\n",
       "    <tr>\n",
       "      <th>1</th>\n",
       "      <td>filtering</td>\n",
       "    </tr>\n",
       "    <tr>\n",
       "      <th>2</th>\n",
       "      <td>overbite</td>\n",
       "    </tr>\n",
       "    <tr>\n",
       "      <th>3</th>\n",
       "      <td>alittle</td>\n",
       "    </tr>\n",
       "    <tr>\n",
       "      <th>4</th>\n",
       "      <td>li</td>\n",
       "    </tr>\n",
       "    <tr>\n",
       "      <th>5</th>\n",
       "      <td>satifies</td>\n",
       "    </tr>\n",
       "    <tr>\n",
       "      <th>6</th>\n",
       "      <td>avais</td>\n",
       "    </tr>\n",
       "    <tr>\n",
       "      <th>7</th>\n",
       "      <td>deride</td>\n",
       "    </tr>\n",
       "    <tr>\n",
       "      <th>8</th>\n",
       "      <td>completey</td>\n",
       "    </tr>\n",
       "    <tr>\n",
       "      <th>9</th>\n",
       "      <td>lore</td>\n",
       "    </tr>\n",
       "  </tbody>\n",
       "</table>\n",
       "</div>"
      ],
      "text/plain": [
       "  Top10_positive_features\n",
       "0             certifiedas\n",
       "1               filtering\n",
       "2                overbite\n",
       "3                 alittle\n",
       "4                      li\n",
       "5                satifies\n",
       "6                   avais\n",
       "7                  deride\n",
       "8               completey\n",
       "9                    lore"
      ]
     },
     "execution_count": 38,
     "metadata": {},
     "output_type": "execute_result"
    }
   ],
   "source": [
    "# the below argsort gives the sorted indices as output.\n",
    "positive_prob_sorted_indices = np.array(pos_weights).argsort()\n",
    "#now getting the features_names as with those top 10 sorted indices.\n",
    "top10_pos_features=np.take(count_vect.get_feature_names(), positive_prob_sorted_indices[-10:])\n",
    "pd.DataFrame(top10_pos_features,columns=['Top10_positive_features'])"
   ]
  },
  {
   "cell_type": "code",
   "execution_count": 39,
   "metadata": {},
   "outputs": [
    {
     "data": {
      "text/html": [
       "<div>\n",
       "<style scoped>\n",
       "    .dataframe tbody tr th:only-of-type {\n",
       "        vertical-align: middle;\n",
       "    }\n",
       "\n",
       "    .dataframe tbody tr th {\n",
       "        vertical-align: top;\n",
       "    }\n",
       "\n",
       "    .dataframe thead th {\n",
       "        text-align: right;\n",
       "    }\n",
       "</style>\n",
       "<table border=\"1\" class=\"dataframe\">\n",
       "  <thead>\n",
       "    <tr style=\"text-align: right;\">\n",
       "      <th></th>\n",
       "      <th>Top10_negative_features</th>\n",
       "    </tr>\n",
       "  </thead>\n",
       "  <tbody>\n",
       "    <tr>\n",
       "      <th>0</th>\n",
       "      <td>belmont</td>\n",
       "    </tr>\n",
       "    <tr>\n",
       "      <th>1</th>\n",
       "      <td>consistencies</td>\n",
       "    </tr>\n",
       "    <tr>\n",
       "      <th>2</th>\n",
       "      <td>debates</td>\n",
       "    </tr>\n",
       "    <tr>\n",
       "      <th>3</th>\n",
       "      <td>access</td>\n",
       "    </tr>\n",
       "    <tr>\n",
       "      <th>4</th>\n",
       "      <td>allergen</td>\n",
       "    </tr>\n",
       "    <tr>\n",
       "      <th>5</th>\n",
       "      <td>chajamyun</td>\n",
       "    </tr>\n",
       "    <tr>\n",
       "      <th>6</th>\n",
       "      <td>appeal</td>\n",
       "    </tr>\n",
       "    <tr>\n",
       "      <th>7</th>\n",
       "      <td>americana</td>\n",
       "    </tr>\n",
       "    <tr>\n",
       "      <th>8</th>\n",
       "      <td>competion</td>\n",
       "    </tr>\n",
       "    <tr>\n",
       "      <th>9</th>\n",
       "      <td>beforethey</td>\n",
       "    </tr>\n",
       "  </tbody>\n",
       "</table>\n",
       "</div>"
      ],
      "text/plain": [
       "  Top10_negative_features\n",
       "0                 belmont\n",
       "1           consistencies\n",
       "2                 debates\n",
       "3                  access\n",
       "4                allergen\n",
       "5               chajamyun\n",
       "6                  appeal\n",
       "7               americana\n",
       "8               competion\n",
       "9              beforethey"
      ]
     },
     "execution_count": 39,
     "metadata": {},
     "output_type": "execute_result"
    }
   ],
   "source": [
    "# the below argsort gives the sorted feature_log _prob indices as output.\n",
    "negative_prob_sorted_indices = np.array(neg_weights).argsort()\n",
    "#now getting the features_names as with those top 10 sorted indices.\n",
    "top10_neg_features=np.take(count_vect.get_feature_names(), negative_prob_sorted_indices[-10:])\n",
    "pd.DataFrame(top10_neg_features,columns=['Top10_negative_features'])"
   ]
  },
  {
   "cell_type": "markdown",
   "metadata": {},
   "source": [
    "## Feature engineering"
   ]
  },
  {
   "cell_type": "code",
   "execution_count": 40,
   "metadata": {},
   "outputs": [],
   "source": [
    "X=preprocessed_reviews\n",
    "Y=final['Score']\n",
    "x_train=preprocessed_reviews[:61441]\n",
    "x_test=preprocessed_reviews[61441:]\n",
    "y_train=final['Score'][:61441]\n",
    "y_test=final['Score'][61441:]"
   ]
  },
  {
   "cell_type": "code",
   "execution_count": 41,
   "metadata": {},
   "outputs": [],
   "source": [
    "review_count=list()\n",
    "for i in preprocessed_reviews:\n",
    "    review_count.append(len(i.split()))"
   ]
  },
  {
   "cell_type": "code",
   "execution_count": 42,
   "metadata": {},
   "outputs": [],
   "source": [
    "from sklearn.feature_extraction.text import CountVectorizer\n",
    "vect=CountVectorizer() #initiating the bag of words library using countvectorizer.\n",
    "#machine is reading all the words as we gave access to only training text data.\n",
    "vect.fit(x_train)\n",
    "\n",
    "#countvectorizer is transforming the read text data into vectors.\n",
    "x_trn_bows=vect.transform(x_train)\n",
    "x_tst_bows=vect.transform(x_test[:26255])\n",
    "xsumm_trn_bows=vect.transform(preprocessed_summaries[:61441])\n",
    "xsumm_tst_bows=vect.transform(preprocessed_summaries[61441:])\n",
    "\n",
    "from sklearn.preprocessing import StandardScaler\n",
    "stand=StandardScaler(with_mean=False,with_std=False)\n",
    "x_trn_bows=stand.fit_transform(x_trn_bows)\n",
    "x_tst_bows=stand.transform(x_tst_bows)\n",
    "xsumm_trn_bows=stand.fit_transform(xsumm_trn_bows)\n",
    "xsumm_tst_bows=stand.transform(xsumm_tst_bows)"
   ]
  },
  {
   "cell_type": "code",
   "execution_count": 43,
   "metadata": {},
   "outputs": [
    {
     "data": {
      "text/plain": [
       "((61441, 45800), (26255, 45800), (26255, 45800), (61441, 45800))"
      ]
     },
     "execution_count": 43,
     "metadata": {},
     "output_type": "execute_result"
    }
   ],
   "source": [
    "x_trn_bows.shape,x_tst_bows.shape,xsumm_tst_bows.shape,xsumm_trn_bows.shape"
   ]
  },
  {
   "cell_type": "code",
   "execution_count": 44,
   "metadata": {},
   "outputs": [],
   "source": [
    "from scipy.sparse import csr_matrix,hstack\n",
    "s=csr_matrix((review_count[:61441]),dtype=np.int64).T\n",
    "d=csr_matrix((review_count[61441:]),dtype=np.int64).T\n",
    "d=d[:26255]\n",
    "\n",
    "x_tr=hstack([x_trn_bows,s,xsumm_trn_bows])\n",
    "x_ts=hstack([x_tst_bows,d,xsumm_tst_bows])"
   ]
  },
  {
   "cell_type": "code",
   "execution_count": 45,
   "metadata": {},
   "outputs": [
    {
     "data": {
      "text/plain": [
       "((61441, 91601), (26255, 91601))"
      ]
     },
     "execution_count": 45,
     "metadata": {},
     "output_type": "execute_result"
    }
   ],
   "source": [
    "x_tr.shape,x_ts.shape"
   ]
  },
  {
   "cell_type": "code",
   "execution_count": 46,
   "metadata": {},
   "outputs": [
    {
     "data": {
      "image/png": "[encoded data removed]",
      "text/plain": [
       "<Figure size 432x288 with 1 Axes>"
      ]
     },
     "metadata": {
      "needs_background": "light"
     },
     "output_type": "display_data"
    }
   ],
   "source": [
    "from sklearn.model_selection import RandomizedSearchCV\n",
    "from sklearn.linear_model import SGDClassifier\n",
    "models=SGDClassifier(loss='hinge',class_weight='balanced', average =True)\n",
    "parameters={'alpha':[0.00001,0.0001,0.001,0.01,0.1,1,10,100,1000,10000,100000],\n",
    "            'penalty' :['l1','l2']}\n",
    "clfs=RandomizedSearchCV(models,parameters,cv=5,scoring='roc_auc',return_train_score=True)\n",
    "best_clfs=clfs.fit(x_tr,y_train)\n",
    "\n",
    "train_auc= clfs.cv_results_['mean_train_score']\n",
    "train_auc_std= clfs.cv_results_['std_train_score']\n",
    "cv_auc = clfs.cv_results_['mean_test_score'] \n",
    "cv_auc_std= clfs.cv_results_['std_test_score']\n",
    "\n",
    "K=np.log10([0.00001,0.0001,0.001,0.01,0.1,10,100,1000,10000,100000])\n",
    "plt.plot(K, train_auc, label='Train AUC')\n",
    "# this code is copied from here: https://stackoverflow.com/a/48803361/4084039\n",
    "#plt.gca().fill_between(K,train_auc - train_auc_std,train_auc + train_auc_std,alpha=0.2,color='darkblue')\n",
    "plt.scatter(K,train_auc,label='Train AUC')\n",
    "\n",
    "plt.plot(K, cv_auc, label='CV AUC')\n",
    "# this code is copied from here: https://stackoverflow.com/a/48803361/4084039\n",
    "#plt.gca().fill_between(K,cv_auc - cv_auc_std,cv_auc + cv_auc_std,alpha=0.2,color='darkorange')\n",
    "plt.scatter(K,cv_auc,label='CV AUC')\n",
    "\n",
    "plt.legend()\n",
    "plt.xlabel(\"alpha: hyperparameter\")\n",
    "plt.ylabel(\"AUC\")\n",
    "plt.title(\"Hyper parameters vs AUC plots\")\n",
    "plt.grid()\n",
    "plt.show()"
   ]
  },
  {
   "cell_type": "code",
   "execution_count": 47,
   "metadata": {},
   "outputs": [
    {
     "name": "stdout",
     "output_type": "stream",
     "text": [
      "1e-05\n",
      "l1\n"
     ]
    }
   ],
   "source": [
    "best_cs=clfs.best_params_['alpha']\n",
    "best_regs=clfs.best_params_['penalty']\n",
    "print(best_cs)\n",
    "print(best_regs)"
   ]
  },
  {
   "cell_type": "code",
   "execution_count": 48,
   "metadata": {},
   "outputs": [
    {
     "name": "stderr",
     "output_type": "stream",
     "text": [
      "C:\\Users\\hp\\Anaconda3\\lib\\site-packages\\sklearn\\linear_model\\stochastic_gradient.py:561: ConvergenceWarning: Maximum number of iteration reached before convergence. Consider increasing max_iter to improve the fit.\n",
      "  ConvergenceWarning)\n",
      "C:\\Users\\hp\\Anaconda3\\lib\\site-packages\\sklearn\\linear_model\\stochastic_gradient.py:561: ConvergenceWarning: Maximum number of iteration reached before convergence. Consider increasing max_iter to improve the fit.\n",
      "  ConvergenceWarning)\n"
     ]
    },
    {
     "name": "stdout",
     "output_type": "stream",
     "text": [
      "SGDClassifier(alpha=1e-05, average=True, class_weight='balanced',\n",
      "              early_stopping=False, epsilon=0.1, eta0=0.0, fit_intercept=True,\n",
      "              l1_ratio=0.15, learning_rate='optimal', loss='hinge',\n",
      "              max_iter=1000, n_iter_no_change=5, n_jobs=None, penalty='l1',\n",
      "              power_t=0.5, random_state=None, shuffle=True, tol=0.001,\n",
      "              validation_fraction=0.1, verbose=0, warm_start=False)\n",
      "0.9328201786695222\n"
     ]
    },
    {
     "data": {
      "image/png": "[encoded data removed]",
      "text/plain": [
       "<Figure size 432x288 with 1 Axes>"
      ]
     },
     "metadata": {
      "needs_background": "light"
     },
     "output_type": "display_data"
    }
   ],
   "source": [
    "#Now testing with Test data.\n",
    "from sklearn.calibration import CalibratedClassifierCV\n",
    "modelss = CalibratedClassifierCV(best_clfs)\n",
    "modelss.fit(x_tr, y_train)\n",
    "y_trn_predS=modelss.predict(x_tr)\n",
    "y_tst_predS= modelss.predict(x_ts)\n",
    "\n",
    "#(area under the curve)AUC= roc_auc_score(y_true, y_probs) the 2nd parameter should be probability estimates \n",
    "#  of the positive class not the predicted outputs.\n",
    "\n",
    "x_trn_probs=modelss.predict_proba(x_tr)[:,1]\n",
    "x_tst_probs=modelss.predict_proba(x_ts)[:,1]\n",
    "print(clfs.best_estimator_)\n",
    "print(clfs.score(x_ts, y_test[:26255]))\n",
    "# Also we have direct library 'auc' to find the Area Under the ROC Curve. i have plotted in below graph.\n",
    "from sklearn.metrics import roc_curve,auc\n",
    "train_fpr,train_tpr,threshold=roc_curve(y_train,x_trn_probs)\n",
    "test_fpr,test_tpr,thresholds=roc_curve(y_test[:26255],x_tst_probs)\n",
    "plt.plot(train_fpr,train_tpr,marker='.',label='trainAUC='+str(np.round(auc(train_fpr,train_tpr),3)))\n",
    "plt.plot(test_fpr,test_tpr,marker='.',label='testAUC='+str(np.round(auc(test_fpr,test_tpr),3)))\n",
    "plt.plot([0, 1], [0, 1], linestyle='--',label='straight line')\n",
    "plt.legend()\n",
    "plt.title('ROC plots')\n",
    "plt.xlabel('FPR')\n",
    "plt.ylabel('TPR')\n",
    "plt.grid()\n",
    "plt.show()"
   ]
  },
  {
   "cell_type": "code",
   "execution_count": 49,
   "metadata": {},
   "outputs": [
    {
     "name": "stdout",
     "output_type": "stream",
     "text": [
      "the maximum value of tpr*(1-fpr): 0.7836649595936372 ------> for Threshold: 0.816\n",
      "confusion matrix using train data:\n",
      "[[ 5343  4277]\n",
      " [ 1165 50656]]\n"
     ]
    },
    {
     "data": {
      "image/png": "[encoded data removed]",
      "text/plain": [
       "<Figure size 432x288 with 2 Axes>"
      ]
     },
     "metadata": {
      "needs_background": "light"
     },
     "output_type": "display_data"
    }
   ],
   "source": [
    "from sklearn.metrics import confusion_matrix\n",
    "best_t = find_best_threshold(threshold, train_fpr, train_tpr)\n",
    "print('confusion matrix using train data:')\n",
    "print(confusion_matrix(y_train,predict_with_best_t(y_trn_predS, best_t)))\n",
    "\n",
    "a=confusion_matrix(y_train,predict_with_best_t(y_trn_predS, best_t))\n",
    "import seaborn as sns\n",
    "sns.heatmap(a, annot=True, fmt=\"d\" ,linewidths=.5,xticklabels=['Negative','Positive'], yticklabels=['Negative','Positive'])\n",
    "plt.title('Confusion matrix with Train Data')\n",
    "plt.xlabel('Y True')\n",
    "plt.ylabel('Y Predicted')\n",
    "plt.show()"
   ]
  },
  {
   "cell_type": "code",
   "execution_count": 50,
   "metadata": {},
   "outputs": [
    {
     "name": "stdout",
     "output_type": "stream",
     "text": [
      "confusion matrix using test data:\n",
      "[[ 2479  2071]\n",
      " [  668 21037]]\n"
     ]
    },
    {
     "data": {
      "image/png": "[encoded data removed]",
      "text/plain": [
       "<Figure size 432x288 with 2 Axes>"
      ]
     },
     "metadata": {
      "needs_background": "light"
     },
     "output_type": "display_data"
    }
   ],
   "source": [
    "print('confusion matrix using test data:')\n",
    "print(confusion_matrix(y_test[:26255],predict_with_best_t(y_tst_predS, best_t)))\n",
    "b=confusion_matrix(y_test[:26255],predict_with_best_t(y_tst_predS, best_t))\n",
    "import seaborn as sns\n",
    "sns.heatmap(b, annot=True, fmt=\"d\",linewidths=.5,xticklabels=['Negative','Positive'], yticklabels=['Negative','Positive'])\n",
    "plt.title('Confusion matrix with Test Data')\n",
    "plt.xlabel('Y True')\n",
    "plt.ylabel('Y predicted')\n",
    "plt.show()"
   ]
  },
  {
   "cell_type": "code",
   "execution_count": 51,
   "metadata": {},
   "outputs": [
    {
     "name": "stdout",
     "output_type": "stream",
     "text": [
      "number of Positive feature weights in the list:  59935\n",
      "number of Negative feature weights in the list:  31666\n"
     ]
    }
   ],
   "source": [
    "logweights=best_clfs.best_estimator_.coef_[0]\n",
    "neg_weights=[0]\n",
    "pos_weights=[0]\n",
    "neg_weights = list(filter(lambda x: (x < 0), logweights)) \n",
    "   \n",
    "pos_weights = list(filter(lambda x: (x >= 0), logweights)) \n",
    "  \n",
    "print(\"number of Positive feature weights in the list: \", len(pos_weights)) \n",
    "print(\"number of Negative feature weights in the list: \", len(neg_weights))"
   ]
  },
  {
   "cell_type": "code",
   "execution_count": 52,
   "metadata": {},
   "outputs": [
    {
     "data": {
      "text/html": [
       "<div>\n",
       "<style scoped>\n",
       "    .dataframe tbody tr th:only-of-type {\n",
       "        vertical-align: middle;\n",
       "    }\n",
       "\n",
       "    .dataframe tbody tr th {\n",
       "        vertical-align: top;\n",
       "    }\n",
       "\n",
       "    .dataframe thead th {\n",
       "        text-align: right;\n",
       "    }\n",
       "</style>\n",
       "<table border=\"1\" class=\"dataframe\">\n",
       "  <thead>\n",
       "    <tr style=\"text-align: right;\">\n",
       "      <th></th>\n",
       "      <th>Top10_positive_features</th>\n",
       "    </tr>\n",
       "  </thead>\n",
       "  <tbody>\n",
       "    <tr>\n",
       "      <th>0</th>\n",
       "      <td>freek</td>\n",
       "    </tr>\n",
       "    <tr>\n",
       "      <th>1</th>\n",
       "      <td>anger</td>\n",
       "    </tr>\n",
       "    <tr>\n",
       "      <th>2</th>\n",
       "      <td>discriminatory</td>\n",
       "    </tr>\n",
       "    <tr>\n",
       "      <th>3</th>\n",
       "      <td>cab</td>\n",
       "    </tr>\n",
       "    <tr>\n",
       "      <th>4</th>\n",
       "      <td>hs</td>\n",
       "    </tr>\n",
       "    <tr>\n",
       "      <th>5</th>\n",
       "      <td>deafie</td>\n",
       "    </tr>\n",
       "    <tr>\n",
       "      <th>6</th>\n",
       "      <td>companay</td>\n",
       "    </tr>\n",
       "    <tr>\n",
       "      <th>7</th>\n",
       "      <td>carelessly</td>\n",
       "    </tr>\n",
       "    <tr>\n",
       "      <th>8</th>\n",
       "      <td>ebbert</td>\n",
       "    </tr>\n",
       "    <tr>\n",
       "      <th>9</th>\n",
       "      <td>bowline</td>\n",
       "    </tr>\n",
       "  </tbody>\n",
       "</table>\n",
       "</div>"
      ],
      "text/plain": [
       "  Top10_positive_features\n",
       "0                   freek\n",
       "1                   anger\n",
       "2          discriminatory\n",
       "3                     cab\n",
       "4                      hs\n",
       "5                  deafie\n",
       "6                companay\n",
       "7              carelessly\n",
       "8                  ebbert\n",
       "9                 bowline"
      ]
     },
     "execution_count": 52,
     "metadata": {},
     "output_type": "execute_result"
    }
   ],
   "source": [
    "# the below argsort gives the sorted feature_log _prob indices as output.\n",
    "Positive_prob_sorted_indices = np.array(pos_weights).argsort()\n",
    "#now getting the features_names as with those top 10 sorted indices.\n",
    "Top10_pos_features=np.take(vect.get_feature_names(), Positive_prob_sorted_indices[-10:])\n",
    "pd.DataFrame(Top10_pos_features,columns=['Top10_positive_features'])"
   ]
  },
  {
   "cell_type": "code",
   "execution_count": 53,
   "metadata": {},
   "outputs": [
    {
     "data": {
      "text/html": [
       "<div>\n",
       "<style scoped>\n",
       "    .dataframe tbody tr th:only-of-type {\n",
       "        vertical-align: middle;\n",
       "    }\n",
       "\n",
       "    .dataframe tbody tr th {\n",
       "        vertical-align: top;\n",
       "    }\n",
       "\n",
       "    .dataframe thead th {\n",
       "        text-align: right;\n",
       "    }\n",
       "</style>\n",
       "<table border=\"1\" class=\"dataframe\">\n",
       "  <thead>\n",
       "    <tr style=\"text-align: right;\">\n",
       "      <th></th>\n",
       "      <th>Top10_negative_features</th>\n",
       "    </tr>\n",
       "  </thead>\n",
       "  <tbody>\n",
       "    <tr>\n",
       "      <th>0</th>\n",
       "      <td>counterpart</td>\n",
       "    </tr>\n",
       "    <tr>\n",
       "      <th>1</th>\n",
       "      <td>anxiety</td>\n",
       "    </tr>\n",
       "    <tr>\n",
       "      <th>2</th>\n",
       "      <td>glazier</td>\n",
       "    </tr>\n",
       "    <tr>\n",
       "      <th>3</th>\n",
       "      <td>narrower</td>\n",
       "    </tr>\n",
       "    <tr>\n",
       "      <th>4</th>\n",
       "      <td>nevada</td>\n",
       "    </tr>\n",
       "    <tr>\n",
       "      <th>5</th>\n",
       "      <td>daym</td>\n",
       "    </tr>\n",
       "    <tr>\n",
       "      <th>6</th>\n",
       "      <td>hallmarks</td>\n",
       "    </tr>\n",
       "    <tr>\n",
       "      <th>7</th>\n",
       "      <td>coalescing</td>\n",
       "    </tr>\n",
       "    <tr>\n",
       "      <th>8</th>\n",
       "      <td>concious</td>\n",
       "    </tr>\n",
       "    <tr>\n",
       "      <th>9</th>\n",
       "      <td>overzealous</td>\n",
       "    </tr>\n",
       "  </tbody>\n",
       "</table>\n",
       "</div>"
      ],
      "text/plain": [
       "  Top10_negative_features\n",
       "0             counterpart\n",
       "1                 anxiety\n",
       "2                 glazier\n",
       "3                narrower\n",
       "4                  nevada\n",
       "5                    daym\n",
       "6               hallmarks\n",
       "7              coalescing\n",
       "8                concious\n",
       "9             overzealous"
      ]
     },
     "execution_count": 53,
     "metadata": {},
     "output_type": "execute_result"
    }
   ],
   "source": [
    "# the below argsort gives the sorted feature_log _prob indices as output.\n",
    "Negative_prob_sorted_indices = np.array(neg_weights).argsort()\n",
    "#now getting the features_names as with those top 10 sorted indices.\n",
    "Top10_neg_features=np.take(vect.get_feature_names(), Negative_prob_sorted_indices[-10:])\n",
    "pd.DataFrame(Top10_neg_features,columns=['Top10_negative_features'])"
   ]
  },
  {
   "cell_type": "markdown",
   "metadata": {},
   "source": [
    "### [5.1.2] Applying Linear SVM on TFIDF,<font color='red'> SET 2</font>"
   ]
  },
  {
   "cell_type": "code",
   "execution_count": 54,
   "metadata": {},
   "outputs": [],
   "source": [
    "X=preprocessed_reviews\n",
    "Y=final['Score']\n",
    "x_train=preprocessed_reviews[:61441]\n",
    "x_test=preprocessed_reviews[61441:]\n",
    "y_train=final['Score'][:61441]\n",
    "y_test=final['Score'][61441:]\n",
    "\n",
    "from sklearn.feature_extraction.text import TfidfVectorizer\n",
    "tf_idf_vect= TfidfVectorizer(ngram_range=(1,2),min_df=10) #initiating Tfidf\n",
    "#machine is reading or learning all the text reviews from training data\n",
    "tf_idf_vect.fit(x_train)\n",
    "\n",
    "#Now transforming all the words learnt into vectors.\n",
    "x_trn_tfidf=tf_idf_vect.transform(x_train)\n",
    "x_tst_tfidf= tf_idf_vect.transform(x_test)\n",
    "\n",
    "from sklearn.preprocessing import StandardScaler\n",
    "stand=StandardScaler(with_mean=False,with_std=False)\n",
    "x_trn_tfidf=stand.fit_transform(x_trn_tfidf)\n",
    "x_tst_tfidf=stand.transform(x_tst_tfidf)"
   ]
  },
  {
   "cell_type": "code",
   "execution_count": 55,
   "metadata": {},
   "outputs": [
    {
     "data": {
      "text/plain": [
       "((61441, 36171), (26332, 36171))"
      ]
     },
     "execution_count": 55,
     "metadata": {},
     "output_type": "execute_result"
    }
   ],
   "source": [
    "x_trn_tfidf.shape,x_tst_tfidf.shape"
   ]
  },
  {
   "cell_type": "code",
   "execution_count": 56,
   "metadata": {},
   "outputs": [
    {
     "data": {
      "image/png": "[encoded data removed]",
      "text/plain": [
       "<Figure size 432x288 with 1 Axes>"
      ]
     },
     "metadata": {
      "needs_background": "light"
     },
     "output_type": "display_data"
    }
   ],
   "source": [
    "from sklearn.model_selection import RandomizedSearchCV\n",
    "from sklearn.linear_model import SGDClassifier\n",
    "model2=SGDClassifier(loss='hinge',class_weight='balanced',average =True)\n",
    "parameters={'alpha':[0.00001,0.0001,0.001,0.01,0.1,1,10,100,1000,10000,100000],\n",
    "            'penalty' :['l1','l2']}\n",
    "clf2=RandomizedSearchCV(model2,parameters,cv=5,scoring='roc_auc',return_train_score=True)\n",
    "best_clf2=clf2.fit(x_trn_tfidf,y_train)\n",
    "\n",
    "train_auc= clf2.cv_results_['mean_train_score']\n",
    "train_auc_std= clf2.cv_results_['std_train_score']\n",
    "cv_auc = clf2.cv_results_['mean_test_score'] \n",
    "cv_auc_std= clf2.cv_results_['std_test_score']\n",
    "\n",
    "K=np.log10([0.00001,0.0001,0.001,0.01,0.1,10,100,1000,10000,100000])\n",
    "plt.plot(K, train_auc, label='Train AUC')\n",
    "# this code is copied from here: https://stackoverflow.com/a/48803361/4084039\n",
    "#plt.gca().fill_between(K,train_auc - train_auc_std,train_auc + train_auc_std,alpha=0.2,color='darkblue')\n",
    "plt.scatter(K,train_auc,label='Train AUC')\n",
    "\n",
    "plt.plot(K, cv_auc, label='CV AUC')\n",
    "# this code is copied from here: https://stackoverflow.com/a/48803361/4084039\n",
    "#plt.gca().fill_between(K,cv_auc - cv_auc_std,cv_auc + cv_auc_std,alpha=0.2,color='darkorange')\n",
    "plt.scatter(K,cv_auc,label='Train AUC')\n",
    "\n",
    "plt.legend()\n",
    "plt.xlabel(\"alpha: hyperparameter\")\n",
    "plt.ylabel(\"AUC\")\n",
    "plt.title(\"Hyper parameter vs AUC plots\")\n",
    "plt.grid()\n",
    "plt.show()"
   ]
  },
  {
   "cell_type": "code",
   "execution_count": 57,
   "metadata": {},
   "outputs": [
    {
     "name": "stdout",
     "output_type": "stream",
     "text": [
      "0.001\n",
      "l2\n"
     ]
    }
   ],
   "source": [
    "best_alpha_tfidf=clf2.best_params_['alpha']\n",
    "best_reg_tfidf=clf2.best_params_['penalty']\n",
    "print(best_alpha_tfidf)\n",
    "print(best_reg_tfidf)"
   ]
  },
  {
   "cell_type": "code",
   "execution_count": 58,
   "metadata": {},
   "outputs": [
    {
     "name": "stdout",
     "output_type": "stream",
     "text": [
      "SGDClassifier(alpha=0.001, average=True, class_weight='balanced',\n",
      "              early_stopping=False, epsilon=0.1, eta0=0.0, fit_intercept=True,\n",
      "              l1_ratio=0.15, learning_rate='optimal', loss='hinge',\n",
      "              max_iter=1000, n_iter_no_change=5, n_jobs=None, penalty='l2',\n",
      "              power_t=0.5, random_state=None, shuffle=True, tol=0.001,\n",
      "              validation_fraction=0.1, verbose=0, warm_start=False)\n",
      "0.9336968207195404\n"
     ]
    },
    {
     "data": {
      "image/png": "[encoded data removed]",
      "text/plain": [
       "<Figure size 432x288 with 1 Axes>"
      ]
     },
     "metadata": {
      "needs_background": "light"
     },
     "output_type": "display_data"
    }
   ],
   "source": [
    "#Now testing with Test data.\n",
    "from sklearn.calibration import CalibratedClassifierCV\n",
    "model2s = CalibratedClassifierCV(best_clf2)\n",
    "model2s.fit(x_trn_tfidf, y_train)\n",
    "y_trn_predss=model2s.predict(x_trn_tfidf)\n",
    "y_tst_predss= model2s.predict(x_tst_tfidf)\n",
    "\n",
    "#(area under the curve)AUC= roc_auc_score(y_true, y_probs) the 2nd parameter should be probability estimates \n",
    "#  of the positive class not the predicted outputs.\n",
    "\n",
    "x_trn_probss=model2s.predict_proba(x_trn_tfidf)[:,1]\n",
    "x_tst_probss=model2s.predict_proba(x_tst_tfidf)[:,1]\n",
    "print(clf2.best_estimator_)\n",
    "print(clf2.score(x_tst_tfidf, y_test))\n",
    "# Also we have direct library 'auc' to find the Area Under the ROC Curve. i have plotted in below graph.\n",
    "from sklearn.metrics import roc_curve,auc\n",
    "train_fpr,train_tpr,threshold=roc_curve(y_train,x_trn_probss)\n",
    "test_fpr,test_tpr,thresholds=roc_curve(y_test,x_tst_probss)\n",
    "plt.plot(train_fpr,train_tpr,marker='.',label='trainAUC='+str(np.round(auc(train_fpr,train_tpr),3)))\n",
    "plt.plot(test_fpr,test_tpr,marker='.',label='testAUC='+str(np.round(auc(test_fpr,test_tpr),3)))\n",
    "plt.plot([0, 1], [0, 1], linestyle='--',label='straight line')\n",
    "plt.legend()\n",
    "plt.title('ROC plots')\n",
    "plt.xlabel('FPR')\n",
    "plt.ylabel('TPR')\n",
    "plt.grid()\n",
    "plt.show()"
   ]
  },
  {
   "cell_type": "code",
   "execution_count": 59,
   "metadata": {},
   "outputs": [
    {
     "name": "stdout",
     "output_type": "stream",
     "text": [
      "the maximum value of tpr*(1-fpr): 0.9385849482431949 ------> for Threshold: 0.736\n",
      "confusion matrix using train data:\n",
      "[[ 7953  1667]\n",
      " [  643 51178]]\n"
     ]
    },
    {
     "data": {
      "image/png": "[encoded data removed]",
      "text/plain": [
       "<Figure size 432x288 with 2 Axes>"
      ]
     },
     "metadata": {
      "needs_background": "light"
     },
     "output_type": "display_data"
    }
   ],
   "source": [
    "from sklearn.metrics import confusion_matrix\n",
    "best_t = find_best_threshold(threshold, train_fpr, train_tpr)\n",
    "print('confusion matrix using train data:')\n",
    "print(confusion_matrix(y_train,predict_with_best_t(y_trn_predss, best_t)))\n",
    "\n",
    "q=confusion_matrix(y_train,predict_with_best_t(y_trn_predss, best_t))\n",
    "import seaborn as sns\n",
    "sns.heatmap(q, annot=True, fmt=\"d\" ,linewidths=.5,xticklabels=['Negative','Positive'], yticklabels=['Negative','Positive'])\n",
    "plt.title('Confusion matrix with Train Data')\n",
    "plt.xlabel('Y True')\n",
    "plt.ylabel('Y predicted')\n",
    "plt.show()"
   ]
  },
  {
   "cell_type": "code",
   "execution_count": 60,
   "metadata": {},
   "outputs": [
    {
     "name": "stdout",
     "output_type": "stream",
     "text": [
      "confusion matrix using test data:\n",
      "[[ 3051  1510]\n",
      " [  517 21254]]\n"
     ]
    },
    {
     "data": {
      "image/png": "[encoded data removed]",
      "text/plain": [
       "<Figure size 432x288 with 2 Axes>"
      ]
     },
     "metadata": {
      "needs_background": "light"
     },
     "output_type": "display_data"
    }
   ],
   "source": [
    "print('confusion matrix using test data:')\n",
    "print(confusion_matrix(y_test,predict_with_best_t(y_tst_predss, best_t)))\n",
    "w=confusion_matrix(y_test,predict_with_best_t(y_tst_predss, best_t))\n",
    "import seaborn as sns\n",
    "sns.heatmap(w, annot=True, fmt=\"d\",linewidths=.5,xticklabels=['Negative','Positive'], yticklabels=['Negative','Positive'])\n",
    "plt.title('Confusion Matrix with Test Data')\n",
    "plt.xlabel('Y true')\n",
    "plt.ylabel('Y predicted')\n",
    "plt.show()"
   ]
  },
  {
   "cell_type": "code",
   "execution_count": 61,
   "metadata": {},
   "outputs": [
    {
     "name": "stdout",
     "output_type": "stream",
     "text": [
      "number of Positive feature weights in the list:  21534\n",
      "number of Negative feature weights in the list:  14637\n"
     ]
    }
   ],
   "source": [
    "logweights=best_clf2.best_estimator_.coef_[0]\n",
    "neg_weights=[0]\n",
    "pos_weights=[0]\n",
    "neg_weights = list(filter(lambda x: (x < 0), logweights)) \n",
    "   \n",
    "pos_weights = list(filter(lambda x: (x >= 0), logweights)) \n",
    "  \n",
    "print(\"number of Positive feature weights in the list: \", len(pos_weights)) \n",
    "print(\"number of Negative feature weights in the list: \", len(neg_weights))"
   ]
  },
  {
   "cell_type": "code",
   "execution_count": 62,
   "metadata": {},
   "outputs": [
    {
     "data": {
      "text/html": [
       "<div>\n",
       "<style scoped>\n",
       "    .dataframe tbody tr th:only-of-type {\n",
       "        vertical-align: middle;\n",
       "    }\n",
       "\n",
       "    .dataframe tbody tr th {\n",
       "        vertical-align: top;\n",
       "    }\n",
       "\n",
       "    .dataframe thead th {\n",
       "        text-align: right;\n",
       "    }\n",
       "</style>\n",
       "<table border=\"1\" class=\"dataframe\">\n",
       "  <thead>\n",
       "    <tr style=\"text-align: right;\">\n",
       "      <th></th>\n",
       "      <th>Top10_positive_features</th>\n",
       "    </tr>\n",
       "  </thead>\n",
       "  <tbody>\n",
       "    <tr>\n",
       "      <th>0</th>\n",
       "      <td>coffees taste</td>\n",
       "    </tr>\n",
       "    <tr>\n",
       "      <th>1</th>\n",
       "      <td>connection</td>\n",
       "    </tr>\n",
       "    <tr>\n",
       "      <th>2</th>\n",
       "      <td>generously</td>\n",
       "    </tr>\n",
       "    <tr>\n",
       "      <th>3</th>\n",
       "      <td>great tasty</td>\n",
       "    </tr>\n",
       "    <tr>\n",
       "      <th>4</th>\n",
       "      <td>flavor especially</td>\n",
       "    </tr>\n",
       "    <tr>\n",
       "      <th>5</th>\n",
       "      <td>caribou</td>\n",
       "    </tr>\n",
       "    <tr>\n",
       "      <th>6</th>\n",
       "      <td>digests</td>\n",
       "    </tr>\n",
       "    <tr>\n",
       "      <th>7</th>\n",
       "      <td>first experience</td>\n",
       "    </tr>\n",
       "    <tr>\n",
       "      <th>8</th>\n",
       "      <td>around longer</td>\n",
       "    </tr>\n",
       "    <tr>\n",
       "      <th>9</th>\n",
       "      <td>donuts coffee</td>\n",
       "    </tr>\n",
       "  </tbody>\n",
       "</table>\n",
       "</div>"
      ],
      "text/plain": [
       "  Top10_positive_features\n",
       "0           coffees taste\n",
       "1              connection\n",
       "2              generously\n",
       "3             great tasty\n",
       "4       flavor especially\n",
       "5                 caribou\n",
       "6                 digests\n",
       "7        first experience\n",
       "8           around longer\n",
       "9           donuts coffee"
      ]
     },
     "execution_count": 62,
     "metadata": {},
     "output_type": "execute_result"
    }
   ],
   "source": [
    "# the below argsort gives the sorted feature_log _prob indices as output.\n",
    "positive_prob_sorted_indicess = np.array(pos_weights).argsort()\n",
    "#now getting the features_names as with those top 10 sorted indices.\n",
    "TOP10_pos_features=np.take(tf_idf_vect.get_feature_names(), positive_prob_sorted_indicess[-10:])\n",
    "pd.DataFrame(TOP10_pos_features,columns=['Top10_positive_features'])"
   ]
  },
  {
   "cell_type": "code",
   "execution_count": 63,
   "metadata": {},
   "outputs": [
    {
     "data": {
      "text/html": [
       "<div>\n",
       "<style scoped>\n",
       "    .dataframe tbody tr th:only-of-type {\n",
       "        vertical-align: middle;\n",
       "    }\n",
       "\n",
       "    .dataframe tbody tr th {\n",
       "        vertical-align: top;\n",
       "    }\n",
       "\n",
       "    .dataframe thead th {\n",
       "        text-align: right;\n",
       "    }\n",
       "</style>\n",
       "<table border=\"1\" class=\"dataframe\">\n",
       "  <thead>\n",
       "    <tr style=\"text-align: right;\">\n",
       "      <th></th>\n",
       "      <th>Top10_negative_features</th>\n",
       "    </tr>\n",
       "  </thead>\n",
       "  <tbody>\n",
       "    <tr>\n",
       "      <th>0</th>\n",
       "      <td>bag pretty</td>\n",
       "    </tr>\n",
       "    <tr>\n",
       "      <th>1</th>\n",
       "      <td>exact</td>\n",
       "    </tr>\n",
       "    <tr>\n",
       "      <th>2</th>\n",
       "      <td>assam</td>\n",
       "    </tr>\n",
       "    <tr>\n",
       "      <th>3</th>\n",
       "      <td>core</td>\n",
       "    </tr>\n",
       "    <tr>\n",
       "      <th>4</th>\n",
       "      <td>also price</td>\n",
       "    </tr>\n",
       "    <tr>\n",
       "      <th>5</th>\n",
       "      <td>getting ready</td>\n",
       "    </tr>\n",
       "    <tr>\n",
       "      <th>6</th>\n",
       "      <td>containing</td>\n",
       "    </tr>\n",
       "    <tr>\n",
       "      <th>7</th>\n",
       "      <td>go organic</td>\n",
       "    </tr>\n",
       "    <tr>\n",
       "      <th>8</th>\n",
       "      <td>amazon review</td>\n",
       "    </tr>\n",
       "    <tr>\n",
       "      <th>9</th>\n",
       "      <td>feral</td>\n",
       "    </tr>\n",
       "  </tbody>\n",
       "</table>\n",
       "</div>"
      ],
      "text/plain": [
       "  Top10_negative_features\n",
       "0              bag pretty\n",
       "1                   exact\n",
       "2                   assam\n",
       "3                    core\n",
       "4              also price\n",
       "5           getting ready\n",
       "6              containing\n",
       "7              go organic\n",
       "8           amazon review\n",
       "9                   feral"
      ]
     },
     "execution_count": 63,
     "metadata": {},
     "output_type": "execute_result"
    }
   ],
   "source": [
    "# the below argsort gives the sorted feature_log _prob indices as output.\n",
    "negative_prob_sorted_indicess = np.array(neg_weights).argsort()\n",
    "#now getting the features_names as with those top 10 sorted indices.\n",
    "TOP10_neg_features=np.take(tf_idf_vect.get_feature_names(), negative_prob_sorted_indicess[-10:])\n",
    "pd.DataFrame(TOP10_neg_features,columns=['Top10_negative_features'])"
   ]
  },
  {
   "cell_type": "markdown",
   "metadata": {},
   "source": [
    "### [5.1.3]  Applying Linear SVM on AVG W2V,<font color='red'> SET 3</font>"
   ]
  },
  {
   "cell_type": "code",
   "execution_count": null,
   "metadata": {},
   "outputs": [],
   "source": [
    "# Please write all the code with proper documentation"
   ]
  },
  {
   "cell_type": "code",
   "execution_count": 64,
   "metadata": {},
   "outputs": [],
   "source": [
    "X=preprocessed_reviews\n",
    "Y=final['Score']\n",
    "x_train=preprocessed_reviews[:21000]\n",
    "x_test=preprocessed_reviews[21000:30000]\n",
    "y_train=final['Score'][:21000]\n",
    "y_test=final['Score'][21000:30000]"
   ]
  },
  {
   "cell_type": "code",
   "execution_count": 65,
   "metadata": {},
   "outputs": [
    {
     "name": "stdout",
     "output_type": "stream",
     "text": [
      "21000\n"
     ]
    }
   ],
   "source": [
    "# Train your own Word2Vec model using your own text corpus\n",
    "i=0\n",
    "list_of_sentance_train=[]\n",
    "for sentance in x_train:\n",
    "    list_of_sentance_train.append(sentance.split())\n",
    "\n",
    "print(len(list_of_sentance_train))"
   ]
  },
  {
   "cell_type": "code",
   "execution_count": 66,
   "metadata": {},
   "outputs": [
    {
     "name": "stderr",
     "output_type": "stream",
     "text": [
      "C:\\Users\\hp\\Anaconda3\\lib\\site-packages\\gensim\\models\\base_any2vec.py:743: UserWarning: C extension not loaded, training will be slow. Install a C compiler and reinstall gensim for fast training.\n",
      "  \"C extension not loaded, training will be slow. \"\n"
     ]
    }
   ],
   "source": [
    "from gensim.models import Word2Vec\n",
    "from gensim.models import KeyedVectors\n",
    "from tqdm import tqdm\n",
    "\n",
    "# this line of code trains your w2v model on the give list of sentances\n",
    "w2v_model_train=Word2Vec(list_of_sentance_train,min_count=5,size=50, workers=4)"
   ]
  },
  {
   "cell_type": "code",
   "execution_count": 67,
   "metadata": {},
   "outputs": [
    {
     "name": "stdout",
     "output_type": "stream",
     "text": [
      "number of words that occured minimum 5 times  8707\n",
      "sample words  ['bought', 'apartment', 'infested', 'fruit', 'flies', 'hours', 'trap', 'attracted', 'many', 'within', 'days', 'practically', 'gone', 'may', 'not', 'long', 'term', 'solution', 'driving', 'crazy', 'consider', 'buying', 'one', 'caution', 'surface', 'sticky', 'try', 'avoid', 'touching', 'really', 'good', 'idea', 'final', 'product', 'outstanding', 'use', 'car', 'window', 'everybody', 'asks', 'made', 'two', 'thumbs', 'received', 'shipment', 'could', 'hardly', 'wait', 'love', 'call']\n"
     ]
    }
   ],
   "source": [
    "w2v_words_train = list(w2v_model_train.wv.vocab)\n",
    "print(\"number of words that occured minimum 5 times \",len(w2v_words_train))\n",
    "print(\"sample words \", w2v_words_train[0:50])"
   ]
  },
  {
   "cell_type": "code",
   "execution_count": 68,
   "metadata": {},
   "outputs": [
    {
     "name": "stderr",
     "output_type": "stream",
     "text": [
      "100%|███████████████████████████████████████████████████████████████████████████| 21000/21000 [01:03<00:00, 333.33it/s]\n"
     ]
    },
    {
     "name": "stdout",
     "output_type": "stream",
     "text": [
      "21000\n",
      "[ 0.1862834   0.0373086   0.60929474 -0.07694903  0.05183756 -0.15995007\n",
      " -0.01250804  0.0874131  -0.74295178 -0.29419485  0.02338629 -0.44475197\n",
      "  0.06516899 -0.1222926  -0.07839872  0.01675174  0.17071485 -0.06715247\n",
      "  0.14322624 -0.23131379 -0.03665697  0.1497794  -0.47703949 -0.24930483\n",
      " -0.04780365 -0.2996598  -0.4460936   0.13688807  0.56322365 -0.33172258\n",
      "  0.05738286  0.03976925  0.19999034 -0.07629974  0.33621003  0.0782801\n",
      "  0.10285731  0.08082833 -0.02063537 -0.19158717  0.6324102   0.31165889\n",
      " -0.39250758 -0.76167288 -0.1051746   0.0850501   0.55189093 -0.63855995\n",
      "  0.01372432  0.27762464]\n"
     ]
    }
   ],
   "source": [
    "# average Word2Vec\n",
    "# compute average word2vec for each review.\n",
    "sent_vectors_train = []; # the avg-w2v for each sentence/review is stored in this list\n",
    "for sent in tqdm(list_of_sentance_train): # for each review/sentence\n",
    "    sent_vec = np.zeros(50) # as word vectors are of zero length 50, you might need to change this to 300 if you use google's w2v\n",
    "    cnt_words =0; # num of words with a valid vector in the sentence/review\n",
    "    for word in sent: # for each word in a review/sentence\n",
    "        if word in w2v_words_train:\n",
    "            vec = w2v_model_train.wv[word]\n",
    "            sent_vec += vec\n",
    "            cnt_words += 1\n",
    "    if cnt_words != 0:\n",
    "        sent_vec /= cnt_words\n",
    "    sent_vectors_train.append(sent_vec)\n",
    "sent_vectors_train = np.array(sent_vectors_train)\n",
    "print(len(sent_vectors_train))\n",
    "print(sent_vectors_train[0])"
   ]
  },
  {
   "cell_type": "markdown",
   "metadata": {},
   "source": [
    "**Converting test text**"
   ]
  },
  {
   "cell_type": "code",
   "execution_count": 69,
   "metadata": {},
   "outputs": [
    {
     "name": "stdout",
     "output_type": "stream",
     "text": [
      "9000\n"
     ]
    }
   ],
   "source": [
    "i=0\n",
    "list_of_sentance_test=[]\n",
    "for sentance in x_test:\n",
    "    list_of_sentance_test.append(sentance.split())\n",
    "    \n",
    "print(len(list_of_sentance_test))"
   ]
  },
  {
   "cell_type": "code",
   "execution_count": 70,
   "metadata": {},
   "outputs": [
    {
     "name": "stderr",
     "output_type": "stream",
     "text": [
      "100%|█████████████████████████████████████████████████████████████████████████████| 9000/9000 [00:27<00:00, 323.23it/s]\n"
     ]
    },
    {
     "name": "stdout",
     "output_type": "stream",
     "text": [
      "9000\n",
      "[ 0.23841741  0.2201766   0.44090741  0.14175725 -0.36352905 -0.24903761\n",
      " -0.2827982   0.08424911 -0.82920955 -0.17403579  0.06869523 -0.38803243\n",
      "  0.01515549 -0.12669018  0.15960497  0.17168177  0.18064588 -0.00726284\n",
      "  0.27406538 -0.41100304  0.27654557  0.24551412 -0.33590229 -0.34480051\n",
      "  0.2885684  -0.36982877 -0.69670391  0.08448723  0.52052199 -0.39043615\n",
      "  0.25763442  0.10610661  0.27272592  0.01519649  0.50361941  0.49773062\n",
      "  0.22181523 -0.17516601  0.03226954 -0.44842454  0.84186635 -0.18190539\n",
      " -0.17906656 -0.57981787 -0.18951577  0.33670608  0.54126488 -0.73743475\n",
      "  0.13838774  0.13300532]\n"
     ]
    }
   ],
   "source": [
    "# average Word2Vec\n",
    "# compute average word2vec for each review.\n",
    "sent_vectors_test = []; # the avg-w2v for each sentence/review is stored in this list\n",
    "for sent in tqdm(list_of_sentance_test): # for each review/sentence\n",
    "    sent_vec = np.zeros(50) # as word vectors are of zero length 50, you might need to change this to 300 if you use google's w2v\n",
    "    cnt_words =0; # num of words with a valid vector in the sentence/review\n",
    "    for word in sent: # for each word in a review/sentence\n",
    "        if word in w2v_words_train:\n",
    "            vec = w2v_model_train.wv[word]\n",
    "            sent_vec += vec\n",
    "            cnt_words += 1\n",
    "    if cnt_words != 0:\n",
    "        sent_vec /= cnt_words\n",
    "    sent_vectors_test.append(sent_vec)\n",
    "sent_vectors_test = np.array(sent_vectors_test)\n",
    "print(len(sent_vectors_test))\n",
    "print(sent_vectors_test[0])"
   ]
  },
  {
   "cell_type": "code",
   "execution_count": 71,
   "metadata": {},
   "outputs": [],
   "source": [
    "from sklearn.preprocessing import StandardScaler\n",
    "stand=StandardScaler(with_mean=False,with_std=False)\n",
    "sent_vectors_train=stand.fit_transform(sent_vectors_train)\n",
    "sent_vectors_test=stand.transform(sent_vectors_test)"
   ]
  },
  {
   "cell_type": "code",
   "execution_count": 72,
   "metadata": {},
   "outputs": [
    {
     "data": {
      "image/png": "[encoded data removed]",
      "text/plain": [
       "<Figure size 432x288 with 1 Axes>"
      ]
     },
     "metadata": {
      "needs_background": "light"
     },
     "output_type": "display_data"
    }
   ],
   "source": [
    "from sklearn.model_selection import RandomizedSearchCV\n",
    "from sklearn.linear_model import SGDClassifier\n",
    "model4=SGDClassifier(loss='hinge',class_weight='balanced',average =True)\n",
    "parameters={'alpha':[0.00001,0.0001,0.001,0.01,0.1,1,10,100,1000,10000,100000],\n",
    "            'penalty' :['l1','l2']}\n",
    "clf4=RandomizedSearchCV(model4,parameters,cv=5,scoring='roc_auc',return_train_score=True)\n",
    "best_clf4=clf4.fit(sent_vectors_train,y_train)\n",
    "\n",
    "train_auc= clf4.cv_results_['mean_train_score']\n",
    "train_auc_std= clf4.cv_results_['std_train_score']\n",
    "cv_auc = clf4.cv_results_['mean_test_score'] \n",
    "cv_auc_std= clf4.cv_results_['std_test_score']\n",
    "\n",
    "K=np.log10([0.00001,0.0001,0.001,0.01,0.1,10,100,1000,10000,100000])\n",
    "plt.plot(K, train_auc, label='Train AUC')\n",
    "# this code is copied from here: https://stackoverflow.com/a/48803361/4084039\n",
    "#plt.gca().fill_between(K,train_auc - train_auc_std,train_auc + train_auc_std,alpha=0.2,color='darkblue')\n",
    "plt.scatter(K,train_auc,label='Train AUC')\n",
    "\n",
    "plt.plot(K, cv_auc, label='CV AUC')\n",
    "# this code is copied from here: https://stackoverflow.com/a/48803361/4084039\n",
    "#plt.gca().fill_between(K,cv_auc - cv_auc_std,cv_auc + cv_auc_std,alpha=0.2,color='darkorange')\n",
    "plt.scatter(K,cv_auc,label='Train AUC')\n",
    "\n",
    "plt.legend()\n",
    "plt.xlabel(\"K: hyperparameter\")\n",
    "plt.ylabel(\"AUC\")\n",
    "plt.title(\"ERROR PLOTS\")\n",
    "plt.grid()\n",
    "plt.show()"
   ]
  },
  {
   "cell_type": "code",
   "execution_count": 73,
   "metadata": {},
   "outputs": [
    {
     "name": "stdout",
     "output_type": "stream",
     "text": [
      "l2\n",
      "0.0001\n"
     ]
    }
   ],
   "source": [
    "bestC=clf4.best_params_['alpha']\n",
    "bestarg=clf4.best_params_['penalty']\n",
    "print(bestarg)\n",
    "print(bestC)"
   ]
  },
  {
   "cell_type": "code",
   "execution_count": 74,
   "metadata": {},
   "outputs": [
    {
     "name": "stdout",
     "output_type": "stream",
     "text": [
      "SGDClassifier(alpha=0.0001, average=True, class_weight='balanced',\n",
      "              early_stopping=False, epsilon=0.1, eta0=0.0, fit_intercept=True,\n",
      "              l1_ratio=0.15, learning_rate='optimal', loss='hinge',\n",
      "              max_iter=1000, n_iter_no_change=5, n_jobs=None, penalty='l2',\n",
      "              power_t=0.5, random_state=None, shuffle=True, tol=0.001,\n",
      "              validation_fraction=0.1, verbose=0, warm_start=False)\n",
      "0.8738020184025115\n"
     ]
    },
    {
     "data": {
      "image/png": "[encoded data removed]",
      "text/plain": [
       "<Figure size 432x288 with 1 Axes>"
      ]
     },
     "metadata": {
      "needs_background": "light"
     },
     "output_type": "display_data"
    }
   ],
   "source": [
    "from sklearn.calibration import CalibratedClassifierCV\n",
    "model4s = CalibratedClassifierCV(best_clf4)\n",
    "model4s.fit(sent_vectors_train, y_train)\n",
    "y_trn_pred=model4s.predict(sent_vectors_train)\n",
    "y_tst_pred=model4s.predict(sent_vectors_test)\n",
    "\n",
    "print(clf4.best_estimator_)\n",
    "print(clf4.score(sent_vectors_test, y_test))\n",
    "# roc_auc_score(y_true, y_score) the 2nd parameter should be probability estimates of the positive class\n",
    "# not the predicted outputs\n",
    "\n",
    "train_fpr, train_tpr, thresholds = roc_curve(y_train, model4s.predict_proba(sent_vectors_train)[:,1])\n",
    "test_fpr, test_tpr, thresholds = roc_curve(y_test, model4s.predict_proba(sent_vectors_test)[:,1])\n",
    "\n",
    "plt.plot(train_fpr, train_tpr,marker='.',label=\"train AUC =\"+str(auc(train_fpr, train_tpr)))\n",
    "plt.plot(test_fpr, test_tpr,marker='.',label=\"train AUC =\"+str(auc(test_fpr, test_tpr)))\n",
    "plt.plot([0, 1], [0, 1], linestyle='--',label='straight line')\n",
    "plt.legend()\n",
    "plt.xlabel(\"FPR\")\n",
    "plt.ylabel(\"TPR\")\n",
    "plt.title(\"ROC PLOTS\")\n",
    "plt.grid()\n",
    "plt.show()"
   ]
  },
  {
   "cell_type": "code",
   "execution_count": 75,
   "metadata": {},
   "outputs": [
    {
     "name": "stdout",
     "output_type": "stream",
     "text": [
      "the maximum value of tpr*(1-fpr): 0.6294332327937561 ------> for Threshold: 0.636\n",
      "confusion matrix using train data:\n",
      "[[  622  2029]\n",
      " [  369 17980]]\n"
     ]
    },
    {
     "data": {
      "image/png": "[encoded data removed]",
      "text/plain": [
       "<Figure size 432x288 with 2 Axes>"
      ]
     },
     "metadata": {
      "needs_background": "light"
     },
     "output_type": "display_data"
    }
   ],
   "source": [
    "from sklearn.metrics import confusion_matrix\n",
    "best_t = find_best_threshold(threshold, train_fpr, train_tpr)\n",
    "print('confusion matrix using train data:')\n",
    "print(confusion_matrix(y_train,predict_with_best_t(y_trn_pred, best_t)))\n",
    "\n",
    "q=confusion_matrix(y_train,predict_with_best_t(y_trn_pred, best_t))\n",
    "import seaborn as sns\n",
    "sns.heatmap(q, annot=True, fmt=\"d\" ,linewidths=.5,xticklabels=['Negative','Positive'], yticklabels=['Negative','Positive'])\n",
    "plt.title('Confusion matrix with Train Data')\n",
    "plt.xlabel('Y True')\n",
    "plt.ylabel('Y predicted')\n",
    "plt.show()"
   ]
  },
  {
   "cell_type": "code",
   "execution_count": 76,
   "metadata": {},
   "outputs": [
    {
     "name": "stdout",
     "output_type": "stream",
     "text": [
      "confusion matrix using test data:\n",
      "[[ 369 1062]\n",
      " [ 156 7413]]\n"
     ]
    },
    {
     "data": {
      "image/png": "[encoded data removed]",
      "text/plain": [
       "<Figure size 432x288 with 2 Axes>"
      ]
     },
     "metadata": {
      "needs_background": "light"
     },
     "output_type": "display_data"
    }
   ],
   "source": [
    "print('confusion matrix using test data:')\n",
    "print(confusion_matrix(y_test,predict_with_best_t(y_tst_pred, best_t)))\n",
    "w=confusion_matrix(y_test,predict_with_best_t(y_tst_pred, best_t))\n",
    "import seaborn as sns\n",
    "sns.heatmap(w, annot=True, fmt=\"d\",linewidths=.5,xticklabels=['Negative','Positive'], yticklabels=['Negative','Positive'])\n",
    "plt.title('Confusion Matrix with Test Data')\n",
    "plt.xlabel('Y true')\n",
    "plt.ylabel('Y predicted')\n",
    "plt.show()"
   ]
  },
  {
   "cell_type": "markdown",
   "metadata": {},
   "source": [
    "### [5.1.4]  Applying Linear SVM on TFIDF W2V,<font color='red'> SET 4</font>"
   ]
  },
  {
   "cell_type": "code",
   "execution_count": 77,
   "metadata": {},
   "outputs": [],
   "source": [
    "X=preprocessed_reviews\n",
    "Y=final['Score']\n",
    "x_train=preprocessed_reviews[:21000]\n",
    "x_test=preprocessed_reviews[21000:30000]\n",
    "y_train=final['Score'][:21000]\n",
    "y_test=final['Score'][21000:30000]"
   ]
  },
  {
   "cell_type": "code",
   "execution_count": 86,
   "metadata": {},
   "outputs": [],
   "source": [
    "# S = [\"abc def pqr\", \"def def def abc\", \"pqr pqr def\"]\n",
    "model = TfidfVectorizer()\n",
    "tf_idf_matrix_train = model.fit_transform(x_train)\n",
    "# we are converting a dictionary with word as a key, and the idf as a value\n",
    "dictionary = dict(zip(model.get_feature_names(), list(model.idf_)))"
   ]
  },
  {
   "cell_type": "code",
   "execution_count": 79,
   "metadata": {},
   "outputs": [
    {
     "name": "stderr",
     "output_type": "stream",
     "text": [
      "100%|████████████████████████████████████████████████████████████████████████████| 21000/21000 [08:39<00:00, 40.43it/s]\n"
     ]
    },
    {
     "name": "stdout",
     "output_type": "stream",
     "text": [
      "21000\n",
      "[ 0.16803345  0.09120561  0.51277671 -0.09639223  0.04880719 -0.10608445\n",
      "  0.01707762  0.0698525  -0.60494136 -0.21395063  0.01158865 -0.41679049\n",
      "  0.04397453 -0.12048286 -0.06994219 -0.02019159  0.09263644 -0.0483956\n",
      "  0.09646849 -0.17487617  0.04591503  0.20507461 -0.48173295 -0.26730909\n",
      " -0.04272296 -0.22408509 -0.43959377  0.09069476  0.46620038 -0.32335276\n",
      "  0.10233471 -0.02296718  0.23487879 -0.00885874  0.26558863  0.21961246\n",
      "  0.03854465  0.02984038 -0.05074986 -0.21312589  0.53483158  0.24889955\n",
      " -0.30936758 -0.5540806  -0.14506779  0.11477018  0.53500222 -0.56801969\n",
      "  0.05392758  0.26305283]\n"
     ]
    }
   ],
   "source": [
    "# TF-IDF weighted Word2Vec\n",
    "tfidf_feat_train = model.get_feature_names() # tfidf words/col-names\n",
    "# final_tf_idf is the sparse matrix with row= sentence, col=word and cell_val = tfidf\n",
    "\n",
    "tfidf_sent_vectors_train = []; # the tfidf-w2v for each sentence/review is stored in this list\n",
    "row=0;\n",
    "for sent in tqdm(list_of_sentance_train): # for each review/sentence \n",
    "    sent_vec = np.zeros(50) # as word vectors are of zero length\n",
    "    weight_sum =0; # num of words with a valid vector in the sentence/review\n",
    "    for word in sent: # for each word in a review/sentence\n",
    "        if word in w2v_words_train and word in tfidf_feat_train:\n",
    "            vec = w2v_model_train.wv[word]\n",
    "#             tf_idf = tf_idf_matrix[row, tfidf_feat.index(word)]\n",
    "            # to reduce the computation we are \n",
    "            # dictionary[word] = idf value of word in whole courpus\n",
    "            # sent.count(word) = tf valeus of word in this review\n",
    "            tf_idf = dictionary[word]*(sent.count(word)/len(sent))\n",
    "            sent_vec += (vec * tf_idf)\n",
    "            weight_sum += tf_idf\n",
    "    if weight_sum != 0:\n",
    "        sent_vec /= weight_sum\n",
    "    tfidf_sent_vectors_train.append(sent_vec)\n",
    "    row += 1\n",
    "print(len(tfidf_sent_vectors_train))\n",
    "print(tfidf_sent_vectors_train[0])"
   ]
  },
  {
   "cell_type": "markdown",
   "metadata": {},
   "source": [
    "**Converting test text**"
   ]
  },
  {
   "cell_type": "code",
   "execution_count": 90,
   "metadata": {},
   "outputs": [],
   "source": [
    "# S = [\"abc def pqr\", \"def def def abc\", \"pqr pqr def\"]\n",
    "#model = TfidfVectorizer()\n",
    "tf_idf_matrix_test = model.transform(x_test)\n",
    "# we are converting a dictionary with word as a key, and the idf as a value\n",
    "dictionary = dict(zip(model.get_feature_names(), list(model.idf_)))"
   ]
  },
  {
   "cell_type": "code",
   "execution_count": 88,
   "metadata": {},
   "outputs": [
    {
     "name": "stderr",
     "output_type": "stream",
     "text": [
      "100%|██████████████████████████████████████████████████████████████████████████████| 9000/9000 [03:41<00:00, 40.65it/s]\n"
     ]
    },
    {
     "name": "stdout",
     "output_type": "stream",
     "text": [
      "9000\n",
      "[ 0.21518762  0.23394612  0.40120385  0.08525657 -0.37619303 -0.25223099\n",
      " -0.29683458  0.11221101 -0.83544983 -0.17566623  0.04213995 -0.33554092\n",
      "  0.03169082 -0.155286    0.13370689  0.17742642  0.15041885  0.02049929\n",
      "  0.23425671 -0.37514135  0.28731764  0.32334559 -0.3405067  -0.33770696\n",
      "  0.24414484 -0.31837378 -0.62717524  0.07124539  0.49137834 -0.37300062\n",
      "  0.27171384  0.00609698  0.30683444  0.04027119  0.41891258  0.47494945\n",
      "  0.1919055  -0.11075058  0.00190739 -0.43948788  0.7962721  -0.15137933\n",
      " -0.1929832  -0.50134595 -0.14880411  0.35982188  0.56358659 -0.74298995\n",
      "  0.14188663  0.14400073]\n"
     ]
    }
   ],
   "source": [
    "# TF-IDF weighted Word2Vec\n",
    "tfidf_feat_test = model.get_feature_names() # tfidf words/col-names\n",
    "# final_tf_idf is the sparse matrix with row= sentence, col=word and cell_val = tfidf\n",
    "\n",
    "tfidf_sent_vectors_test = []; # the tfidf-w2v for each sentence/review is stored in this list\n",
    "row=0;\n",
    "for sent in tqdm(list_of_sentance_test): # for each review/sentence \n",
    "    sent_vec = np.zeros(50) # as word vectors are of zero length\n",
    "    weight_sum =0; # num of words with a valid vector in the sentence/review\n",
    "    for word in sent: # for each word in a review/sentence\n",
    "        if word in w2v_words_train and word in tfidf_feat_test:\n",
    "            vec = w2v_model_train.wv[word]\n",
    "#             tf_idf = tf_idf_matrix[row, tfidf_feat.index(word)]\n",
    "            # to reduce the computation we are \n",
    "            # dictionary[word] = idf value of word in whole courpus\n",
    "            # sent.count(word) = tf valeus of word in this review\n",
    "            tf_idf = dictionary[word]*(sent.count(word)/len(sent))\n",
    "            sent_vec += (vec * tf_idf)\n",
    "            weight_sum += tf_idf\n",
    "    if weight_sum != 0:\n",
    "        sent_vec /= weight_sum\n",
    "    tfidf_sent_vectors_test.append(sent_vec)\n",
    "    row += 1\n",
    "print(len(tfidf_sent_vectors_test))\n",
    "print(tfidf_sent_vectors_test[0])"
   ]
  },
  {
   "cell_type": "code",
   "execution_count": 110,
   "metadata": {},
   "outputs": [],
   "source": [
    "from sklearn.preprocessing import StandardScaler\n",
    "stand=StandardScaler(with_mean=False,with_std=False)\n",
    "tfidf_sent_vectors_train=stand.fit_transform(tfidf_sent_vectors_train)\n",
    "tfidf_sent_vectors_test=stand.transform(tfidf_sent_vectors_test)"
   ]
  },
  {
   "cell_type": "code",
   "execution_count": 98,
   "metadata": {},
   "outputs": [],
   "source": [
    "#tfidf_sent_vectors_train #tfidf_sent_vectors_test.shape"
   ]
  },
  {
   "cell_type": "code",
   "execution_count": 99,
   "metadata": {},
   "outputs": [
    {
     "data": {
      "image/png": "[encoded data removed]",
      "text/plain": [
       "<Figure size 432x288 with 1 Axes>"
      ]
     },
     "metadata": {
      "needs_background": "light"
     },
     "output_type": "display_data"
    }
   ],
   "source": [
    "from sklearn.model_selection import RandomizedSearchCV\n",
    "from sklearn.linear_model import SGDClassifier\n",
    "model6=SGDClassifier(loss='hinge',class_weight='balanced',average =True)\n",
    "parameters={'alpha':[0.00001,0.0001,0.001,0.01,0.1,1,10,100,1000,10000,100000],\n",
    "            'penalty' :['l1','l2']}\n",
    "clf6=RandomizedSearchCV(model6,parameters,cv=5,scoring='roc_auc',return_train_score=True)\n",
    "best_clf6=clf6.fit(tfidf_sent_vectors_train,y_train)\n",
    "\n",
    "train_auc= clf6.cv_results_['mean_train_score']\n",
    "train_auc_std= clf6.cv_results_['std_train_score']\n",
    "cv_auc = clf6.cv_results_['mean_test_score'] \n",
    "cv_auc_std= clf6.cv_results_['std_test_score']\n",
    "\n",
    "K=np.log10([0.00001,0.0001,0.001,0.01,0.1,10,100,1000,10000,100000])\n",
    "plt.plot(K, train_auc, label='Train AUC')\n",
    "# this code is copied from here: https://stackoverflow.com/a/48803361/4084039\n",
    "#plt.gca().fill_between(K,train_auc - train_auc_std,train_auc + train_auc_std,alpha=0.2,color='darkblue')\n",
    "plt.scatter(K,train_auc,label='Train AUC')\n",
    "\n",
    "plt.plot(K, cv_auc, label='CV AUC')\n",
    "# this code is copied from here: https://stackoverflow.com/a/48803361/4084039\n",
    "#plt.gca().fill_between(K,cv_auc - cv_auc_std,cv_auc + cv_auc_std,alpha=0.2,color='darkorange')\n",
    "plt.scatter(K,cv_auc,label='Train AUC')\n",
    "plt.legend()\n",
    "plt.xlabel(\"C: hyperparameter\")\n",
    "plt.ylabel(\"AUC\")\n",
    "plt.title(\"ERROR PLOTS\")\n",
    "plt.grid()\n",
    "plt.show()"
   ]
  },
  {
   "cell_type": "code",
   "execution_count": 100,
   "metadata": {},
   "outputs": [
    {
     "name": "stdout",
     "output_type": "stream",
     "text": [
      "l1\n",
      "1e-05\n"
     ]
    }
   ],
   "source": [
    "bestC6=clf6.best_params_['alpha']\n",
    "bestreg6=clf6.best_params_['penalty']\n",
    "print(bestreg6)\n",
    "print(bestC6)"
   ]
  },
  {
   "cell_type": "code",
   "execution_count": 101,
   "metadata": {},
   "outputs": [
    {
     "name": "stdout",
     "output_type": "stream",
     "text": [
      "SGDClassifier(alpha=1e-05, average=True, class_weight='balanced',\n",
      "              early_stopping=False, epsilon=0.1, eta0=0.0, fit_intercept=True,\n",
      "              l1_ratio=0.15, learning_rate='optimal', loss='hinge',\n",
      "              max_iter=1000, n_iter_no_change=5, n_jobs=None, penalty='l1',\n",
      "              power_t=0.5, random_state=None, shuffle=True, tol=0.001,\n",
      "              validation_fraction=0.1, verbose=0, warm_start=False)\n",
      "0.8248252577567533\n"
     ]
    },
    {
     "data": {
      "image/png": "[encoded data removed]",
      "text/plain": [
       "<Figure size 432x288 with 1 Axes>"
      ]
     },
     "metadata": {
      "needs_background": "light"
     },
     "output_type": "display_data"
    }
   ],
   "source": [
    "from sklearn.calibration import CalibratedClassifierCV\n",
    "model6s = CalibratedClassifierCV(best_clf6)\n",
    "model6s.fit(tfidf_sent_vectors_train, y_train)\n",
    "y_trn_pred=model6s.predict(tfidf_sent_vectors_train)\n",
    "y_tst_pred=model6s.predict(tfidf_sent_vectors_test)\n",
    "print(clf6.best_estimator_)\n",
    "print(clf6.score(tfidf_sent_vectors_test, y_test))\n",
    "\n",
    "# roc_auc_score(y_true, y_score) the 2nd parameter should be probability estimates of the positive class\n",
    "# not the predicted outputs\n",
    "\n",
    "train_fpr, train_tpr, thresholds = roc_curve(y_train, model6s.predict_proba(tfidf_sent_vectors_train)[:,1])\n",
    "test_fpr, test_tpr, thresholds = roc_curve(y_test, model6s.predict_proba(tfidf_sent_vectors_test)[:,1])\n",
    "\n",
    "plt.plot(train_fpr, train_tpr,marker='.',label=\"train AUC =\"+str(auc(train_fpr, train_tpr)))\n",
    "plt.plot(test_fpr, test_tpr,marker='.',label=\"train AUC =\"+str(auc(test_fpr, test_tpr)))\n",
    "plt.plot([0, 1], [0, 1], linestyle='--',label='straight line')\n",
    "plt.legend()\n",
    "plt.xlabel(\"fpr\")\n",
    "plt.ylabel(\"tpr\")\n",
    "plt.title(\"ROC PLOTS\")\n",
    "plt.grid()\n",
    "plt.show()"
   ]
  },
  {
   "cell_type": "code",
   "execution_count": 102,
   "metadata": {},
   "outputs": [
    {
     "name": "stdout",
     "output_type": "stream",
     "text": [
      "the maximum value of tpr*(1-fpr): 0.5936938481369204 ------> for Threshold: 0.631\n",
      "confusion matrix using train data:\n",
      "[[  397  2254]\n",
      " [  306 18043]]\n"
     ]
    },
    {
     "data": {
      "image/png": "[encoded data removed]",
      "text/plain": [
       "<Figure size 432x288 with 2 Axes>"
      ]
     },
     "metadata": {
      "needs_background": "light"
     },
     "output_type": "display_data"
    }
   ],
   "source": [
    "from sklearn.metrics import confusion_matrix\n",
    "best_t = find_best_threshold(threshold, train_fpr, train_tpr)\n",
    "print('confusion matrix using train data:')\n",
    "print(confusion_matrix(y_train,predict_with_best_t(y_trn_pred, best_t)))\n",
    "\n",
    "q=confusion_matrix(y_train,predict_with_best_t(y_trn_pred, best_t))\n",
    "import seaborn as sns\n",
    "sns.heatmap(q, annot=True, fmt=\"d\" ,linewidths=.5,xticklabels=['Negative','Positive'], yticklabels=['Negative','Positive'])\n",
    "plt.title('Confusion matrix with Train Data')\n",
    "plt.xlabel('Y True')\n",
    "plt.ylabel('Y predicted')\n",
    "plt.show()"
   ]
  },
  {
   "cell_type": "code",
   "execution_count": 103,
   "metadata": {},
   "outputs": [
    {
     "name": "stdout",
     "output_type": "stream",
     "text": [
      "confusion matrix using test data:\n",
      "[[ 252 1179]\n",
      " [ 115 7454]]\n"
     ]
    },
    {
     "data": {
      "image/png": "[encoded data removed]",
      "text/plain": [
       "<Figure size 432x288 with 2 Axes>"
      ]
     },
     "metadata": {
      "needs_background": "light"
     },
     "output_type": "display_data"
    }
   ],
   "source": [
    "print('confusion matrix using test data:')\n",
    "print(confusion_matrix(y_test,predict_with_best_t(y_tst_pred, best_t)))\n",
    "w=confusion_matrix(y_test,predict_with_best_t(y_tst_pred, best_t))\n",
    "import seaborn as sns\n",
    "sns.heatmap(w, annot=True, fmt=\"d\",linewidths=.5,xticklabels=['Negative','Positive'], yticklabels=['Negative','Positive'])\n",
    "plt.title('Confusion Matrix with Test Data')\n",
    "plt.xlabel('Y true')\n",
    "plt.ylabel('Y predicted')\n",
    "plt.show()"
   ]
  },
  {
   "cell_type": "markdown",
   "metadata": {},
   "source": [
    "## [5.2] RBF SVM"
   ]
  },
  {
   "cell_type": "markdown",
   "metadata": {},
   "source": [
    "### [5.2.1] Applying RBF SVM on BOW,<font color='red'> SET 1</font>"
   ]
  },
  {
   "cell_type": "code",
   "execution_count": 106,
   "metadata": {},
   "outputs": [],
   "source": [
    "X=preprocessed_reviews\n",
    "Y=final['Score']\n",
    "x_train=preprocessed_reviews[:21000]\n",
    "x_test=preprocessed_reviews[21000:30000]\n",
    "y_train=final['Score'][:21000]\n",
    "y_test=final['Score'][21000:30000]"
   ]
  },
  {
   "cell_type": "code",
   "execution_count": 107,
   "metadata": {},
   "outputs": [],
   "source": [
    "from sklearn.feature_extraction.text import CountVectorizer\n",
    "count_vect=CountVectorizer(min_df = 10, max_features = 500 ) #initiating the bag of words library using countvectorizer.\n",
    "#machine is reading all the words as we gave access to only training text data.\n",
    "count_vect.fit(x_train)\n",
    "\n",
    "#countvectorizer is transforming the read text data into vectors.\n",
    "x_trn_bow=count_vect.transform(x_train)\n",
    "x_tst_bow=count_vect.transform(x_test)\n",
    "\n",
    "from sklearn.preprocessing import StandardScaler\n",
    "stand=StandardScaler(with_mean=False,with_std=False)\n",
    "x_trn_bow=stand.fit_transform(x_trn_bow)\n",
    "x_tst_bow=stand.transform(x_tst_bow)"
   ]
  },
  {
   "cell_type": "code",
   "execution_count": 108,
   "metadata": {},
   "outputs": [
    {
     "data": {
      "text/plain": [
       "((21000, 500), (9000, 500))"
      ]
     },
     "execution_count": 108,
     "metadata": {},
     "output_type": "execute_result"
    }
   ],
   "source": [
    "x_trn_bow.shape,x_tst_bow.shape"
   ]
  },
  {
   "cell_type": "code",
   "execution_count": 109,
   "metadata": {},
   "outputs": [
    {
     "name": "stderr",
     "output_type": "stream",
     "text": [
      "C:\\Users\\hp\\Anaconda3\\lib\\site-packages\\sklearn\\model_selection\\_search.py:266: UserWarning: The total space of parameters 9 is smaller than n_iter=10. Running 9 iterations. For exhaustive searches, use GridSearchCV.\n",
      "  % (grid_size, self.n_iter, grid_size), UserWarning)\n"
     ]
    }
   ],
   "source": [
    "from scipy.stats import uniform\n",
    "from sklearn.model_selection import RandomizedSearchCV\n",
    "from sklearn.svm import SVC\n",
    "import matplotlib.pyplot as plt\n",
    "import numpy as np\n",
    "#import math\n",
    "model=SVC(kernel='rbf',class_weight='balanced',probability = True)\n",
    "parameters={'C':[0.0001,0.001,0.01,0.1,1,10,100,1000,10000]}\n",
    "clf=RandomizedSearchCV(model,parameters,cv=5,scoring='roc_auc',return_train_score=True)\n",
    "best_clf=clf.fit(x_trn_bow,y_train)"
   ]
  },
  {
   "cell_type": "code",
   "execution_count": 110,
   "metadata": {},
   "outputs": [
    {
     "data": {
      "image/png": "[encoded data removed]",
      "text/plain": [
       "<Figure size 432x288 with 1 Axes>"
      ]
     },
     "metadata": {
      "needs_background": "light"
     },
     "output_type": "display_data"
    }
   ],
   "source": [
    "train_auc= clf.cv_results_['mean_train_score']\n",
    "train_auc_std= clf.cv_results_['std_train_score']\n",
    "cv_auc = clf.cv_results_['mean_test_score'] \n",
    "cv_auc_std= clf.cv_results_['std_test_score']\n",
    "\n",
    "K=np.log10([0.0001,0.001,0.01,0.1,1,10,100,1000,10000])\n",
    "plt.plot(K, train_auc, label='Train AUC')\n",
    "plt.scatter(K,train_auc,label='Train AUC')\n",
    "\n",
    "plt.plot(K, cv_auc, label='CV AUC')\n",
    "plt.scatter(K,cv_auc,label='CV AUC')\n",
    "\n",
    "plt.legend()\n",
    "plt.xlabel(\"C: hyperparameter\")\n",
    "plt.ylabel(\"AUC\")\n",
    "plt.title(\"Hyperparameter vs AUC Plots\")\n",
    "plt.grid()\n",
    "plt.show()"
   ]
  },
  {
   "cell_type": "code",
   "execution_count": 111,
   "metadata": {},
   "outputs": [
    {
     "name": "stdout",
     "output_type": "stream",
     "text": [
      "10\n"
     ]
    }
   ],
   "source": [
    "best_c=clf.best_params_['C']\n",
    "print(best_c)"
   ]
  },
  {
   "cell_type": "code",
   "execution_count": 112,
   "metadata": {},
   "outputs": [
    {
     "name": "stdout",
     "output_type": "stream",
     "text": [
      "SVC(C=10, cache_size=200, class_weight='balanced', coef0=0.0,\n",
      "    decision_function_shape='ovr', degree=3, gamma='auto_deprecated',\n",
      "    kernel='rbf', max_iter=-1, probability=True, random_state=None,\n",
      "    shrinking=True, tol=0.001, verbose=False)\n",
      "0.8912557926198471\n"
     ]
    },
    {
     "data": {
      "image/png": "[encoded data removed]",
      "text/plain": [
       "<Figure size 432x288 with 1 Axes>"
      ]
     },
     "metadata": {
      "needs_background": "light"
     },
     "output_type": "display_data"
    }
   ],
   "source": [
    "#Now testing with Test data.\n",
    "model = SVC(kernel='rbf',C=best_c,class_weight='balanced',probability =True)\n",
    "model.fit(x_trn_bow, y_train)\n",
    "y_trn_pred=model.predict(x_trn_bow)\n",
    "y_tst_pred= model.predict(x_tst_bow)\n",
    "\n",
    "#(area under the curve)AUC= roc_auc_score(y_true, y_probs) the 2nd parameter should be probability estimates \n",
    "#  of the positive class not the predicted outputs.\n",
    "\n",
    "x_trn_probs=model.predict_proba(x_trn_bow)[:,1]\n",
    "x_tst_probs=model.predict_proba(x_tst_bow)[:,1]\n",
    "print(clf.best_estimator_)\n",
    "print(clf.score(x_tst_bow, y_test))\n",
    "# Also we have direct library 'auc' to find the Area Under the ROC Curve. i have plotted in below graph.\n",
    "from sklearn.metrics import roc_curve,auc\n",
    "train_fpr,train_tpr,threshold=roc_curve(y_train,x_trn_probs)\n",
    "test_fpr,test_tpr,thresholds=roc_curve(y_test,x_tst_probs)\n",
    "plt.plot(train_fpr,train_tpr,marker='.',label='trainAUC='+str(np.round(auc(train_fpr,train_tpr),3)))\n",
    "plt.plot(test_fpr,test_tpr,marker='.',label='testAUC='+str(np.round(auc(test_fpr,test_tpr),3)))\n",
    "plt.plot([0, 1], [0, 1], linestyle='--',label='straight line')\n",
    "plt.legend()\n",
    "plt.title('ROC plots')\n",
    "plt.xlabel('FPR')\n",
    "plt.ylabel('TPR')\n",
    "plt.grid()\n",
    "plt.show()"
   ]
  },
  {
   "cell_type": "code",
   "execution_count": 113,
   "metadata": {},
   "outputs": [
    {
     "name": "stdout",
     "output_type": "stream",
     "text": [
      "the maximum value of tpr*(1-fpr): 0.7648361284791323 ------> for Threshold: 0.827\n",
      "confusion matrix using train data:\n",
      "[[ 2402   249]\n",
      " [ 2941 15408]]\n"
     ]
    },
    {
     "data": {
      "image/png": "[encoded data removed]",
      "text/plain": [
       "<Figure size 432x288 with 2 Axes>"
      ]
     },
     "metadata": {
      "needs_background": "light"
     },
     "output_type": "display_data"
    }
   ],
   "source": [
    "from sklearn.metrics import confusion_matrix\n",
    "best_t = find_best_threshold(threshold, train_fpr, train_tpr)\n",
    "print('confusion matrix using train data:')\n",
    "print(confusion_matrix(y_train,predict_with_best_t(y_trn_pred, best_t)))\n",
    "\n",
    "r=confusion_matrix(y_train,predict_with_best_t(y_trn_pred, best_t))\n",
    "import seaborn as sns\n",
    "sns.heatmap(r, annot=True, fmt=\"d\" ,linewidths=.5,xticklabels=['Negative','Positive'], yticklabels=['Negative','Positive'])\n",
    "plt.title('Confusion Matrix with Train Data')\n",
    "plt.xlabel('Y True')\n",
    "plt.ylabel('Y predicted')\n",
    "plt.show()"
   ]
  },
  {
   "cell_type": "code",
   "execution_count": 114,
   "metadata": {},
   "outputs": [
    {
     "name": "stdout",
     "output_type": "stream",
     "text": [
      "confusion matrix using test data:\n",
      "[[1155  276]\n",
      " [1353 6216]]\n"
     ]
    },
    {
     "data": {
      "image/png": "[encoded data removed]",
      "text/plain": [
       "<Figure size 432x288 with 2 Axes>"
      ]
     },
     "metadata": {
      "needs_background": "light"
     },
     "output_type": "display_data"
    }
   ],
   "source": [
    "print('confusion matrix using test data:')\n",
    "print(confusion_matrix(y_test,predict_with_best_t(y_tst_pred, best_t)))\n",
    "e=confusion_matrix(y_test,predict_with_best_t(y_tst_pred, best_t))\n",
    "import seaborn as sns\n",
    "sns.heatmap(e, annot=True, fmt=\"d\",linewidths=.5,xticklabels=['Negative','Positive'], yticklabels=['Negative','Positive'])\n",
    "plt.title('Confusion Matrix with Test Data')\n",
    "plt.xlabel('Y True')\n",
    "plt.ylabel('Y Predicted')\n",
    "plt.show()"
   ]
  },
  {
   "cell_type": "markdown",
   "metadata": {},
   "source": [
    "### [5.2.2] Applying RBF SVM on TFIDF,<font color='red'> SET 2</font>"
   ]
  },
  {
   "cell_type": "code",
   "execution_count": 115,
   "metadata": {},
   "outputs": [],
   "source": [
    "X=preprocessed_reviews\n",
    "Y=final['Score']\n",
    "x_train=preprocessed_reviews[:21000]\n",
    "x_test=preprocessed_reviews[21000:30000]\n",
    "y_train=final['Score'][:21000]\n",
    "y_test=final['Score'][21000:30000]"
   ]
  },
  {
   "cell_type": "code",
   "execution_count": 116,
   "metadata": {},
   "outputs": [],
   "source": [
    "from sklearn.feature_extraction.text import TfidfVectorizer\n",
    "tf_idf_vect= TfidfVectorizer(ngram_range=(1,2),min_df = 10, max_features = 500) #initiating Tfidf\n",
    "#machine is reading or learning all the text reviews from training data\n",
    "tf_idf_vect.fit(x_train)\n",
    "\n",
    "#Now transforming all the words learnt into vectors.\n",
    "x_trn_tfidf=tf_idf_vect.transform(x_train)\n",
    "x_tst_tfidf= tf_idf_vect.transform(x_test)\n",
    "\n",
    "from sklearn.preprocessing import StandardScaler\n",
    "stand=StandardScaler(with_mean=False,with_std=False)\n",
    "x_trn_tfidf=stand.fit_transform(x_trn_tfidf)\n",
    "x_tst_tfidf=stand.transform(x_tst_tfidf)"
   ]
  },
  {
   "cell_type": "code",
   "execution_count": 117,
   "metadata": {},
   "outputs": [
    {
     "data": {
      "text/plain": [
       "((21000, 500), (9000, 500))"
      ]
     },
     "execution_count": 117,
     "metadata": {},
     "output_type": "execute_result"
    }
   ],
   "source": [
    "x_trn_tfidf.shape,x_tst_tfidf.shape"
   ]
  },
  {
   "cell_type": "code",
   "execution_count": 118,
   "metadata": {},
   "outputs": [
    {
     "name": "stderr",
     "output_type": "stream",
     "text": [
      "C:\\Users\\hp\\Anaconda3\\lib\\site-packages\\sklearn\\model_selection\\_search.py:266: UserWarning: The total space of parameters 9 is smaller than n_iter=10. Running 9 iterations. For exhaustive searches, use GridSearchCV.\n",
      "  % (grid_size, self.n_iter, grid_size), UserWarning)\n"
     ]
    },
    {
     "data": {
      "image/png": "[encoded data removed]",
      "text/plain": [
       "<Figure size 432x288 with 1 Axes>"
      ]
     },
     "metadata": {
      "needs_background": "light"
     },
     "output_type": "display_data"
    }
   ],
   "source": [
    "from sklearn.model_selection import RandomizedSearchCV\n",
    "from sklearn.svm import SVC\n",
    "model2=SVC(kernel='rbf',class_weight='balanced',probability =True)\n",
    "parameters={'C':[0.0001,0.001,0.01,0.1,1,10,100,1000,10000]}\n",
    "clf2=RandomizedSearchCV(model2,parameters,cv=5,scoring='roc_auc',return_train_score=True)\n",
    "best_clf2=clf2.fit(x_trn_tfidf,y_train)\n",
    "\n",
    "train_auc= clf2.cv_results_['mean_train_score']\n",
    "train_auc_std= clf2.cv_results_['std_train_score']\n",
    "cv_auc = clf2.cv_results_['mean_test_score'] \n",
    "cv_auc_std= clf2.cv_results_['std_test_score']\n",
    "\n",
    "K=np.log10([0.0001,0.001,0.01,0.1,1,10,100,1000,10000])\n",
    "plt.plot(K, train_auc, label='Train AUC')\n",
    "# this code is copied from here: https://stackoverflow.com/a/48803361/4084039\n",
    "#plt.gca().fill_between(K,train_auc - train_auc_std,train_auc + train_auc_std,alpha=0.2,color='darkblue')\n",
    "plt.scatter(K,train_auc,label='Train AUC')\n",
    "\n",
    "plt.plot(K, cv_auc, label='CV AUC')\n",
    "# this code is copied from here: https://stackoverflow.com/a/48803361/4084039\n",
    "#plt.gca().fill_between(K,cv_auc - cv_auc_std,cv_auc + cv_auc_std,alpha=0.2,color='darkorange')\n",
    "plt.scatter(K,cv_auc,label='Train AUC')\n",
    "\n",
    "plt.legend()\n",
    "plt.xlabel(\"alpha: hyperparameter\")\n",
    "plt.ylabel(\"AUC\")\n",
    "plt.title(\"Hyper parameter vs AUC plots\")\n",
    "plt.grid()\n",
    "plt.show()"
   ]
  },
  {
   "cell_type": "code",
   "execution_count": 119,
   "metadata": {},
   "outputs": [
    {
     "name": "stdout",
     "output_type": "stream",
     "text": [
      "100\n"
     ]
    }
   ],
   "source": [
    "best_alpha_tfidf=clf2.best_params_['C']\n",
    "print(best_alpha_tfidf)"
   ]
  },
  {
   "cell_type": "code",
   "execution_count": 120,
   "metadata": {},
   "outputs": [
    {
     "name": "stdout",
     "output_type": "stream",
     "text": [
      "SVC(C=100, cache_size=200, class_weight='balanced', coef0=0.0,\n",
      "    decision_function_shape='ovr', degree=3, gamma='auto_deprecated',\n",
      "    kernel='rbf', max_iter=-1, probability=True, random_state=None,\n",
      "    shrinking=True, tol=0.001, verbose=False)\n",
      "0.8981338607706837\n"
     ]
    },
    {
     "data": {
      "image/png": "[encoded data removed]",
      "text/plain": [
       "<Figure size 432x288 with 1 Axes>"
      ]
     },
     "metadata": {
      "needs_background": "light"
     },
     "output_type": "display_data"
    }
   ],
   "source": [
    "#Now testing with Test data.\n",
    "model2=SVC(kernel='rbf',C=best_alpha_tfidf,class_weight='balanced',probability =True)\n",
    "model2.fit(x_trn_tfidf, y_train)\n",
    "y_trn_predss=model2.predict(x_trn_tfidf)\n",
    "y_tst_predss= model2.predict(x_tst_tfidf)\n",
    "\n",
    "#(area under the curve)AUC= roc_auc_score(y_true, y_probs) the 2nd parameter should be probability estimates \n",
    "#  of the positive class not the predicted outputs.\n",
    "\n",
    "x_trn_probss=model2.predict_proba(x_trn_tfidf)[:,1]\n",
    "x_tst_probss=model2.predict_proba(x_tst_tfidf)[:,1]\n",
    "print(clf2.best_estimator_)\n",
    "print(clf2.score(x_tst_tfidf, y_test))\n",
    "# Also we have direct library 'auc' to find the Area Under the ROC Curve. i have plotted in below graph.\n",
    "from sklearn.metrics import roc_curve,auc\n",
    "train_fpr,train_tpr,threshold=roc_curve(y_train,x_trn_probss)\n",
    "test_fpr,test_tpr,thresholds=roc_curve(y_test,x_tst_probss)\n",
    "plt.plot(train_fpr,train_tpr,marker='.',label='trainAUC='+str(np.round(auc(train_fpr,train_tpr),3)))\n",
    "plt.plot(test_fpr,test_tpr,marker='.',label='testAUC='+str(np.round(auc(test_fpr,test_tpr),3)))\n",
    "plt.plot([0, 1], [0, 1], linestyle='--',label='straight line')\n",
    "plt.legend()\n",
    "plt.title('ROC plots')\n",
    "plt.xlabel('FPR')\n",
    "plt.ylabel('TPR')\n",
    "plt.grid()\n",
    "plt.show()"
   ]
  },
  {
   "cell_type": "code",
   "execution_count": 121,
   "metadata": {},
   "outputs": [
    {
     "name": "stdout",
     "output_type": "stream",
     "text": [
      "the maximum value of tpr*(1-fpr): 0.7142239144263517 ------> for Threshold: 0.868\n",
      "confusion matrix using train data:\n",
      "[[ 2340   311]\n",
      " [ 3521 14828]]\n"
     ]
    },
    {
     "data": {
      "image/png": "[encoded data removed]",
      "text/plain": [
       "<Figure size 432x288 with 2 Axes>"
      ]
     },
     "metadata": {
      "needs_background": "light"
     },
     "output_type": "display_data"
    }
   ],
   "source": [
    "from sklearn.metrics import confusion_matrix\n",
    "best_t = find_best_threshold(threshold, train_fpr, train_tpr)\n",
    "print('confusion matrix using train data:')\n",
    "print(confusion_matrix(y_train,predict_with_best_t(y_trn_predss, best_t)))\n",
    "\n",
    "q=confusion_matrix(y_train,predict_with_best_t(y_trn_predss, best_t))\n",
    "import seaborn as sns\n",
    "sns.heatmap(q, annot=True, fmt=\"d\" ,linewidths=.5,xticklabels=['Negative','Positive'], yticklabels=['Negative','Positive'])\n",
    "plt.title('Confusion matrix with Train Data')\n",
    "plt.xlabel('Y True')\n",
    "plt.ylabel('Y predicted')\n",
    "plt.show()"
   ]
  },
  {
   "cell_type": "code",
   "execution_count": 122,
   "metadata": {},
   "outputs": [
    {
     "name": "stdout",
     "output_type": "stream",
     "text": [
      "confusion matrix using test data:\n",
      "[[1200  231]\n",
      " [1517 6052]]\n"
     ]
    },
    {
     "data": {
      "image/png": "[encoded data removed]",
      "text/plain": [
       "<Figure size 432x288 with 2 Axes>"
      ]
     },
     "metadata": {
      "needs_background": "light"
     },
     "output_type": "display_data"
    }
   ],
   "source": [
    "print('confusion matrix using test data:')\n",
    "print(confusion_matrix(y_test,predict_with_best_t(y_tst_predss, best_t)))\n",
    "w=confusion_matrix(y_test,predict_with_best_t(y_tst_predss, best_t))\n",
    "import seaborn as sns\n",
    "sns.heatmap(w, annot=True, fmt=\"d\",linewidths=.5,xticklabels=['Negative','Positive'], yticklabels=['Negative','Positive'])\n",
    "plt.title('Confusion Matrix with Test Data')\n",
    "plt.xlabel('Y true')\n",
    "plt.ylabel('Y predicted')\n",
    "plt.show()"
   ]
  },
  {
   "cell_type": "markdown",
   "metadata": {},
   "source": [
    "### [5.2.3]  Applying RBF SVM on AVG W2V,<font color='red'> SET 3</font>"
   ]
  },
  {
   "cell_type": "code",
   "execution_count": 123,
   "metadata": {},
   "outputs": [],
   "source": [
    "X=preprocessed_reviews\n",
    "Y=final['Score']\n",
    "x_train=preprocessed_reviews[:21000]\n",
    "x_test=preprocessed_reviews[21000:30000]\n",
    "y_train=final['Score'][:21000]\n",
    "y_test=final['Score'][21000:30000]"
   ]
  },
  {
   "cell_type": "code",
   "execution_count": 124,
   "metadata": {},
   "outputs": [],
   "source": [
    "from sklearn.preprocessing import StandardScaler\n",
    "stand=StandardScaler(with_mean=False,with_std=False)\n",
    "sent_vectors_train=stand.fit_transform(sent_vectors_train)\n",
    "sent_vectors_test=stand.transform(sent_vectors_test)"
   ]
  },
  {
   "cell_type": "code",
   "execution_count": 125,
   "metadata": {},
   "outputs": [
    {
     "data": {
      "text/plain": [
       "((21000, 50), (9000, 50))"
      ]
     },
     "execution_count": 125,
     "metadata": {},
     "output_type": "execute_result"
    }
   ],
   "source": [
    "sent_vectors_train.shape,sent_vectors_test.shape"
   ]
  },
  {
   "cell_type": "code",
   "execution_count": 126,
   "metadata": {},
   "outputs": [
    {
     "name": "stderr",
     "output_type": "stream",
     "text": [
      "C:\\Users\\hp\\Anaconda3\\lib\\site-packages\\sklearn\\model_selection\\_search.py:266: UserWarning: The total space of parameters 9 is smaller than n_iter=10. Running 9 iterations. For exhaustive searches, use GridSearchCV.\n",
      "  % (grid_size, self.n_iter, grid_size), UserWarning)\n"
     ]
    }
   ],
   "source": [
    "from sklearn.model_selection import RandomizedSearchCV\n",
    "from sklearn.svm import SVC\n",
    "model4=SVC(kernel='rbf',class_weight='balanced',probability =True)\n",
    "parameters={'C':[0.0001,0.001,0.01,0.1,1,10,100,1000,10000]}\n",
    "clf4=RandomizedSearchCV(model4,parameters,cv=5,scoring='roc_auc',return_train_score=True)\n",
    "best_clf4=clf4.fit(sent_vectors_train,y_train)"
   ]
  },
  {
   "cell_type": "code",
   "execution_count": 127,
   "metadata": {},
   "outputs": [
    {
     "data": {
      "image/png": "[encoded data removed]",
      "text/plain": [
       "<Figure size 432x288 with 1 Axes>"
      ]
     },
     "metadata": {
      "needs_background": "light"
     },
     "output_type": "display_data"
    }
   ],
   "source": [
    "train_auc= clf4.cv_results_['mean_train_score']\n",
    "train_auc_std= clf4.cv_results_['std_train_score']\n",
    "cv_auc = clf4.cv_results_['mean_test_score'] \n",
    "cv_auc_std= clf4.cv_results_['std_test_score']\n",
    "\n",
    "K=np.log10([0.0001,0.001,0.01,0.1,1,10,100,1000,10000])\n",
    "plt.plot(K, train_auc, label='Train AUC')\n",
    "# this code is copied from here: https://stackoverflow.com/a/48803361/4084039\n",
    "#plt.gca().fill_between(K,train_auc - train_auc_std,train_auc + train_auc_std,alpha=0.2,color='darkblue')\n",
    "plt.scatter(K,train_auc,label='Train AUC')\n",
    "\n",
    "plt.plot(K, cv_auc, label='CV AUC')\n",
    "# this code is copied from here: https://stackoverflow.com/a/48803361/4084039\n",
    "#plt.gca().fill_between(K,cv_auc - cv_auc_std,cv_auc + cv_auc_std,alpha=0.2,color='darkorange')\n",
    "plt.scatter(K,cv_auc,label='Train AUC')\n",
    "\n",
    "plt.legend()\n",
    "plt.xlabel(\"K: hyperparameter\")\n",
    "plt.ylabel(\"AUC\")\n",
    "plt.title(\"ERROR PLOTS\")\n",
    "plt.grid()\n",
    "plt.show()"
   ]
  },
  {
   "cell_type": "code",
   "execution_count": 128,
   "metadata": {},
   "outputs": [
    {
     "name": "stdout",
     "output_type": "stream",
     "text": [
      "100\n"
     ]
    }
   ],
   "source": [
    "bestC=clf4.best_params_['C']\n",
    "print(bestC)"
   ]
  },
  {
   "cell_type": "code",
   "execution_count": 129,
   "metadata": {},
   "outputs": [
    {
     "name": "stdout",
     "output_type": "stream",
     "text": [
      "SVC(C=100, cache_size=200, class_weight='balanced', coef0=0.0,\n",
      "    decision_function_shape='ovr', degree=3, gamma='auto_deprecated',\n",
      "    kernel='rbf', max_iter=-1, probability=True, random_state=None,\n",
      "    shrinking=True, tol=0.001, verbose=False)\n",
      "0.8902109444727422\n"
     ]
    },
    {
     "data": {
      "image/png": "[encoded data removed]",
      "text/plain": [
       "<Figure size 432x288 with 1 Axes>"
      ]
     },
     "metadata": {
      "needs_background": "light"
     },
     "output_type": "display_data"
    }
   ],
   "source": [
    "model4=SVC(kernel='rbf',C=bestC,class_weight='balanced',probability =True)\n",
    "model4.fit(sent_vectors_train, y_train)\n",
    "y_trn_pred=model4.predict(sent_vectors_train)\n",
    "y_tst_pred=model4.predict(sent_vectors_test)\n",
    "\n",
    "print(clf4.best_estimator_)\n",
    "print(clf4.score(sent_vectors_test, y_test))\n",
    "# roc_auc_score(y_true, y_score) the 2nd parameter should be probability estimates of the positive class\n",
    "# not the predicted outputs\n",
    "\n",
    "train_fpr, train_tpr, thresholds = roc_curve(y_train, model4.predict_proba(sent_vectors_train)[:,1])\n",
    "test_fpr, test_tpr, thresholds = roc_curve(y_test, model4.predict_proba(sent_vectors_test)[:,1])\n",
    "\n",
    "plt.plot(train_fpr, train_tpr,marker='.',label=\"train AUC =\"+str(auc(train_fpr, train_tpr)))\n",
    "plt.plot(test_fpr, test_tpr,marker='.',label=\"train AUC =\"+str(auc(test_fpr, test_tpr)))\n",
    "plt.plot([0, 1], [0, 1], linestyle='--',label='straight line')\n",
    "plt.legend()\n",
    "plt.xlabel(\"FPR\")\n",
    "plt.ylabel(\"TPR\")\n",
    "plt.title(\"ROC PLOTS\")\n",
    "plt.grid()\n",
    "plt.show()"
   ]
  },
  {
   "cell_type": "code",
   "execution_count": 130,
   "metadata": {},
   "outputs": [
    {
     "name": "stdout",
     "output_type": "stream",
     "text": [
      "the maximum value of tpr*(1-fpr): 0.7126490180055798 ------> for Threshold: 0.788\n",
      "confusion matrix using train data:\n",
      "[[ 2374   277]\n",
      " [ 3803 14546]]\n"
     ]
    },
    {
     "data": {
      "image/png": "[encoded data removed]",
      "text/plain": [
       "<Figure size 432x288 with 2 Axes>"
      ]
     },
     "metadata": {
      "needs_background": "light"
     },
     "output_type": "display_data"
    }
   ],
   "source": [
    "from sklearn.metrics import confusion_matrix\n",
    "best_t = find_best_threshold(thresholds, train_fpr, train_tpr)\n",
    "print('confusion matrix using train data:')\n",
    "print(confusion_matrix(y_train,predict_with_best_t(y_trn_pred, best_t)))\n",
    "\n",
    "q=confusion_matrix(y_train,predict_with_best_t(y_trn_pred, best_t))\n",
    "import seaborn as sns\n",
    "sns.heatmap(q, annot=True, fmt=\"d\" ,linewidths=.5,xticklabels=['Negative','Positive'], yticklabels=['Negative','Positive'])\n",
    "plt.title('Confusion matrix with Train Data')\n",
    "plt.xlabel('Y True')\n",
    "plt.ylabel('Y predicted')\n",
    "plt.show()"
   ]
  },
  {
   "cell_type": "code",
   "execution_count": 131,
   "metadata": {},
   "outputs": [
    {
     "name": "stdout",
     "output_type": "stream",
     "text": [
      "confusion matrix using test data:\n",
      "[[1220  211]\n",
      " [1726 5843]]\n"
     ]
    },
    {
     "data": {
      "image/png": "[encoded data removed]",
      "text/plain": [
       "<Figure size 432x288 with 2 Axes>"
      ]
     },
     "metadata": {
      "needs_background": "light"
     },
     "output_type": "display_data"
    }
   ],
   "source": [
    "print('confusion matrix using test data:')\n",
    "print(confusion_matrix(y_test,predict_with_best_t(y_tst_pred, best_t)))\n",
    "w=confusion_matrix(y_test,predict_with_best_t(y_tst_pred, best_t))\n",
    "import seaborn as sns\n",
    "sns.heatmap(w, annot=True, fmt=\"d\",linewidths=.5,xticklabels=['Negative','Positive'], yticklabels=['Negative','Positive'])\n",
    "plt.title('Confusion Matrix with Test Data')\n",
    "plt.xlabel('Y true')\n",
    "plt.ylabel('Y predicted')\n",
    "plt.show()"
   ]
  },
  {
   "cell_type": "markdown",
   "metadata": {},
   "source": [
    "### [5.2.4]  Applying RBF SVM on TFIDF W2V,<font color='red'> SET 4</font>"
   ]
  },
  {
   "cell_type": "code",
   "execution_count": 132,
   "metadata": {},
   "outputs": [],
   "source": [
    "X=preprocessed_reviews\n",
    "Y=final['Score']\n",
    "x_train=preprocessed_reviews[:21000]\n",
    "x_test=preprocessed_reviews[21000:30000]\n",
    "y_train=final['Score'][:21000]\n",
    "y_test=final['Score'][21000:30000]"
   ]
  },
  {
   "cell_type": "code",
   "execution_count": 133,
   "metadata": {},
   "outputs": [],
   "source": [
    "from sklearn.preprocessing import StandardScaler\n",
    "stand=StandardScaler(with_mean=False,with_std=False)\n",
    "tfidf_sent_vectors_train=stand.fit_transform(tfidf_sent_vectors_train)\n",
    "tfidf_sent_vectors_test=stand.transform(tfidf_sent_vectors_test)"
   ]
  },
  {
   "cell_type": "code",
   "execution_count": 134,
   "metadata": {},
   "outputs": [
    {
     "data": {
      "text/plain": [
       "((21000, 50), (9000, 50))"
      ]
     },
     "execution_count": 134,
     "metadata": {},
     "output_type": "execute_result"
    }
   ],
   "source": [
    "tfidf_sent_vectors_train.shape,tfidf_sent_vectors_test.shape"
   ]
  },
  {
   "cell_type": "code",
   "execution_count": 135,
   "metadata": {},
   "outputs": [
    {
     "name": "stderr",
     "output_type": "stream",
     "text": [
      "C:\\Users\\hp\\Anaconda3\\lib\\site-packages\\sklearn\\model_selection\\_search.py:266: UserWarning: The total space of parameters 9 is smaller than n_iter=10. Running 9 iterations. For exhaustive searches, use GridSearchCV.\n",
      "  % (grid_size, self.n_iter, grid_size), UserWarning)\n"
     ]
    }
   ],
   "source": [
    "from sklearn.model_selection import RandomizedSearchCV\n",
    "from sklearn.svm import SVC\n",
    "model6=SVC(kernel='rbf',class_weight='balanced',probability =True)\n",
    "parameters={'C':[0.0001,0.001,0.01,0.1,1,10,100,1000,10000]}\n",
    "clf6=RandomizedSearchCV(model6,parameters,cv=5,scoring='roc_auc',return_train_score=True)\n",
    "best_clf6=clf6.fit(tfidf_sent_vectors_train,y_train)"
   ]
  },
  {
   "cell_type": "code",
   "execution_count": 136,
   "metadata": {},
   "outputs": [
    {
     "data": {
      "image/png": "[encoded data removed]",
      "text/plain": [
       "<Figure size 432x288 with 1 Axes>"
      ]
     },
     "metadata": {
      "needs_background": "light"
     },
     "output_type": "display_data"
    }
   ],
   "source": [
    "train_auc= clf6.cv_results_['mean_train_score']\n",
    "train_auc_std= clf6.cv_results_['std_train_score']\n",
    "cv_auc = clf6.cv_results_['mean_test_score'] \n",
    "cv_auc_std= clf6.cv_results_['std_test_score']\n",
    "\n",
    "K=np.log10([0.0001,0.001,0.01,0.1,1,10,100,1000,10000])\n",
    "plt.plot(K, train_auc, label='Train AUC')\n",
    "# this code is copied from here: https://stackoverflow.com/a/48803361/4084039\n",
    "#plt.gca().fill_between(K,train_auc - train_auc_std,train_auc + train_auc_std,alpha=0.2,color='darkblue')\n",
    "plt.scatter(K,train_auc,label='Train AUC')\n",
    "\n",
    "plt.plot(K, cv_auc, label='CV AUC')\n",
    "# this code is copied from here: https://stackoverflow.com/a/48803361/4084039\n",
    "#plt.gca().fill_between(K,cv_auc - cv_auc_std,cv_auc + cv_auc_std,alpha=0.2,color='darkorange')\n",
    "plt.scatter(K,cv_auc,label='Train AUC')\n",
    "plt.legend()\n",
    "plt.xlabel(\"C: hyperparameter\")\n",
    "plt.ylabel(\"AUC\")\n",
    "plt.title(\"ERROR PLOTS\")\n",
    "plt.grid()\n",
    "plt.show()"
   ]
  },
  {
   "cell_type": "code",
   "execution_count": 137,
   "metadata": {},
   "outputs": [
    {
     "name": "stdout",
     "output_type": "stream",
     "text": [
      "100\n"
     ]
    }
   ],
   "source": [
    "bestC6=clf6.best_params_['C']\n",
    "print(bestC6)"
   ]
  },
  {
   "cell_type": "code",
   "execution_count": 138,
   "metadata": {},
   "outputs": [
    {
     "name": "stdout",
     "output_type": "stream",
     "text": [
      "SVC(C=100, cache_size=200, class_weight='balanced', coef0=0.0,\n",
      "    decision_function_shape='ovr', degree=3, gamma='auto_deprecated',\n",
      "    kernel='rbf', max_iter=-1, probability=True, random_state=None,\n",
      "    shrinking=True, tol=0.001, verbose=False)\n",
      "0.8733590404569598\n"
     ]
    },
    {
     "data": {
      "image/png": "[encoded data removed]",
      "text/plain": [
       "<Figure size 432x288 with 1 Axes>"
      ]
     },
     "metadata": {
      "needs_background": "light"
     },
     "output_type": "display_data"
    }
   ],
   "source": [
    "model6=SVC(kernel='rbf',C=bestC6,class_weight='balanced',probability =True)\n",
    "model6.fit(tfidf_sent_vectors_train, y_train)\n",
    "y_trn_pred=model6.predict(tfidf_sent_vectors_train)\n",
    "y_tst_pred=model6.predict(tfidf_sent_vectors_test)\n",
    "print(clf6.best_estimator_)\n",
    "print(clf6.score(tfidf_sent_vectors_test, y_test))\n",
    "\n",
    "# roc_auc_score(y_true, y_score) the 2nd parameter should be probability estimates of the positive class\n",
    "# not the predicted outputs\n",
    "\n",
    "train_fpr, train_tpr, thresholds = roc_curve(y_train, model6.predict_proba(tfidf_sent_vectors_train)[:,1])\n",
    "test_fpr, test_tpr, thresholds = roc_curve(y_test, model6.predict_proba(tfidf_sent_vectors_test)[:,1])\n",
    "\n",
    "plt.plot(train_fpr, train_tpr,marker='.',label=\"train AUC =\"+str(auc(train_fpr, train_tpr)))\n",
    "plt.plot(test_fpr, test_tpr,marker='.',label=\"train AUC =\"+str(auc(test_fpr, test_tpr)))\n",
    "plt.plot([0, 1], [0, 1], linestyle='--',label='straight line')\n",
    "plt.legend()\n",
    "plt.xlabel(\"fpr\")\n",
    "plt.ylabel(\"tpr\")\n",
    "plt.title(\"ROC PLOTS\")\n",
    "plt.grid()\n",
    "plt.show()"
   ]
  },
  {
   "cell_type": "code",
   "execution_count": 139,
   "metadata": {},
   "outputs": [
    {
     "name": "stdout",
     "output_type": "stream",
     "text": [
      "the maximum value of tpr*(1-fpr): 0.6928133159992211 ------> for Threshold: 0.804\n",
      "confusion matrix using train data:\n",
      "[[ 2335   316]\n",
      " [ 4022 14327]]\n"
     ]
    },
    {
     "data": {
      "image/png": "[encoded data removed]",
      "text/plain": [
       "<Figure size 432x288 with 2 Axes>"
      ]
     },
     "metadata": {
      "needs_background": "light"
     },
     "output_type": "display_data"
    }
   ],
   "source": [
    "from sklearn.metrics import confusion_matrix\n",
    "best_t = find_best_threshold(thresholds, train_fpr, train_tpr)\n",
    "print('confusion matrix using train data:')\n",
    "print(confusion_matrix(y_train,predict_with_best_t(y_trn_pred, best_t)))\n",
    "\n",
    "q=confusion_matrix(y_train,predict_with_best_t(y_trn_pred, best_t))\n",
    "import seaborn as sns\n",
    "sns.heatmap(q, annot=True, fmt=\"d\" ,linewidths=.5,xticklabels=['Negative','Positive'], yticklabels=['Negative','Positive'])\n",
    "plt.title('Confusion matrix with Train Data')\n",
    "plt.xlabel('Y True')\n",
    "plt.ylabel('Y predicted')\n",
    "plt.show()"
   ]
  },
  {
   "cell_type": "code",
   "execution_count": 140,
   "metadata": {},
   "outputs": [
    {
     "name": "stdout",
     "output_type": "stream",
     "text": [
      "confusion matrix using test data:\n",
      "[[1191  240]\n",
      " [1778 5791]]\n"
     ]
    },
    {
     "data": {
      "image/png": "[encoded data removed]",
      "text/plain": [
       "<Figure size 432x288 with 2 Axes>"
      ]
     },
     "metadata": {
      "needs_background": "light"
     },
     "output_type": "display_data"
    }
   ],
   "source": [
    "print('confusion matrix using test data:')\n",
    "print(confusion_matrix(y_test,predict_with_best_t(y_tst_pred, best_t)))\n",
    "w=confusion_matrix(y_test,predict_with_best_t(y_tst_pred, best_t))\n",
    "import seaborn as sns\n",
    "sns.heatmap(w, annot=True, fmt=\"d\",linewidths=.5,xticklabels=['Negative','Positive'], yticklabels=['Negative','Positive'])\n",
    "plt.title('Confusion Matrix with Test Data')\n",
    "plt.xlabel('Y true')\n",
    "plt.ylabel('Y predicted')\n",
    "plt.show()"
   ]
  },
  {
   "cell_type": "markdown",
   "metadata": {},
   "source": [
    "# [6] Conclusions"
   ]
  },
  {
   "cell_type": "code",
   "execution_count": 71,
   "metadata": {},
   "outputs": [
    {
     "name": "stdout",
     "output_type": "stream",
     "text": [
      "+-------------------------+--------+----------------+-------+\n",
      "|        vectorizer       | kernel | Hyperparameter |  AUC  |\n",
      "+-------------------------+--------+----------------+-------+\n",
      "|           BOW           | linear |      0.01      |  0.98 |\n",
      "| Feature Engineering_BOW | linear |     1e-05      |  0.94 |\n",
      "|          TFIDF          | linear |     1e-05      | 0.989 |\n",
      "|         AVG_W2V         | linear |     0.0001     | 0.866 |\n",
      "|        TFIDF_W2V        | linear |     0.001      | 0.846 |\n",
      "|           BOW           |  RBF   |       10       | 0.891 |\n",
      "|          TFIDF          |  RBF   |      100       | 0.917 |\n",
      "|         AVG_W2V         |  RBF   |      100       | 0.915 |\n",
      "|        TFIDF_W2V        |  RBF   |      100       | 0.905 |\n",
      "+-------------------------+--------+----------------+-------+\n"
     ]
    }
   ],
   "source": [
    "from prettytable import PrettyTable\n",
    "x = PrettyTable()\n",
    "x.field_names=['vectorizer','kernel','Hyperparameter','AUC']\n",
    "x.add_row(['BOW','linear',0.01,0.98])\n",
    "x.add_row(['Feature Engineering_BOW','linear',0.00001,0.94])\n",
    "x.add_row(['TFIDF','linear',0.00001,0.989])\n",
    "x.add_row(['AVG_W2V','linear',0.0001,0.866])\n",
    "x.add_row(['TFIDF_W2V','linear',0.001,0.846])\n",
    "x.add_row(['BOW','RBF',10,0.891])\n",
    "x.add_row(['TFIDF','RBF',100,0.917])\n",
    "x.add_row(['AVG_W2V','RBF',100,0.915])\n",
    "x.add_row(['TFIDF_W2V','RBF',100,0.905])\n",
    "\n",
    "print(x)"
   ]
  },
  {
   "cell_type": "markdown",
   "metadata": {},
   "source": [
    "## After the changes told by instructor"
   ]
  },
  {
   "cell_type": "code",
   "execution_count": 141,
   "metadata": {},
   "outputs": [
    {
     "name": "stdout",
     "output_type": "stream",
     "text": [
      "+-------------------------+--------+----------------+-------+\n",
      "|        vectorizer       | kernel | Hyperparameter |  AUC  |\n",
      "+-------------------------+--------+----------------+-------+\n",
      "|           BOW           | linear |     0.0001     | 0.975 |\n",
      "| Feature Engineering_BOW | linear |     1e-05      |  0.95 |\n",
      "|          TFIDF          | linear |     0.001      | 0.992 |\n",
      "|         AVG_W2V         | linear |     0.0001     |  0.87 |\n",
      "|        TFIDF_W2V        | linear |     1e-05      |  0.84 |\n",
      "|           BOW           |  RBF   |       10       |  0.94 |\n",
      "|          TFIDF          |  RBF   |      100       | 0.917 |\n",
      "|         AVG_W2V         |  RBF   |      100       | 0.915 |\n",
      "|        TFIDF_W2V        |  RBF   |      100       | 0.905 |\n",
      "+-------------------------+--------+----------------+-------+\n"
     ]
    }
   ],
   "source": [
    "from prettytable import PrettyTable\n",
    "x = PrettyTable()\n",
    "x.field_names=['vectorizer','kernel','Hyperparameter','AUC']\n",
    "x.add_row(['BOW','linear',0.0001,0.975])\n",
    "x.add_row(['Feature Engineering_BOW','linear',0.00001,0.95])\n",
    "x.add_row(['TFIDF','linear',0.001,0.992])\n",
    "x.add_row(['AVG_W2V','linear',0.0001,0.870])\n",
    "x.add_row(['TFIDF_W2V','linear',0.00001,0.84])\n",
    "x.add_row(['BOW','RBF',10,0.94])\n",
    "x.add_row(['TFIDF','RBF',100,0.917])\n",
    "x.add_row(['AVG_W2V','RBF',100,0.915])\n",
    "x.add_row(['TFIDF_W2V','RBF',100,0.905])\n",
    "\n",
    "print(x)"
   ]
  },
  {
   "cell_type": "markdown",
   "metadata": {},
   "source": [
    "**Observation:**\n",
    " * performance of the scores has been slightly increased."
   ]
  },
  {
   "cell_type": "code",
   "execution_count": null,
   "metadata": {},
   "outputs": [],
   "source": []
  }
 ],
 "metadata": {
  "kernelspec": {
   "display_name": "Python 3",
   "language": "python",
   "name": "python3"
  },
  "language_info": {
   "codemirror_mode": {
    "name": "ipython",
    "version": 3
   },
   "file_extension": ".py",
   "mimetype": "text/x-python",
   "name": "python",
   "nbconvert_exporter": "python",
   "pygments_lexer": "ipython3",
   "version": "3.7.3"
  }
 },
 "nbformat": 4,
 "nbformat_minor": 2
}
